{
 "cells": [],
 "metadata": {
  "kernelspec": {
   "display_name": "dataglowup-43-lS5aQOXC-py3.12",
   "language": "python",
   "name": "python3"
  },
  "language_info": {
   "name": "python",
   "version": "3.12.1"
  }
 },
 "nbformat": 4,
 "nbformat_minor": 5
}
