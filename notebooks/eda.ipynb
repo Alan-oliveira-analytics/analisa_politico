{
 "cells": [
  {
   "cell_type": "markdown",
   "id": "0cf00358",
   "metadata": {},
   "source": [
    "Objetivo:\n",
    "- Explorar os dados disponíveis\n",
    "- Ter uma ideia das possibilidades para o Dashboard interativo\n",
    "- Análise gráfica"
   ]
  },
  {
   "cell_type": "markdown",
   "id": "4318bab7",
   "metadata": {},
   "source": [
    "# Importando Bibliotecas"
   ]
  },
  {
   "cell_type": "code",
   "execution_count": 21,
   "id": "3418c829",
   "metadata": {},
   "outputs": [],
   "source": [
    "import pandas as pd\n",
    "import numpy as np\n",
    "\n",
    "import matplotlib.pyplot as plt\n",
    "import plotly.express as px\n",
    "import seaborn as sns\n",
    "import nbformat"
   ]
  },
  {
   "cell_type": "code",
   "execution_count": 22,
   "id": "49029d55",
   "metadata": {},
   "outputs": [],
   "source": [
    "pd.set_option('display.max_columns', None)"
   ]
  },
  {
   "cell_type": "markdown",
   "id": "f786c891",
   "metadata": {},
   "source": [
    "# Lendo Base"
   ]
  },
  {
   "cell_type": "code",
   "execution_count": 23,
   "id": "78319b01",
   "metadata": {},
   "outputs": [],
   "source": [
    "df = pd.read_csv('../data/df_deputados.csv')\n",
    "df.drop(columns=['Unnamed: 0'], inplace=True)"
   ]
  },
  {
   "cell_type": "code",
   "execution_count": 24,
   "id": "48a35da2",
   "metadata": {},
   "outputs": [
    {
     "data": {
      "text/html": [
       "<div>\n",
       "<style scoped>\n",
       "    .dataframe tbody tr th:only-of-type {\n",
       "        vertical-align: middle;\n",
       "    }\n",
       "\n",
       "    .dataframe tbody tr th {\n",
       "        vertical-align: top;\n",
       "    }\n",
       "\n",
       "    .dataframe thead th {\n",
       "        text-align: right;\n",
       "    }\n",
       "</style>\n",
       "<table border=\"1\" class=\"dataframe\">\n",
       "  <thead>\n",
       "    <tr style=\"text-align: right;\">\n",
       "      <th></th>\n",
       "      <th>id</th>\n",
       "      <th>nome</th>\n",
       "      <th>siglaPartido</th>\n",
       "      <th>siglaUf</th>\n",
       "      <th>idLegislatura</th>\n",
       "      <th>urlFoto</th>\n",
       "      <th>email</th>\n",
       "      <th>nomeCivil</th>\n",
       "      <th>cpf</th>\n",
       "      <th>sexo</th>\n",
       "      <th>dataNascimento</th>\n",
       "      <th>ufNascimento</th>\n",
       "      <th>municipioNascimento</th>\n",
       "      <th>escolaridade</th>\n",
       "      <th>ano</th>\n",
       "      <th>mes</th>\n",
       "      <th>tipoDespesa</th>\n",
       "      <th>codDocumento</th>\n",
       "      <th>tipoDocumento</th>\n",
       "      <th>codTipoDocumento</th>\n",
       "      <th>dataDocumento</th>\n",
       "      <th>numDocumento</th>\n",
       "      <th>valorDocumento</th>\n",
       "      <th>urlDocumento</th>\n",
       "      <th>nomeFornecedor</th>\n",
       "      <th>cnpjCpfFornecedor</th>\n",
       "      <th>valorLiquido</th>\n",
       "      <th>valorGlosa</th>\n",
       "      <th>numRessarcimento</th>\n",
       "      <th>codLote</th>\n",
       "      <th>parcela</th>\n",
       "      <th>mes_nome</th>\n",
       "    </tr>\n",
       "  </thead>\n",
       "  <tbody>\n",
       "    <tr>\n",
       "      <th>0</th>\n",
       "      <td>204379</td>\n",
       "      <td>Acácio Favacho</td>\n",
       "      <td>MDB</td>\n",
       "      <td>AP</td>\n",
       "      <td>57</td>\n",
       "      <td>https://www.camara.leg.br/internet/deputado/ba...</td>\n",
       "      <td>dep.acaciofavacho@camara.leg.br</td>\n",
       "      <td>ACÁCIO DA SILVA FAVACHO NETO</td>\n",
       "      <td>74287028287</td>\n",
       "      <td>M</td>\n",
       "      <td>1983-09-28</td>\n",
       "      <td>AP</td>\n",
       "      <td>Macapá</td>\n",
       "      <td>Superior</td>\n",
       "      <td>2024</td>\n",
       "      <td>12</td>\n",
       "      <td>COMBUSTÍVEIS E LUBRIFICANTES.</td>\n",
       "      <td>7850706</td>\n",
       "      <td>Nota Fiscal Eletrônica</td>\n",
       "      <td>4</td>\n",
       "      <td>2024-12-18T09:35:16</td>\n",
       "      <td>441145</td>\n",
       "      <td>329.11</td>\n",
       "      <td>http://www.camara.leg.br/cota-parlamentar/nota...</td>\n",
       "      <td>031 - 302 NORTE - CASCOL COMBUSTIVEIS PARA VEI...</td>\n",
       "      <td>3.065970e+11</td>\n",
       "      <td>329.11</td>\n",
       "      <td>0.0</td>\n",
       "      <td>NaN</td>\n",
       "      <td>2100003</td>\n",
       "      <td>0</td>\n",
       "      <td>Dezembro</td>\n",
       "    </tr>\n",
       "    <tr>\n",
       "      <th>1</th>\n",
       "      <td>204379</td>\n",
       "      <td>Acácio Favacho</td>\n",
       "      <td>MDB</td>\n",
       "      <td>AP</td>\n",
       "      <td>57</td>\n",
       "      <td>https://www.camara.leg.br/internet/deputado/ba...</td>\n",
       "      <td>dep.acaciofavacho@camara.leg.br</td>\n",
       "      <td>ACÁCIO DA SILVA FAVACHO NETO</td>\n",
       "      <td>74287028287</td>\n",
       "      <td>M</td>\n",
       "      <td>1983-09-28</td>\n",
       "      <td>AP</td>\n",
       "      <td>Macapá</td>\n",
       "      <td>Superior</td>\n",
       "      <td>2024</td>\n",
       "      <td>12</td>\n",
       "      <td>COMBUSTÍVEIS E LUBRIFICANTES.</td>\n",
       "      <td>7851695</td>\n",
       "      <td>Nota Fiscal Eletrônica</td>\n",
       "      <td>4</td>\n",
       "      <td>2024-12-21T18:43:23</td>\n",
       "      <td>35728</td>\n",
       "      <td>291.05</td>\n",
       "      <td>http://www.camara.leg.br/cota-parlamentar/nota...</td>\n",
       "      <td>AUTO POSTO 303 NORTE LTDA</td>\n",
       "      <td>3.819421e+13</td>\n",
       "      <td>291.05</td>\n",
       "      <td>0.0</td>\n",
       "      <td>NaN</td>\n",
       "      <td>2100587</td>\n",
       "      <td>0</td>\n",
       "      <td>Dezembro</td>\n",
       "    </tr>\n",
       "    <tr>\n",
       "      <th>2</th>\n",
       "      <td>204379</td>\n",
       "      <td>Acácio Favacho</td>\n",
       "      <td>MDB</td>\n",
       "      <td>AP</td>\n",
       "      <td>57</td>\n",
       "      <td>https://www.camara.leg.br/internet/deputado/ba...</td>\n",
       "      <td>dep.acaciofavacho@camara.leg.br</td>\n",
       "      <td>ACÁCIO DA SILVA FAVACHO NETO</td>\n",
       "      <td>74287028287</td>\n",
       "      <td>M</td>\n",
       "      <td>1983-09-28</td>\n",
       "      <td>AP</td>\n",
       "      <td>Macapá</td>\n",
       "      <td>Superior</td>\n",
       "      <td>2024</td>\n",
       "      <td>12</td>\n",
       "      <td>COMBUSTÍVEIS E LUBRIFICANTES.</td>\n",
       "      <td>7851734</td>\n",
       "      <td>Nota Fiscal Eletrônica</td>\n",
       "      <td>4</td>\n",
       "      <td>2024-12-09T19:46:34</td>\n",
       "      <td>38867</td>\n",
       "      <td>275.97</td>\n",
       "      <td>http://www.camara.leg.br/cota-parlamentar/nota...</td>\n",
       "      <td>AUTO POSTO 303 NORTE LTDA</td>\n",
       "      <td>3.819421e+13</td>\n",
       "      <td>275.97</td>\n",
       "      <td>0.0</td>\n",
       "      <td>NaN</td>\n",
       "      <td>2100587</td>\n",
       "      <td>0</td>\n",
       "      <td>Dezembro</td>\n",
       "    </tr>\n",
       "    <tr>\n",
       "      <th>3</th>\n",
       "      <td>204379</td>\n",
       "      <td>Acácio Favacho</td>\n",
       "      <td>MDB</td>\n",
       "      <td>AP</td>\n",
       "      <td>57</td>\n",
       "      <td>https://www.camara.leg.br/internet/deputado/ba...</td>\n",
       "      <td>dep.acaciofavacho@camara.leg.br</td>\n",
       "      <td>ACÁCIO DA SILVA FAVACHO NETO</td>\n",
       "      <td>74287028287</td>\n",
       "      <td>M</td>\n",
       "      <td>1983-09-28</td>\n",
       "      <td>AP</td>\n",
       "      <td>Macapá</td>\n",
       "      <td>Superior</td>\n",
       "      <td>2024</td>\n",
       "      <td>12</td>\n",
       "      <td>COMBUSTÍVEIS E LUBRIFICANTES.</td>\n",
       "      <td>7851725</td>\n",
       "      <td>Nota Fiscal Eletrônica</td>\n",
       "      <td>4</td>\n",
       "      <td>2024-12-27T13:27:50</td>\n",
       "      <td>40110</td>\n",
       "      <td>230.67</td>\n",
       "      <td>http://www.camara.leg.br/cota-parlamentar/nota...</td>\n",
       "      <td>AUTO POSTO 303 NORTE LTDA</td>\n",
       "      <td>3.819421e+13</td>\n",
       "      <td>230.67</td>\n",
       "      <td>0.0</td>\n",
       "      <td>NaN</td>\n",
       "      <td>2100587</td>\n",
       "      <td>0</td>\n",
       "      <td>Dezembro</td>\n",
       "    </tr>\n",
       "    <tr>\n",
       "      <th>4</th>\n",
       "      <td>204379</td>\n",
       "      <td>Acácio Favacho</td>\n",
       "      <td>MDB</td>\n",
       "      <td>AP</td>\n",
       "      <td>57</td>\n",
       "      <td>https://www.camara.leg.br/internet/deputado/ba...</td>\n",
       "      <td>dep.acaciofavacho@camara.leg.br</td>\n",
       "      <td>ACÁCIO DA SILVA FAVACHO NETO</td>\n",
       "      <td>74287028287</td>\n",
       "      <td>M</td>\n",
       "      <td>1983-09-28</td>\n",
       "      <td>AP</td>\n",
       "      <td>Macapá</td>\n",
       "      <td>Superior</td>\n",
       "      <td>2024</td>\n",
       "      <td>12</td>\n",
       "      <td>COMBUSTÍVEIS E LUBRIFICANTES.</td>\n",
       "      <td>7846605</td>\n",
       "      <td>Nota Fiscal Eletrônica</td>\n",
       "      <td>4</td>\n",
       "      <td>2024-12-07T10:49:50</td>\n",
       "      <td>44529</td>\n",
       "      <td>250.04</td>\n",
       "      <td>http://www.camara.leg.br/cota-parlamentar/nota...</td>\n",
       "      <td>AUTO POSTO 303 NORTE LTDA</td>\n",
       "      <td>3.819421e+13</td>\n",
       "      <td>250.04</td>\n",
       "      <td>0.0</td>\n",
       "      <td>NaN</td>\n",
       "      <td>2097817</td>\n",
       "      <td>0</td>\n",
       "      <td>Dezembro</td>\n",
       "    </tr>\n",
       "  </tbody>\n",
       "</table>\n",
       "</div>"
      ],
      "text/plain": [
       "       id            nome siglaPartido siglaUf  idLegislatura  \\\n",
       "0  204379  Acácio Favacho          MDB      AP             57   \n",
       "1  204379  Acácio Favacho          MDB      AP             57   \n",
       "2  204379  Acácio Favacho          MDB      AP             57   \n",
       "3  204379  Acácio Favacho          MDB      AP             57   \n",
       "4  204379  Acácio Favacho          MDB      AP             57   \n",
       "\n",
       "                                             urlFoto  \\\n",
       "0  https://www.camara.leg.br/internet/deputado/ba...   \n",
       "1  https://www.camara.leg.br/internet/deputado/ba...   \n",
       "2  https://www.camara.leg.br/internet/deputado/ba...   \n",
       "3  https://www.camara.leg.br/internet/deputado/ba...   \n",
       "4  https://www.camara.leg.br/internet/deputado/ba...   \n",
       "\n",
       "                             email                     nomeCivil          cpf  \\\n",
       "0  dep.acaciofavacho@camara.leg.br  ACÁCIO DA SILVA FAVACHO NETO  74287028287   \n",
       "1  dep.acaciofavacho@camara.leg.br  ACÁCIO DA SILVA FAVACHO NETO  74287028287   \n",
       "2  dep.acaciofavacho@camara.leg.br  ACÁCIO DA SILVA FAVACHO NETO  74287028287   \n",
       "3  dep.acaciofavacho@camara.leg.br  ACÁCIO DA SILVA FAVACHO NETO  74287028287   \n",
       "4  dep.acaciofavacho@camara.leg.br  ACÁCIO DA SILVA FAVACHO NETO  74287028287   \n",
       "\n",
       "  sexo dataNascimento ufNascimento municipioNascimento escolaridade   ano  \\\n",
       "0    M     1983-09-28           AP              Macapá     Superior  2024   \n",
       "1    M     1983-09-28           AP              Macapá     Superior  2024   \n",
       "2    M     1983-09-28           AP              Macapá     Superior  2024   \n",
       "3    M     1983-09-28           AP              Macapá     Superior  2024   \n",
       "4    M     1983-09-28           AP              Macapá     Superior  2024   \n",
       "\n",
       "   mes                    tipoDespesa  codDocumento           tipoDocumento  \\\n",
       "0   12  COMBUSTÍVEIS E LUBRIFICANTES.       7850706  Nota Fiscal Eletrônica   \n",
       "1   12  COMBUSTÍVEIS E LUBRIFICANTES.       7851695  Nota Fiscal Eletrônica   \n",
       "2   12  COMBUSTÍVEIS E LUBRIFICANTES.       7851734  Nota Fiscal Eletrônica   \n",
       "3   12  COMBUSTÍVEIS E LUBRIFICANTES.       7851725  Nota Fiscal Eletrônica   \n",
       "4   12  COMBUSTÍVEIS E LUBRIFICANTES.       7846605  Nota Fiscal Eletrônica   \n",
       "\n",
       "   codTipoDocumento        dataDocumento numDocumento  valorDocumento  \\\n",
       "0                 4  2024-12-18T09:35:16       441145          329.11   \n",
       "1                 4  2024-12-21T18:43:23        35728          291.05   \n",
       "2                 4  2024-12-09T19:46:34        38867          275.97   \n",
       "3                 4  2024-12-27T13:27:50        40110          230.67   \n",
       "4                 4  2024-12-07T10:49:50        44529          250.04   \n",
       "\n",
       "                                        urlDocumento  \\\n",
       "0  http://www.camara.leg.br/cota-parlamentar/nota...   \n",
       "1  http://www.camara.leg.br/cota-parlamentar/nota...   \n",
       "2  http://www.camara.leg.br/cota-parlamentar/nota...   \n",
       "3  http://www.camara.leg.br/cota-parlamentar/nota...   \n",
       "4  http://www.camara.leg.br/cota-parlamentar/nota...   \n",
       "\n",
       "                                      nomeFornecedor  cnpjCpfFornecedor  \\\n",
       "0  031 - 302 NORTE - CASCOL COMBUSTIVEIS PARA VEI...       3.065970e+11   \n",
       "1                          AUTO POSTO 303 NORTE LTDA       3.819421e+13   \n",
       "2                          AUTO POSTO 303 NORTE LTDA       3.819421e+13   \n",
       "3                          AUTO POSTO 303 NORTE LTDA       3.819421e+13   \n",
       "4                          AUTO POSTO 303 NORTE LTDA       3.819421e+13   \n",
       "\n",
       "   valorLiquido  valorGlosa  numRessarcimento  codLote  parcela  mes_nome  \n",
       "0        329.11         0.0               NaN  2100003        0  Dezembro  \n",
       "1        291.05         0.0               NaN  2100587        0  Dezembro  \n",
       "2        275.97         0.0               NaN  2100587        0  Dezembro  \n",
       "3        230.67         0.0               NaN  2100587        0  Dezembro  \n",
       "4        250.04         0.0               NaN  2097817        0  Dezembro  "
      ]
     },
     "execution_count": 24,
     "metadata": {},
     "output_type": "execute_result"
    }
   ],
   "source": [
    "df.head()"
   ]
  },
  {
   "cell_type": "code",
   "execution_count": null,
   "id": "e00110ad",
   "metadata": {},
   "outputs": [
    {
     "data": {
      "text/html": [
       "<div>\n",
       "<style scoped>\n",
       "    .dataframe tbody tr th:only-of-type {\n",
       "        vertical-align: middle;\n",
       "    }\n",
       "\n",
       "    .dataframe tbody tr th {\n",
       "        vertical-align: top;\n",
       "    }\n",
       "\n",
       "    .dataframe thead th {\n",
       "        text-align: right;\n",
       "    }\n",
       "</style>\n",
       "<table border=\"1\" class=\"dataframe\">\n",
       "  <thead>\n",
       "    <tr style=\"text-align: right;\">\n",
       "      <th></th>\n",
       "      <th>id</th>\n",
       "      <th>nome</th>\n",
       "      <th>siglaPartido</th>\n",
       "      <th>siglaUf</th>\n",
       "      <th>idLegislatura</th>\n",
       "      <th>urlFoto</th>\n",
       "      <th>email</th>\n",
       "      <th>nomeCivil</th>\n",
       "      <th>cpf</th>\n",
       "      <th>sexo</th>\n",
       "      <th>dataNascimento</th>\n",
       "      <th>ufNascimento</th>\n",
       "      <th>municipioNascimento</th>\n",
       "      <th>escolaridade</th>\n",
       "      <th>ano</th>\n",
       "      <th>mes</th>\n",
       "      <th>tipoDespesa</th>\n",
       "      <th>codDocumento</th>\n",
       "      <th>tipoDocumento</th>\n",
       "      <th>codTipoDocumento</th>\n",
       "      <th>dataDocumento</th>\n",
       "      <th>numDocumento</th>\n",
       "      <th>valorDocumento</th>\n",
       "      <th>urlDocumento</th>\n",
       "      <th>nomeFornecedor</th>\n",
       "      <th>cnpjCpfFornecedor</th>\n",
       "      <th>valorLiquido</th>\n",
       "      <th>valorGlosa</th>\n",
       "      <th>numRessarcimento</th>\n",
       "      <th>codLote</th>\n",
       "      <th>parcela</th>\n",
       "      <th>mes_nome</th>\n",
       "    </tr>\n",
       "  </thead>\n",
       "  <tbody>\n",
       "    <tr>\n",
       "      <th>7645</th>\n",
       "      <td>220552</td>\n",
       "      <td>Zucco</td>\n",
       "      <td>PL</td>\n",
       "      <td>RS</td>\n",
       "      <td>57</td>\n",
       "      <td>https://www.camara.leg.br/internet/deputado/ba...</td>\n",
       "      <td>dep.zucco@camara.leg.br</td>\n",
       "      <td>LUCIANO LORENZINI ZUCCO</td>\n",
       "      <td>72434325068</td>\n",
       "      <td>M</td>\n",
       "      <td>1974-03-09</td>\n",
       "      <td>RS</td>\n",
       "      <td>Alegrete</td>\n",
       "      <td>Mestrado</td>\n",
       "      <td>2025</td>\n",
       "      <td>1</td>\n",
       "      <td>DIVULGAÇÃO DA ATIVIDADE PARLAMENTAR.</td>\n",
       "      <td>7856500</td>\n",
       "      <td>Nota Fiscal</td>\n",
       "      <td>0</td>\n",
       "      <td>2025-01-03T00:00:00</td>\n",
       "      <td>101402769</td>\n",
       "      <td>500.55</td>\n",
       "      <td>https://www.camara.leg.br/cota-parlamentar/doc...</td>\n",
       "      <td>FACEBOOK SERVIÇOS ONLINE DO BRASIL LTDA</td>\n",
       "      <td>1.334702e+13</td>\n",
       "      <td>500.55</td>\n",
       "      <td>0.0</td>\n",
       "      <td>NaN</td>\n",
       "      <td>2103417</td>\n",
       "      <td>0</td>\n",
       "      <td>Janeiro</td>\n",
       "    </tr>\n",
       "    <tr>\n",
       "      <th>7646</th>\n",
       "      <td>220552</td>\n",
       "      <td>Zucco</td>\n",
       "      <td>PL</td>\n",
       "      <td>RS</td>\n",
       "      <td>57</td>\n",
       "      <td>https://www.camara.leg.br/internet/deputado/ba...</td>\n",
       "      <td>dep.zucco@camara.leg.br</td>\n",
       "      <td>LUCIANO LORENZINI ZUCCO</td>\n",
       "      <td>72434325068</td>\n",
       "      <td>M</td>\n",
       "      <td>1974-03-09</td>\n",
       "      <td>RS</td>\n",
       "      <td>Alegrete</td>\n",
       "      <td>Mestrado</td>\n",
       "      <td>2024</td>\n",
       "      <td>12</td>\n",
       "      <td>LOCAÇÃO OU FRETAMENTO DE VEÍCULOS AUTOMOTORES</td>\n",
       "      <td>7848020</td>\n",
       "      <td>Recibos/Outros</td>\n",
       "      <td>1</td>\n",
       "      <td>2024-12-10T00:00:00</td>\n",
       "      <td>37734</td>\n",
       "      <td>5700.00</td>\n",
       "      <td>https://www.camara.leg.br/cota-parlamentar/doc...</td>\n",
       "      <td>AUTO LOCADORA LINCK E MELLO LTDA</td>\n",
       "      <td>9.146749e+12</td>\n",
       "      <td>5700.00</td>\n",
       "      <td>0.0</td>\n",
       "      <td>NaN</td>\n",
       "      <td>2098582</td>\n",
       "      <td>0</td>\n",
       "      <td>Dezembro</td>\n",
       "    </tr>\n",
       "    <tr>\n",
       "      <th>7647</th>\n",
       "      <td>220552</td>\n",
       "      <td>Zucco</td>\n",
       "      <td>PL</td>\n",
       "      <td>RS</td>\n",
       "      <td>57</td>\n",
       "      <td>https://www.camara.leg.br/internet/deputado/ba...</td>\n",
       "      <td>dep.zucco@camara.leg.br</td>\n",
       "      <td>LUCIANO LORENZINI ZUCCO</td>\n",
       "      <td>72434325068</td>\n",
       "      <td>M</td>\n",
       "      <td>1974-03-09</td>\n",
       "      <td>RS</td>\n",
       "      <td>Alegrete</td>\n",
       "      <td>Mestrado</td>\n",
       "      <td>2024</td>\n",
       "      <td>12</td>\n",
       "      <td>PASSAGEM AÉREA - SIGEPA</td>\n",
       "      <td>297852</td>\n",
       "      <td>Nota Fiscal</td>\n",
       "      <td>0</td>\n",
       "      <td>2024-12-13T12:00:00</td>\n",
       "      <td>9572211652525</td>\n",
       "      <td>1495.02</td>\n",
       "      <td>NaN</td>\n",
       "      <td>TAM</td>\n",
       "      <td>NaN</td>\n",
       "      <td>1495.02</td>\n",
       "      <td>0.0</td>\n",
       "      <td>0.0</td>\n",
       "      <td>0</td>\n",
       "      <td>0</td>\n",
       "      <td>Dezembro</td>\n",
       "    </tr>\n",
       "    <tr>\n",
       "      <th>7648</th>\n",
       "      <td>220552</td>\n",
       "      <td>Zucco</td>\n",
       "      <td>PL</td>\n",
       "      <td>RS</td>\n",
       "      <td>57</td>\n",
       "      <td>https://www.camara.leg.br/internet/deputado/ba...</td>\n",
       "      <td>dep.zucco@camara.leg.br</td>\n",
       "      <td>LUCIANO LORENZINI ZUCCO</td>\n",
       "      <td>72434325068</td>\n",
       "      <td>M</td>\n",
       "      <td>1974-03-09</td>\n",
       "      <td>RS</td>\n",
       "      <td>Alegrete</td>\n",
       "      <td>Mestrado</td>\n",
       "      <td>2024</td>\n",
       "      <td>12</td>\n",
       "      <td>PASSAGEM AÉREA - SIGEPA</td>\n",
       "      <td>297853</td>\n",
       "      <td>Nota Fiscal</td>\n",
       "      <td>0</td>\n",
       "      <td>2024-12-13T12:00:00</td>\n",
       "      <td>9572211653143</td>\n",
       "      <td>1469.95</td>\n",
       "      <td>NaN</td>\n",
       "      <td>TAM</td>\n",
       "      <td>NaN</td>\n",
       "      <td>1469.95</td>\n",
       "      <td>0.0</td>\n",
       "      <td>0.0</td>\n",
       "      <td>0</td>\n",
       "      <td>0</td>\n",
       "      <td>Dezembro</td>\n",
       "    </tr>\n",
       "    <tr>\n",
       "      <th>7649</th>\n",
       "      <td>220552</td>\n",
       "      <td>Zucco</td>\n",
       "      <td>PL</td>\n",
       "      <td>RS</td>\n",
       "      <td>57</td>\n",
       "      <td>https://www.camara.leg.br/internet/deputado/ba...</td>\n",
       "      <td>dep.zucco@camara.leg.br</td>\n",
       "      <td>LUCIANO LORENZINI ZUCCO</td>\n",
       "      <td>72434325068</td>\n",
       "      <td>M</td>\n",
       "      <td>1974-03-09</td>\n",
       "      <td>RS</td>\n",
       "      <td>Alegrete</td>\n",
       "      <td>Mestrado</td>\n",
       "      <td>2024</td>\n",
       "      <td>12</td>\n",
       "      <td>PASSAGEM AÉREA - SIGEPA</td>\n",
       "      <td>298884</td>\n",
       "      <td>Nota Fiscal</td>\n",
       "      <td>0</td>\n",
       "      <td>2024-12-18T12:00:00</td>\n",
       "      <td>9572212232545</td>\n",
       "      <td>1469.95</td>\n",
       "      <td>NaN</td>\n",
       "      <td>TAM</td>\n",
       "      <td>NaN</td>\n",
       "      <td>1469.95</td>\n",
       "      <td>0.0</td>\n",
       "      <td>0.0</td>\n",
       "      <td>0</td>\n",
       "      <td>0</td>\n",
       "      <td>Dezembro</td>\n",
       "    </tr>\n",
       "  </tbody>\n",
       "</table>\n",
       "</div>"
      ],
      "text/plain": [
       "          id   nome siglaPartido siglaUf  idLegislatura  \\\n",
       "7645  220552  Zucco           PL      RS             57   \n",
       "7646  220552  Zucco           PL      RS             57   \n",
       "7647  220552  Zucco           PL      RS             57   \n",
       "7648  220552  Zucco           PL      RS             57   \n",
       "7649  220552  Zucco           PL      RS             57   \n",
       "\n",
       "                                                urlFoto  \\\n",
       "7645  https://www.camara.leg.br/internet/deputado/ba...   \n",
       "7646  https://www.camara.leg.br/internet/deputado/ba...   \n",
       "7647  https://www.camara.leg.br/internet/deputado/ba...   \n",
       "7648  https://www.camara.leg.br/internet/deputado/ba...   \n",
       "7649  https://www.camara.leg.br/internet/deputado/ba...   \n",
       "\n",
       "                        email                nomeCivil          cpf sexo  \\\n",
       "7645  dep.zucco@camara.leg.br  LUCIANO LORENZINI ZUCCO  72434325068    M   \n",
       "7646  dep.zucco@camara.leg.br  LUCIANO LORENZINI ZUCCO  72434325068    M   \n",
       "7647  dep.zucco@camara.leg.br  LUCIANO LORENZINI ZUCCO  72434325068    M   \n",
       "7648  dep.zucco@camara.leg.br  LUCIANO LORENZINI ZUCCO  72434325068    M   \n",
       "7649  dep.zucco@camara.leg.br  LUCIANO LORENZINI ZUCCO  72434325068    M   \n",
       "\n",
       "     dataNascimento ufNascimento municipioNascimento escolaridade   ano  mes  \\\n",
       "7645     1974-03-09           RS            Alegrete     Mestrado  2025    1   \n",
       "7646     1974-03-09           RS            Alegrete     Mestrado  2024   12   \n",
       "7647     1974-03-09           RS            Alegrete     Mestrado  2024   12   \n",
       "7648     1974-03-09           RS            Alegrete     Mestrado  2024   12   \n",
       "7649     1974-03-09           RS            Alegrete     Mestrado  2024   12   \n",
       "\n",
       "                                        tipoDespesa  codDocumento  \\\n",
       "7645           DIVULGAÇÃO DA ATIVIDADE PARLAMENTAR.       7856500   \n",
       "7646  LOCAÇÃO OU FRETAMENTO DE VEÍCULOS AUTOMOTORES       7848020   \n",
       "7647                        PASSAGEM AÉREA - SIGEPA        297852   \n",
       "7648                        PASSAGEM AÉREA - SIGEPA        297853   \n",
       "7649                        PASSAGEM AÉREA - SIGEPA        298884   \n",
       "\n",
       "       tipoDocumento  codTipoDocumento        dataDocumento   numDocumento  \\\n",
       "7645     Nota Fiscal                 0  2025-01-03T00:00:00      101402769   \n",
       "7646  Recibos/Outros                 1  2024-12-10T00:00:00          37734   \n",
       "7647     Nota Fiscal                 0  2024-12-13T12:00:00  9572211652525   \n",
       "7648     Nota Fiscal                 0  2024-12-13T12:00:00  9572211653143   \n",
       "7649     Nota Fiscal                 0  2024-12-18T12:00:00  9572212232545   \n",
       "\n",
       "      valorDocumento                                       urlDocumento  \\\n",
       "7645          500.55  https://www.camara.leg.br/cota-parlamentar/doc...   \n",
       "7646         5700.00  https://www.camara.leg.br/cota-parlamentar/doc...   \n",
       "7647         1495.02                                                NaN   \n",
       "7648         1469.95                                                NaN   \n",
       "7649         1469.95                                                NaN   \n",
       "\n",
       "                               nomeFornecedor  cnpjCpfFornecedor  \\\n",
       "7645  FACEBOOK SERVIÇOS ONLINE DO BRASIL LTDA       1.334702e+13   \n",
       "7646         AUTO LOCADORA LINCK E MELLO LTDA       9.146749e+12   \n",
       "7647                                      TAM                NaN   \n",
       "7648                                      TAM                NaN   \n",
       "7649                                      TAM                NaN   \n",
       "\n",
       "      valorLiquido  valorGlosa  numRessarcimento  codLote  parcela  mes_nome  \n",
       "7645        500.55         0.0               NaN  2103417        0   Janeiro  \n",
       "7646       5700.00         0.0               NaN  2098582        0  Dezembro  \n",
       "7647       1495.02         0.0               0.0        0        0  Dezembro  \n",
       "7648       1469.95         0.0               0.0        0        0  Dezembro  \n",
       "7649       1469.95         0.0               0.0        0        0  Dezembro  "
      ]
     },
     "execution_count": 25,
     "metadata": {},
     "output_type": "execute_result"
    }
   ],
   "source": [
    "df.tail()"
   ]
  },
  {
   "cell_type": "code",
   "execution_count": 26,
   "id": "8ccbec0d",
   "metadata": {},
   "outputs": [
    {
     "data": {
      "text/plain": [
       "Index(['id', 'nome', 'siglaPartido', 'siglaUf', 'idLegislatura', 'urlFoto',\n",
       "       'email', 'nomeCivil', 'cpf', 'sexo', 'dataNascimento', 'ufNascimento',\n",
       "       'municipioNascimento', 'escolaridade', 'ano', 'mes', 'tipoDespesa',\n",
       "       'codDocumento', 'tipoDocumento', 'codTipoDocumento', 'dataDocumento',\n",
       "       'numDocumento', 'valorDocumento', 'urlDocumento', 'nomeFornecedor',\n",
       "       'cnpjCpfFornecedor', 'valorLiquido', 'valorGlosa', 'numRessarcimento',\n",
       "       'codLote', 'parcela', 'mes_nome'],\n",
       "      dtype='object')"
      ]
     },
     "execution_count": 26,
     "metadata": {},
     "output_type": "execute_result"
    }
   ],
   "source": [
    "df.columns"
   ]
  },
  {
   "cell_type": "markdown",
   "id": "dbbf0a8c",
   "metadata": {},
   "source": [
    "# Avaliando Partidos Políticos"
   ]
  },
  {
   "cell_type": "code",
   "execution_count": 27,
   "id": "00b7c9ab",
   "metadata": {},
   "outputs": [],
   "source": [
    "df_unique_id = df.sort_values(['id']).drop_duplicates('id', keep='first')"
   ]
  },
  {
   "cell_type": "markdown",
   "id": "b38886b1",
   "metadata": {},
   "source": [
    "## Número de candidatos por Partido"
   ]
  },
  {
   "cell_type": "code",
   "execution_count": 28,
   "id": "e70eb19e",
   "metadata": {},
   "outputs": [
    {
     "data": {
      "text/html": [
       "<div>\n",
       "<style scoped>\n",
       "    .dataframe tbody tr th:only-of-type {\n",
       "        vertical-align: middle;\n",
       "    }\n",
       "\n",
       "    .dataframe tbody tr th {\n",
       "        vertical-align: top;\n",
       "    }\n",
       "\n",
       "    .dataframe thead th {\n",
       "        text-align: right;\n",
       "    }\n",
       "</style>\n",
       "<table border=\"1\" class=\"dataframe\">\n",
       "  <thead>\n",
       "    <tr style=\"text-align: right;\">\n",
       "      <th></th>\n",
       "      <th>siglaPartido</th>\n",
       "      <th>count</th>\n",
       "    </tr>\n",
       "  </thead>\n",
       "  <tbody>\n",
       "    <tr>\n",
       "      <th>0</th>\n",
       "      <td>PL</td>\n",
       "      <td>89</td>\n",
       "    </tr>\n",
       "    <tr>\n",
       "      <th>1</th>\n",
       "      <td>PT</td>\n",
       "      <td>67</td>\n",
       "    </tr>\n",
       "    <tr>\n",
       "      <th>2</th>\n",
       "      <td>UNIÃO</td>\n",
       "      <td>60</td>\n",
       "    </tr>\n",
       "    <tr>\n",
       "      <th>3</th>\n",
       "      <td>PP</td>\n",
       "      <td>49</td>\n",
       "    </tr>\n",
       "    <tr>\n",
       "      <th>4</th>\n",
       "      <td>PSD</td>\n",
       "      <td>45</td>\n",
       "    </tr>\n",
       "    <tr>\n",
       "      <th>5</th>\n",
       "      <td>REPUBLICANOS</td>\n",
       "      <td>44</td>\n",
       "    </tr>\n",
       "    <tr>\n",
       "      <th>6</th>\n",
       "      <td>MDB</td>\n",
       "      <td>44</td>\n",
       "    </tr>\n",
       "    <tr>\n",
       "      <th>7</th>\n",
       "      <td>PDT</td>\n",
       "      <td>17</td>\n",
       "    </tr>\n",
       "    <tr>\n",
       "      <th>8</th>\n",
       "      <td>PODE</td>\n",
       "      <td>15</td>\n",
       "    </tr>\n",
       "    <tr>\n",
       "      <th>9</th>\n",
       "      <td>PSB</td>\n",
       "      <td>15</td>\n",
       "    </tr>\n",
       "    <tr>\n",
       "      <th>10</th>\n",
       "      <td>PSOL</td>\n",
       "      <td>13</td>\n",
       "    </tr>\n",
       "    <tr>\n",
       "      <th>11</th>\n",
       "      <td>PSDB</td>\n",
       "      <td>13</td>\n",
       "    </tr>\n",
       "    <tr>\n",
       "      <th>12</th>\n",
       "      <td>PCdoB</td>\n",
       "      <td>8</td>\n",
       "    </tr>\n",
       "    <tr>\n",
       "      <th>13</th>\n",
       "      <td>AVANTE</td>\n",
       "      <td>8</td>\n",
       "    </tr>\n",
       "    <tr>\n",
       "      <th>14</th>\n",
       "      <td>SOLIDARIEDADE</td>\n",
       "      <td>5</td>\n",
       "    </tr>\n",
       "    <tr>\n",
       "      <th>15</th>\n",
       "      <td>NOVO</td>\n",
       "      <td>5</td>\n",
       "    </tr>\n",
       "    <tr>\n",
       "      <th>16</th>\n",
       "      <td>PRD</td>\n",
       "      <td>5</td>\n",
       "    </tr>\n",
       "    <tr>\n",
       "      <th>17</th>\n",
       "      <td>PV</td>\n",
       "      <td>4</td>\n",
       "    </tr>\n",
       "    <tr>\n",
       "      <th>18</th>\n",
       "      <td>CIDADANIA</td>\n",
       "      <td>4</td>\n",
       "    </tr>\n",
       "    <tr>\n",
       "      <th>19</th>\n",
       "      <td>REDE</td>\n",
       "      <td>1</td>\n",
       "    </tr>\n",
       "  </tbody>\n",
       "</table>\n",
       "</div>"
      ],
      "text/plain": [
       "     siglaPartido  count\n",
       "0              PL     89\n",
       "1              PT     67\n",
       "2           UNIÃO     60\n",
       "3              PP     49\n",
       "4             PSD     45\n",
       "5    REPUBLICANOS     44\n",
       "6             MDB     44\n",
       "7             PDT     17\n",
       "8            PODE     15\n",
       "9             PSB     15\n",
       "10           PSOL     13\n",
       "11           PSDB     13\n",
       "12          PCdoB      8\n",
       "13         AVANTE      8\n",
       "14  SOLIDARIEDADE      5\n",
       "15           NOVO      5\n",
       "16            PRD      5\n",
       "17             PV      4\n",
       "18      CIDADANIA      4\n",
       "19           REDE      1"
      ]
     },
     "execution_count": 28,
     "metadata": {},
     "output_type": "execute_result"
    }
   ],
   "source": [
    "candidatos_por_partido = df_unique_id['siglaPartido'].value_counts()\n",
    "candidatos_por_partido = pd.DataFrame(candidatos_por_partido).reset_index()\n",
    "candidatos_por_partido"
   ]
  },
  {
   "cell_type": "code",
   "execution_count": 29,
   "id": "31aa6ff7",
   "metadata": {},
   "outputs": [
    {
     "data": {
      "application/vnd.plotly.v1+json": {
       "config": {
        "plotlyServerURL": "https://plot.ly"
       },
       "data": [
        {
         "hovertemplate": "siglaPartido=%{x}<br>count=%{y}<extra></extra>",
         "legendgroup": "",
         "marker": {
          "color": "#636efa",
          "pattern": {
           "shape": ""
          }
         },
         "name": "",
         "orientation": "v",
         "showlegend": false,
         "textposition": "auto",
         "texttemplate": "%{y:.2s}",
         "type": "bar",
         "x": [
          "PL",
          "PT",
          "UNIÃO",
          "PP",
          "PSD",
          "REPUBLICANOS",
          "MDB",
          "PDT",
          "PODE",
          "PSB",
          "PSOL",
          "PSDB",
          "PCdoB",
          "AVANTE",
          "SOLIDARIEDADE",
          "NOVO",
          "PRD",
          "PV",
          "CIDADANIA",
          "REDE"
         ],
         "xaxis": "x",
         "y": {
          "bdata": "WUM8MS0sLBEPDw0NCAgFBQUEBAE=",
          "dtype": "i1"
         },
         "yaxis": "y"
        }
       ],
       "layout": {
        "barmode": "relative",
        "legend": {
         "tracegroupgap": 0
        },
        "template": {
         "data": {
          "bar": [
           {
            "error_x": {
             "color": "#2a3f5f"
            },
            "error_y": {
             "color": "#2a3f5f"
            },
            "marker": {
             "line": {
              "color": "#E5ECF6",
              "width": 0.5
             },
             "pattern": {
              "fillmode": "overlay",
              "size": 10,
              "solidity": 0.2
             }
            },
            "type": "bar"
           }
          ],
          "barpolar": [
           {
            "marker": {
             "line": {
              "color": "#E5ECF6",
              "width": 0.5
             },
             "pattern": {
              "fillmode": "overlay",
              "size": 10,
              "solidity": 0.2
             }
            },
            "type": "barpolar"
           }
          ],
          "carpet": [
           {
            "aaxis": {
             "endlinecolor": "#2a3f5f",
             "gridcolor": "white",
             "linecolor": "white",
             "minorgridcolor": "white",
             "startlinecolor": "#2a3f5f"
            },
            "baxis": {
             "endlinecolor": "#2a3f5f",
             "gridcolor": "white",
             "linecolor": "white",
             "minorgridcolor": "white",
             "startlinecolor": "#2a3f5f"
            },
            "type": "carpet"
           }
          ],
          "choropleth": [
           {
            "colorbar": {
             "outlinewidth": 0,
             "ticks": ""
            },
            "type": "choropleth"
           }
          ],
          "contour": [
           {
            "colorbar": {
             "outlinewidth": 0,
             "ticks": ""
            },
            "colorscale": [
             [
              0,
              "#0d0887"
             ],
             [
              0.1111111111111111,
              "#46039f"
             ],
             [
              0.2222222222222222,
              "#7201a8"
             ],
             [
              0.3333333333333333,
              "#9c179e"
             ],
             [
              0.4444444444444444,
              "#bd3786"
             ],
             [
              0.5555555555555556,
              "#d8576b"
             ],
             [
              0.6666666666666666,
              "#ed7953"
             ],
             [
              0.7777777777777778,
              "#fb9f3a"
             ],
             [
              0.8888888888888888,
              "#fdca26"
             ],
             [
              1,
              "#f0f921"
             ]
            ],
            "type": "contour"
           }
          ],
          "contourcarpet": [
           {
            "colorbar": {
             "outlinewidth": 0,
             "ticks": ""
            },
            "type": "contourcarpet"
           }
          ],
          "heatmap": [
           {
            "colorbar": {
             "outlinewidth": 0,
             "ticks": ""
            },
            "colorscale": [
             [
              0,
              "#0d0887"
             ],
             [
              0.1111111111111111,
              "#46039f"
             ],
             [
              0.2222222222222222,
              "#7201a8"
             ],
             [
              0.3333333333333333,
              "#9c179e"
             ],
             [
              0.4444444444444444,
              "#bd3786"
             ],
             [
              0.5555555555555556,
              "#d8576b"
             ],
             [
              0.6666666666666666,
              "#ed7953"
             ],
             [
              0.7777777777777778,
              "#fb9f3a"
             ],
             [
              0.8888888888888888,
              "#fdca26"
             ],
             [
              1,
              "#f0f921"
             ]
            ],
            "type": "heatmap"
           }
          ],
          "histogram": [
           {
            "marker": {
             "pattern": {
              "fillmode": "overlay",
              "size": 10,
              "solidity": 0.2
             }
            },
            "type": "histogram"
           }
          ],
          "histogram2d": [
           {
            "colorbar": {
             "outlinewidth": 0,
             "ticks": ""
            },
            "colorscale": [
             [
              0,
              "#0d0887"
             ],
             [
              0.1111111111111111,
              "#46039f"
             ],
             [
              0.2222222222222222,
              "#7201a8"
             ],
             [
              0.3333333333333333,
              "#9c179e"
             ],
             [
              0.4444444444444444,
              "#bd3786"
             ],
             [
              0.5555555555555556,
              "#d8576b"
             ],
             [
              0.6666666666666666,
              "#ed7953"
             ],
             [
              0.7777777777777778,
              "#fb9f3a"
             ],
             [
              0.8888888888888888,
              "#fdca26"
             ],
             [
              1,
              "#f0f921"
             ]
            ],
            "type": "histogram2d"
           }
          ],
          "histogram2dcontour": [
           {
            "colorbar": {
             "outlinewidth": 0,
             "ticks": ""
            },
            "colorscale": [
             [
              0,
              "#0d0887"
             ],
             [
              0.1111111111111111,
              "#46039f"
             ],
             [
              0.2222222222222222,
              "#7201a8"
             ],
             [
              0.3333333333333333,
              "#9c179e"
             ],
             [
              0.4444444444444444,
              "#bd3786"
             ],
             [
              0.5555555555555556,
              "#d8576b"
             ],
             [
              0.6666666666666666,
              "#ed7953"
             ],
             [
              0.7777777777777778,
              "#fb9f3a"
             ],
             [
              0.8888888888888888,
              "#fdca26"
             ],
             [
              1,
              "#f0f921"
             ]
            ],
            "type": "histogram2dcontour"
           }
          ],
          "mesh3d": [
           {
            "colorbar": {
             "outlinewidth": 0,
             "ticks": ""
            },
            "type": "mesh3d"
           }
          ],
          "parcoords": [
           {
            "line": {
             "colorbar": {
              "outlinewidth": 0,
              "ticks": ""
             }
            },
            "type": "parcoords"
           }
          ],
          "pie": [
           {
            "automargin": true,
            "type": "pie"
           }
          ],
          "scatter": [
           {
            "fillpattern": {
             "fillmode": "overlay",
             "size": 10,
             "solidity": 0.2
            },
            "type": "scatter"
           }
          ],
          "scatter3d": [
           {
            "line": {
             "colorbar": {
              "outlinewidth": 0,
              "ticks": ""
             }
            },
            "marker": {
             "colorbar": {
              "outlinewidth": 0,
              "ticks": ""
             }
            },
            "type": "scatter3d"
           }
          ],
          "scattercarpet": [
           {
            "marker": {
             "colorbar": {
              "outlinewidth": 0,
              "ticks": ""
             }
            },
            "type": "scattercarpet"
           }
          ],
          "scattergeo": [
           {
            "marker": {
             "colorbar": {
              "outlinewidth": 0,
              "ticks": ""
             }
            },
            "type": "scattergeo"
           }
          ],
          "scattergl": [
           {
            "marker": {
             "colorbar": {
              "outlinewidth": 0,
              "ticks": ""
             }
            },
            "type": "scattergl"
           }
          ],
          "scattermap": [
           {
            "marker": {
             "colorbar": {
              "outlinewidth": 0,
              "ticks": ""
             }
            },
            "type": "scattermap"
           }
          ],
          "scattermapbox": [
           {
            "marker": {
             "colorbar": {
              "outlinewidth": 0,
              "ticks": ""
             }
            },
            "type": "scattermapbox"
           }
          ],
          "scatterpolar": [
           {
            "marker": {
             "colorbar": {
              "outlinewidth": 0,
              "ticks": ""
             }
            },
            "type": "scatterpolar"
           }
          ],
          "scatterpolargl": [
           {
            "marker": {
             "colorbar": {
              "outlinewidth": 0,
              "ticks": ""
             }
            },
            "type": "scatterpolargl"
           }
          ],
          "scatterternary": [
           {
            "marker": {
             "colorbar": {
              "outlinewidth": 0,
              "ticks": ""
             }
            },
            "type": "scatterternary"
           }
          ],
          "surface": [
           {
            "colorbar": {
             "outlinewidth": 0,
             "ticks": ""
            },
            "colorscale": [
             [
              0,
              "#0d0887"
             ],
             [
              0.1111111111111111,
              "#46039f"
             ],
             [
              0.2222222222222222,
              "#7201a8"
             ],
             [
              0.3333333333333333,
              "#9c179e"
             ],
             [
              0.4444444444444444,
              "#bd3786"
             ],
             [
              0.5555555555555556,
              "#d8576b"
             ],
             [
              0.6666666666666666,
              "#ed7953"
             ],
             [
              0.7777777777777778,
              "#fb9f3a"
             ],
             [
              0.8888888888888888,
              "#fdca26"
             ],
             [
              1,
              "#f0f921"
             ]
            ],
            "type": "surface"
           }
          ],
          "table": [
           {
            "cells": {
             "fill": {
              "color": "#EBF0F8"
             },
             "line": {
              "color": "white"
             }
            },
            "header": {
             "fill": {
              "color": "#C8D4E3"
             },
             "line": {
              "color": "white"
             }
            },
            "type": "table"
           }
          ]
         },
         "layout": {
          "annotationdefaults": {
           "arrowcolor": "#2a3f5f",
           "arrowhead": 0,
           "arrowwidth": 1
          },
          "autotypenumbers": "strict",
          "coloraxis": {
           "colorbar": {
            "outlinewidth": 0,
            "ticks": ""
           }
          },
          "colorscale": {
           "diverging": [
            [
             0,
             "#8e0152"
            ],
            [
             0.1,
             "#c51b7d"
            ],
            [
             0.2,
             "#de77ae"
            ],
            [
             0.3,
             "#f1b6da"
            ],
            [
             0.4,
             "#fde0ef"
            ],
            [
             0.5,
             "#f7f7f7"
            ],
            [
             0.6,
             "#e6f5d0"
            ],
            [
             0.7,
             "#b8e186"
            ],
            [
             0.8,
             "#7fbc41"
            ],
            [
             0.9,
             "#4d9221"
            ],
            [
             1,
             "#276419"
            ]
           ],
           "sequential": [
            [
             0,
             "#0d0887"
            ],
            [
             0.1111111111111111,
             "#46039f"
            ],
            [
             0.2222222222222222,
             "#7201a8"
            ],
            [
             0.3333333333333333,
             "#9c179e"
            ],
            [
             0.4444444444444444,
             "#bd3786"
            ],
            [
             0.5555555555555556,
             "#d8576b"
            ],
            [
             0.6666666666666666,
             "#ed7953"
            ],
            [
             0.7777777777777778,
             "#fb9f3a"
            ],
            [
             0.8888888888888888,
             "#fdca26"
            ],
            [
             1,
             "#f0f921"
            ]
           ],
           "sequentialminus": [
            [
             0,
             "#0d0887"
            ],
            [
             0.1111111111111111,
             "#46039f"
            ],
            [
             0.2222222222222222,
             "#7201a8"
            ],
            [
             0.3333333333333333,
             "#9c179e"
            ],
            [
             0.4444444444444444,
             "#bd3786"
            ],
            [
             0.5555555555555556,
             "#d8576b"
            ],
            [
             0.6666666666666666,
             "#ed7953"
            ],
            [
             0.7777777777777778,
             "#fb9f3a"
            ],
            [
             0.8888888888888888,
             "#fdca26"
            ],
            [
             1,
             "#f0f921"
            ]
           ]
          },
          "colorway": [
           "#636efa",
           "#EF553B",
           "#00cc96",
           "#ab63fa",
           "#FFA15A",
           "#19d3f3",
           "#FF6692",
           "#B6E880",
           "#FF97FF",
           "#FECB52"
          ],
          "font": {
           "color": "#2a3f5f"
          },
          "geo": {
           "bgcolor": "white",
           "lakecolor": "white",
           "landcolor": "#E5ECF6",
           "showlakes": true,
           "showland": true,
           "subunitcolor": "white"
          },
          "hoverlabel": {
           "align": "left"
          },
          "hovermode": "closest",
          "mapbox": {
           "style": "light"
          },
          "paper_bgcolor": "white",
          "plot_bgcolor": "#E5ECF6",
          "polar": {
           "angularaxis": {
            "gridcolor": "white",
            "linecolor": "white",
            "ticks": ""
           },
           "bgcolor": "#E5ECF6",
           "radialaxis": {
            "gridcolor": "white",
            "linecolor": "white",
            "ticks": ""
           }
          },
          "scene": {
           "xaxis": {
            "backgroundcolor": "#E5ECF6",
            "gridcolor": "white",
            "gridwidth": 2,
            "linecolor": "white",
            "showbackground": true,
            "ticks": "",
            "zerolinecolor": "white"
           },
           "yaxis": {
            "backgroundcolor": "#E5ECF6",
            "gridcolor": "white",
            "gridwidth": 2,
            "linecolor": "white",
            "showbackground": true,
            "ticks": "",
            "zerolinecolor": "white"
           },
           "zaxis": {
            "backgroundcolor": "#E5ECF6",
            "gridcolor": "white",
            "gridwidth": 2,
            "linecolor": "white",
            "showbackground": true,
            "ticks": "",
            "zerolinecolor": "white"
           }
          },
          "shapedefaults": {
           "line": {
            "color": "#2a3f5f"
           }
          },
          "ternary": {
           "aaxis": {
            "gridcolor": "white",
            "linecolor": "white",
            "ticks": ""
           },
           "baxis": {
            "gridcolor": "white",
            "linecolor": "white",
            "ticks": ""
           },
           "bgcolor": "#E5ECF6",
           "caxis": {
            "gridcolor": "white",
            "linecolor": "white",
            "ticks": ""
           }
          },
          "title": {
           "x": 0.05
          },
          "xaxis": {
           "automargin": true,
           "gridcolor": "white",
           "linecolor": "white",
           "ticks": "",
           "title": {
            "standoff": 15
           },
           "zerolinecolor": "white",
           "zerolinewidth": 2
          },
          "yaxis": {
           "automargin": true,
           "gridcolor": "white",
           "linecolor": "white",
           "ticks": "",
           "title": {
            "standoff": 15
           },
           "zerolinecolor": "white",
           "zerolinewidth": 2
          }
         }
        },
        "title": {
         "text": "Candidatos por Partido"
        },
        "xaxis": {
         "anchor": "y",
         "domain": [
          0,
          1
         ],
         "title": {
          "text": "siglaPartido"
         }
        },
        "yaxis": {
         "anchor": "x",
         "domain": [
          0,
          1
         ],
         "title": {
          "text": "count"
         }
        }
       }
      }
     },
     "metadata": {},
     "output_type": "display_data"
    }
   ],
   "source": [
    "fig = px.bar(candidatos_por_partido, y='count', x='siglaPartido',  text_auto='.2s', title='Candidatos por Partido')\n",
    "fig.show()"
   ]
  },
  {
   "cell_type": "markdown",
   "id": "e529fb01",
   "metadata": {},
   "source": [
    "## Classificando partidos"
   ]
  },
  {
   "cell_type": "markdown",
   "id": "71fb26fc",
   "metadata": {},
   "source": [
    "Classificando partidos no espectro ideológico a partir da atuação parlamentar\n",
    "\n",
    "A seguinte classificação foi feita com base no seguinte artigo - https://pt.wikipedia.org/wiki/Posicionamentos_dos_partidos_brasileiros\n",
    "\n",
    "Caso tenha alguma observação que possa contribuir, sinta-se a vontade para dizer :)\n"
   ]
  },
  {
   "cell_type": "code",
   "execution_count": 30,
   "id": "894b8cd1",
   "metadata": {},
   "outputs": [],
   "source": [
    "# novas colunas serão criadas usando _ para a separação - assim saberemos quais foram criadas e quais vieram diretamente da API\n",
    "# Dicionário com o espectro político de cada partido\n",
    "espectro_politico = {\n",
    "    'PL': 'Centro-direita',\n",
    "    'PT': 'Esquerda',\n",
    "    'UNIÃO': 'Centro-direita',\n",
    "    'PP': 'Centro-direita',\n",
    "    'REPUBLICANOS': 'Direita',\n",
    "    'PSD': 'Centro',\n",
    "    'MDB': 'Centro',\n",
    "    'PDT': 'Centro-esquerda',\n",
    "    'PODE': 'Centro-direita',\n",
    "    'PSB': 'Centro-esquerda',\n",
    "    'PSOL': 'Esquerda',\n",
    "    'PSDB': 'Centro',\n",
    "    'PCdoB': 'Esquerda',\n",
    "    'AVANTE': 'Centro',\n",
    "    'PV': 'Centro-esquerda',\n",
    "    'NOVO': 'Direita',\n",
    "    'PRD': 'Direita',\n",
    "    'CIDADANIA': 'Centro-esquerda',\n",
    "    'SOLIDARIEDADE': 'Centro-esquerda',\n",
    "    'REDE': 'Centro-esquerda'\n",
    "}\n",
    "\n",
    "# Adicionando a nova coluna com base no espectro político\n",
    "df['espectro_politico'] = df['siglaPartido'].map(espectro_politico)"
   ]
  },
  {
   "cell_type": "code",
   "execution_count": 31,
   "id": "db54dead",
   "metadata": {},
   "outputs": [
    {
     "data": {
      "text/html": [
       "<div>\n",
       "<style scoped>\n",
       "    .dataframe tbody tr th:only-of-type {\n",
       "        vertical-align: middle;\n",
       "    }\n",
       "\n",
       "    .dataframe tbody tr th {\n",
       "        vertical-align: top;\n",
       "    }\n",
       "\n",
       "    .dataframe thead th {\n",
       "        text-align: right;\n",
       "    }\n",
       "</style>\n",
       "<table border=\"1\" class=\"dataframe\">\n",
       "  <thead>\n",
       "    <tr style=\"text-align: right;\">\n",
       "      <th></th>\n",
       "      <th>id</th>\n",
       "      <th>nome</th>\n",
       "      <th>siglaPartido</th>\n",
       "      <th>siglaUf</th>\n",
       "      <th>idLegislatura</th>\n",
       "      <th>urlFoto</th>\n",
       "      <th>email</th>\n",
       "      <th>nomeCivil</th>\n",
       "      <th>cpf</th>\n",
       "      <th>sexo</th>\n",
       "      <th>dataNascimento</th>\n",
       "      <th>ufNascimento</th>\n",
       "      <th>municipioNascimento</th>\n",
       "      <th>escolaridade</th>\n",
       "      <th>ano</th>\n",
       "      <th>mes</th>\n",
       "      <th>tipoDespesa</th>\n",
       "      <th>codDocumento</th>\n",
       "      <th>tipoDocumento</th>\n",
       "      <th>codTipoDocumento</th>\n",
       "      <th>dataDocumento</th>\n",
       "      <th>numDocumento</th>\n",
       "      <th>valorDocumento</th>\n",
       "      <th>urlDocumento</th>\n",
       "      <th>nomeFornecedor</th>\n",
       "      <th>cnpjCpfFornecedor</th>\n",
       "      <th>valorLiquido</th>\n",
       "      <th>valorGlosa</th>\n",
       "      <th>numRessarcimento</th>\n",
       "      <th>codLote</th>\n",
       "      <th>parcela</th>\n",
       "      <th>mes_nome</th>\n",
       "      <th>espectro_politico</th>\n",
       "    </tr>\n",
       "  </thead>\n",
       "  <tbody>\n",
       "    <tr>\n",
       "      <th>0</th>\n",
       "      <td>204379</td>\n",
       "      <td>Acácio Favacho</td>\n",
       "      <td>MDB</td>\n",
       "      <td>AP</td>\n",
       "      <td>57</td>\n",
       "      <td>https://www.camara.leg.br/internet/deputado/ba...</td>\n",
       "      <td>dep.acaciofavacho@camara.leg.br</td>\n",
       "      <td>ACÁCIO DA SILVA FAVACHO NETO</td>\n",
       "      <td>74287028287</td>\n",
       "      <td>M</td>\n",
       "      <td>1983-09-28</td>\n",
       "      <td>AP</td>\n",
       "      <td>Macapá</td>\n",
       "      <td>Superior</td>\n",
       "      <td>2024</td>\n",
       "      <td>12</td>\n",
       "      <td>COMBUSTÍVEIS E LUBRIFICANTES.</td>\n",
       "      <td>7850706</td>\n",
       "      <td>Nota Fiscal Eletrônica</td>\n",
       "      <td>4</td>\n",
       "      <td>2024-12-18T09:35:16</td>\n",
       "      <td>441145</td>\n",
       "      <td>329.11</td>\n",
       "      <td>http://www.camara.leg.br/cota-parlamentar/nota...</td>\n",
       "      <td>031 - 302 NORTE - CASCOL COMBUSTIVEIS PARA VEI...</td>\n",
       "      <td>3.065970e+11</td>\n",
       "      <td>329.11</td>\n",
       "      <td>0.0</td>\n",
       "      <td>NaN</td>\n",
       "      <td>2100003</td>\n",
       "      <td>0</td>\n",
       "      <td>Dezembro</td>\n",
       "      <td>Centro</td>\n",
       "    </tr>\n",
       "    <tr>\n",
       "      <th>1</th>\n",
       "      <td>204379</td>\n",
       "      <td>Acácio Favacho</td>\n",
       "      <td>MDB</td>\n",
       "      <td>AP</td>\n",
       "      <td>57</td>\n",
       "      <td>https://www.camara.leg.br/internet/deputado/ba...</td>\n",
       "      <td>dep.acaciofavacho@camara.leg.br</td>\n",
       "      <td>ACÁCIO DA SILVA FAVACHO NETO</td>\n",
       "      <td>74287028287</td>\n",
       "      <td>M</td>\n",
       "      <td>1983-09-28</td>\n",
       "      <td>AP</td>\n",
       "      <td>Macapá</td>\n",
       "      <td>Superior</td>\n",
       "      <td>2024</td>\n",
       "      <td>12</td>\n",
       "      <td>COMBUSTÍVEIS E LUBRIFICANTES.</td>\n",
       "      <td>7851695</td>\n",
       "      <td>Nota Fiscal Eletrônica</td>\n",
       "      <td>4</td>\n",
       "      <td>2024-12-21T18:43:23</td>\n",
       "      <td>35728</td>\n",
       "      <td>291.05</td>\n",
       "      <td>http://www.camara.leg.br/cota-parlamentar/nota...</td>\n",
       "      <td>AUTO POSTO 303 NORTE LTDA</td>\n",
       "      <td>3.819421e+13</td>\n",
       "      <td>291.05</td>\n",
       "      <td>0.0</td>\n",
       "      <td>NaN</td>\n",
       "      <td>2100587</td>\n",
       "      <td>0</td>\n",
       "      <td>Dezembro</td>\n",
       "      <td>Centro</td>\n",
       "    </tr>\n",
       "    <tr>\n",
       "      <th>2</th>\n",
       "      <td>204379</td>\n",
       "      <td>Acácio Favacho</td>\n",
       "      <td>MDB</td>\n",
       "      <td>AP</td>\n",
       "      <td>57</td>\n",
       "      <td>https://www.camara.leg.br/internet/deputado/ba...</td>\n",
       "      <td>dep.acaciofavacho@camara.leg.br</td>\n",
       "      <td>ACÁCIO DA SILVA FAVACHO NETO</td>\n",
       "      <td>74287028287</td>\n",
       "      <td>M</td>\n",
       "      <td>1983-09-28</td>\n",
       "      <td>AP</td>\n",
       "      <td>Macapá</td>\n",
       "      <td>Superior</td>\n",
       "      <td>2024</td>\n",
       "      <td>12</td>\n",
       "      <td>COMBUSTÍVEIS E LUBRIFICANTES.</td>\n",
       "      <td>7851734</td>\n",
       "      <td>Nota Fiscal Eletrônica</td>\n",
       "      <td>4</td>\n",
       "      <td>2024-12-09T19:46:34</td>\n",
       "      <td>38867</td>\n",
       "      <td>275.97</td>\n",
       "      <td>http://www.camara.leg.br/cota-parlamentar/nota...</td>\n",
       "      <td>AUTO POSTO 303 NORTE LTDA</td>\n",
       "      <td>3.819421e+13</td>\n",
       "      <td>275.97</td>\n",
       "      <td>0.0</td>\n",
       "      <td>NaN</td>\n",
       "      <td>2100587</td>\n",
       "      <td>0</td>\n",
       "      <td>Dezembro</td>\n",
       "      <td>Centro</td>\n",
       "    </tr>\n",
       "    <tr>\n",
       "      <th>3</th>\n",
       "      <td>204379</td>\n",
       "      <td>Acácio Favacho</td>\n",
       "      <td>MDB</td>\n",
       "      <td>AP</td>\n",
       "      <td>57</td>\n",
       "      <td>https://www.camara.leg.br/internet/deputado/ba...</td>\n",
       "      <td>dep.acaciofavacho@camara.leg.br</td>\n",
       "      <td>ACÁCIO DA SILVA FAVACHO NETO</td>\n",
       "      <td>74287028287</td>\n",
       "      <td>M</td>\n",
       "      <td>1983-09-28</td>\n",
       "      <td>AP</td>\n",
       "      <td>Macapá</td>\n",
       "      <td>Superior</td>\n",
       "      <td>2024</td>\n",
       "      <td>12</td>\n",
       "      <td>COMBUSTÍVEIS E LUBRIFICANTES.</td>\n",
       "      <td>7851725</td>\n",
       "      <td>Nota Fiscal Eletrônica</td>\n",
       "      <td>4</td>\n",
       "      <td>2024-12-27T13:27:50</td>\n",
       "      <td>40110</td>\n",
       "      <td>230.67</td>\n",
       "      <td>http://www.camara.leg.br/cota-parlamentar/nota...</td>\n",
       "      <td>AUTO POSTO 303 NORTE LTDA</td>\n",
       "      <td>3.819421e+13</td>\n",
       "      <td>230.67</td>\n",
       "      <td>0.0</td>\n",
       "      <td>NaN</td>\n",
       "      <td>2100587</td>\n",
       "      <td>0</td>\n",
       "      <td>Dezembro</td>\n",
       "      <td>Centro</td>\n",
       "    </tr>\n",
       "    <tr>\n",
       "      <th>4</th>\n",
       "      <td>204379</td>\n",
       "      <td>Acácio Favacho</td>\n",
       "      <td>MDB</td>\n",
       "      <td>AP</td>\n",
       "      <td>57</td>\n",
       "      <td>https://www.camara.leg.br/internet/deputado/ba...</td>\n",
       "      <td>dep.acaciofavacho@camara.leg.br</td>\n",
       "      <td>ACÁCIO DA SILVA FAVACHO NETO</td>\n",
       "      <td>74287028287</td>\n",
       "      <td>M</td>\n",
       "      <td>1983-09-28</td>\n",
       "      <td>AP</td>\n",
       "      <td>Macapá</td>\n",
       "      <td>Superior</td>\n",
       "      <td>2024</td>\n",
       "      <td>12</td>\n",
       "      <td>COMBUSTÍVEIS E LUBRIFICANTES.</td>\n",
       "      <td>7846605</td>\n",
       "      <td>Nota Fiscal Eletrônica</td>\n",
       "      <td>4</td>\n",
       "      <td>2024-12-07T10:49:50</td>\n",
       "      <td>44529</td>\n",
       "      <td>250.04</td>\n",
       "      <td>http://www.camara.leg.br/cota-parlamentar/nota...</td>\n",
       "      <td>AUTO POSTO 303 NORTE LTDA</td>\n",
       "      <td>3.819421e+13</td>\n",
       "      <td>250.04</td>\n",
       "      <td>0.0</td>\n",
       "      <td>NaN</td>\n",
       "      <td>2097817</td>\n",
       "      <td>0</td>\n",
       "      <td>Dezembro</td>\n",
       "      <td>Centro</td>\n",
       "    </tr>\n",
       "  </tbody>\n",
       "</table>\n",
       "</div>"
      ],
      "text/plain": [
       "       id            nome siglaPartido siglaUf  idLegislatura  \\\n",
       "0  204379  Acácio Favacho          MDB      AP             57   \n",
       "1  204379  Acácio Favacho          MDB      AP             57   \n",
       "2  204379  Acácio Favacho          MDB      AP             57   \n",
       "3  204379  Acácio Favacho          MDB      AP             57   \n",
       "4  204379  Acácio Favacho          MDB      AP             57   \n",
       "\n",
       "                                             urlFoto  \\\n",
       "0  https://www.camara.leg.br/internet/deputado/ba...   \n",
       "1  https://www.camara.leg.br/internet/deputado/ba...   \n",
       "2  https://www.camara.leg.br/internet/deputado/ba...   \n",
       "3  https://www.camara.leg.br/internet/deputado/ba...   \n",
       "4  https://www.camara.leg.br/internet/deputado/ba...   \n",
       "\n",
       "                             email                     nomeCivil          cpf  \\\n",
       "0  dep.acaciofavacho@camara.leg.br  ACÁCIO DA SILVA FAVACHO NETO  74287028287   \n",
       "1  dep.acaciofavacho@camara.leg.br  ACÁCIO DA SILVA FAVACHO NETO  74287028287   \n",
       "2  dep.acaciofavacho@camara.leg.br  ACÁCIO DA SILVA FAVACHO NETO  74287028287   \n",
       "3  dep.acaciofavacho@camara.leg.br  ACÁCIO DA SILVA FAVACHO NETO  74287028287   \n",
       "4  dep.acaciofavacho@camara.leg.br  ACÁCIO DA SILVA FAVACHO NETO  74287028287   \n",
       "\n",
       "  sexo dataNascimento ufNascimento municipioNascimento escolaridade   ano  \\\n",
       "0    M     1983-09-28           AP              Macapá     Superior  2024   \n",
       "1    M     1983-09-28           AP              Macapá     Superior  2024   \n",
       "2    M     1983-09-28           AP              Macapá     Superior  2024   \n",
       "3    M     1983-09-28           AP              Macapá     Superior  2024   \n",
       "4    M     1983-09-28           AP              Macapá     Superior  2024   \n",
       "\n",
       "   mes                    tipoDespesa  codDocumento           tipoDocumento  \\\n",
       "0   12  COMBUSTÍVEIS E LUBRIFICANTES.       7850706  Nota Fiscal Eletrônica   \n",
       "1   12  COMBUSTÍVEIS E LUBRIFICANTES.       7851695  Nota Fiscal Eletrônica   \n",
       "2   12  COMBUSTÍVEIS E LUBRIFICANTES.       7851734  Nota Fiscal Eletrônica   \n",
       "3   12  COMBUSTÍVEIS E LUBRIFICANTES.       7851725  Nota Fiscal Eletrônica   \n",
       "4   12  COMBUSTÍVEIS E LUBRIFICANTES.       7846605  Nota Fiscal Eletrônica   \n",
       "\n",
       "   codTipoDocumento        dataDocumento numDocumento  valorDocumento  \\\n",
       "0                 4  2024-12-18T09:35:16       441145          329.11   \n",
       "1                 4  2024-12-21T18:43:23        35728          291.05   \n",
       "2                 4  2024-12-09T19:46:34        38867          275.97   \n",
       "3                 4  2024-12-27T13:27:50        40110          230.67   \n",
       "4                 4  2024-12-07T10:49:50        44529          250.04   \n",
       "\n",
       "                                        urlDocumento  \\\n",
       "0  http://www.camara.leg.br/cota-parlamentar/nota...   \n",
       "1  http://www.camara.leg.br/cota-parlamentar/nota...   \n",
       "2  http://www.camara.leg.br/cota-parlamentar/nota...   \n",
       "3  http://www.camara.leg.br/cota-parlamentar/nota...   \n",
       "4  http://www.camara.leg.br/cota-parlamentar/nota...   \n",
       "\n",
       "                                      nomeFornecedor  cnpjCpfFornecedor  \\\n",
       "0  031 - 302 NORTE - CASCOL COMBUSTIVEIS PARA VEI...       3.065970e+11   \n",
       "1                          AUTO POSTO 303 NORTE LTDA       3.819421e+13   \n",
       "2                          AUTO POSTO 303 NORTE LTDA       3.819421e+13   \n",
       "3                          AUTO POSTO 303 NORTE LTDA       3.819421e+13   \n",
       "4                          AUTO POSTO 303 NORTE LTDA       3.819421e+13   \n",
       "\n",
       "   valorLiquido  valorGlosa  numRessarcimento  codLote  parcela  mes_nome  \\\n",
       "0        329.11         0.0               NaN  2100003        0  Dezembro   \n",
       "1        291.05         0.0               NaN  2100587        0  Dezembro   \n",
       "2        275.97         0.0               NaN  2100587        0  Dezembro   \n",
       "3        230.67         0.0               NaN  2100587        0  Dezembro   \n",
       "4        250.04         0.0               NaN  2097817        0  Dezembro   \n",
       "\n",
       "  espectro_politico  \n",
       "0            Centro  \n",
       "1            Centro  \n",
       "2            Centro  \n",
       "3            Centro  \n",
       "4            Centro  "
      ]
     },
     "execution_count": 31,
     "metadata": {},
     "output_type": "execute_result"
    }
   ],
   "source": [
    "df.head()"
   ]
  },
  {
   "cell_type": "code",
   "execution_count": 32,
   "id": "c794a8f8",
   "metadata": {},
   "outputs": [
    {
     "data": {
      "text/plain": [
       "espectro_politico\n",
       "Centro-direita     8446958.15\n",
       "Centro             4340978.96\n",
       "Esquerda           2895072.60\n",
       "Direita            2454187.39\n",
       "Centro-esquerda    1889063.32\n",
       "Name: valorLiquido, dtype: float64"
      ]
     },
     "execution_count": 32,
     "metadata": {},
     "output_type": "execute_result"
    }
   ],
   "source": [
    "df.groupby(['espectro_politico'])['valorLiquido'].sum().sort_values(ascending=False)"
   ]
  },
  {
   "cell_type": "code",
   "execution_count": 33,
   "id": "58cc9baa",
   "metadata": {},
   "outputs": [
    {
     "data": {
      "text/plain": [
       "nomeCivil\n",
       "ALCIDES RIBEIRO FILHO                                  290168.73\n",
       "LUIZ AUGUSTO CARVALHO RIBEIRO FILHO                    235382.87\n",
       "GABRIEL MOTA E SILVA                                   232991.56\n",
       "GUILHERME A. UCHOA CAVALCANTI PESSOA DE MELO JUNIOR    225809.57\n",
       "DUDA BRITO RAMOS                                       212316.45\n",
       "                                                         ...    \n",
       "FELIPE BECARI COMENALE                                   2536.35\n",
       "CAIO SANTOS VIANNA                                       2493.95\n",
       "DAYANY BITTENCOURT SANTIL                                2402.73\n",
       "MARCOS ANTONIO PEREIRA                                   2244.57\n",
       "AMOM MANDEL LINS FILHO                                   1312.10\n",
       "Name: valorLiquido, Length: 511, dtype: float64"
      ]
     },
     "execution_count": 33,
     "metadata": {},
     "output_type": "execute_result"
    }
   ],
   "source": [
    "df.groupby(['nomeCivil'])['valorLiquido'].sum().sort_values(ascending=False)"
   ]
  },
  {
   "cell_type": "code",
   "execution_count": 34,
   "id": "caf1c4f8",
   "metadata": {},
   "outputs": [],
   "source": [
    "df_unique_id['espectro_politico'] = df_unique_id['siglaPartido'].map(espectro_politico)"
   ]
  },
  {
   "cell_type": "code",
   "execution_count": 35,
   "id": "85c4d29f",
   "metadata": {},
   "outputs": [
    {
     "data": {
      "text/html": [
       "<div>\n",
       "<style scoped>\n",
       "    .dataframe tbody tr th:only-of-type {\n",
       "        vertical-align: middle;\n",
       "    }\n",
       "\n",
       "    .dataframe tbody tr th {\n",
       "        vertical-align: top;\n",
       "    }\n",
       "\n",
       "    .dataframe thead th {\n",
       "        text-align: right;\n",
       "    }\n",
       "</style>\n",
       "<table border=\"1\" class=\"dataframe\">\n",
       "  <thead>\n",
       "    <tr style=\"text-align: right;\">\n",
       "      <th></th>\n",
       "      <th>espectro_politico</th>\n",
       "      <th>count</th>\n",
       "    </tr>\n",
       "  </thead>\n",
       "  <tbody>\n",
       "    <tr>\n",
       "      <th>0</th>\n",
       "      <td>Centro-direita</td>\n",
       "      <td>213</td>\n",
       "    </tr>\n",
       "    <tr>\n",
       "      <th>1</th>\n",
       "      <td>Centro</td>\n",
       "      <td>110</td>\n",
       "    </tr>\n",
       "    <tr>\n",
       "      <th>2</th>\n",
       "      <td>Esquerda</td>\n",
       "      <td>88</td>\n",
       "    </tr>\n",
       "    <tr>\n",
       "      <th>3</th>\n",
       "      <td>Direita</td>\n",
       "      <td>54</td>\n",
       "    </tr>\n",
       "    <tr>\n",
       "      <th>4</th>\n",
       "      <td>Centro-esquerda</td>\n",
       "      <td>46</td>\n",
       "    </tr>\n",
       "  </tbody>\n",
       "</table>\n",
       "</div>"
      ],
      "text/plain": [
       "  espectro_politico  count\n",
       "0    Centro-direita    213\n",
       "1            Centro    110\n",
       "2          Esquerda     88\n",
       "3           Direita     54\n",
       "4   Centro-esquerda     46"
      ]
     },
     "execution_count": 35,
     "metadata": {},
     "output_type": "execute_result"
    }
   ],
   "source": [
    "espectro_politico = df_unique_id['espectro_politico'].value_counts()\n",
    "espectro_politico = pd.DataFrame(espectro_politico).reset_index()\n",
    "espectro_politico"
   ]
  },
  {
   "cell_type": "code",
   "execution_count": 36,
   "id": "5e22ffda",
   "metadata": {},
   "outputs": [
    {
     "data": {
      "application/vnd.plotly.v1+json": {
       "config": {
        "plotlyServerURL": "https://plot.ly"
       },
       "data": [
        {
         "hovertemplate": "espectro_politico=%{x}<br>count=%{y}<extra></extra>",
         "legendgroup": "",
         "marker": {
          "color": "#636efa",
          "pattern": {
           "shape": ""
          }
         },
         "name": "",
         "orientation": "v",
         "showlegend": false,
         "textposition": "auto",
         "texttemplate": "%{y:.2s}",
         "type": "bar",
         "x": [
          "Centro-direita",
          "Centro",
          "Esquerda",
          "Direita",
          "Centro-esquerda"
         ],
         "xaxis": "x",
         "y": {
          "bdata": "1QBuAFgANgAuAA==",
          "dtype": "i2"
         },
         "yaxis": "y"
        }
       ],
       "layout": {
        "barmode": "relative",
        "legend": {
         "tracegroupgap": 0
        },
        "template": {
         "data": {
          "bar": [
           {
            "error_x": {
             "color": "#2a3f5f"
            },
            "error_y": {
             "color": "#2a3f5f"
            },
            "marker": {
             "line": {
              "color": "#E5ECF6",
              "width": 0.5
             },
             "pattern": {
              "fillmode": "overlay",
              "size": 10,
              "solidity": 0.2
             }
            },
            "type": "bar"
           }
          ],
          "barpolar": [
           {
            "marker": {
             "line": {
              "color": "#E5ECF6",
              "width": 0.5
             },
             "pattern": {
              "fillmode": "overlay",
              "size": 10,
              "solidity": 0.2
             }
            },
            "type": "barpolar"
           }
          ],
          "carpet": [
           {
            "aaxis": {
             "endlinecolor": "#2a3f5f",
             "gridcolor": "white",
             "linecolor": "white",
             "minorgridcolor": "white",
             "startlinecolor": "#2a3f5f"
            },
            "baxis": {
             "endlinecolor": "#2a3f5f",
             "gridcolor": "white",
             "linecolor": "white",
             "minorgridcolor": "white",
             "startlinecolor": "#2a3f5f"
            },
            "type": "carpet"
           }
          ],
          "choropleth": [
           {
            "colorbar": {
             "outlinewidth": 0,
             "ticks": ""
            },
            "type": "choropleth"
           }
          ],
          "contour": [
           {
            "colorbar": {
             "outlinewidth": 0,
             "ticks": ""
            },
            "colorscale": [
             [
              0,
              "#0d0887"
             ],
             [
              0.1111111111111111,
              "#46039f"
             ],
             [
              0.2222222222222222,
              "#7201a8"
             ],
             [
              0.3333333333333333,
              "#9c179e"
             ],
             [
              0.4444444444444444,
              "#bd3786"
             ],
             [
              0.5555555555555556,
              "#d8576b"
             ],
             [
              0.6666666666666666,
              "#ed7953"
             ],
             [
              0.7777777777777778,
              "#fb9f3a"
             ],
             [
              0.8888888888888888,
              "#fdca26"
             ],
             [
              1,
              "#f0f921"
             ]
            ],
            "type": "contour"
           }
          ],
          "contourcarpet": [
           {
            "colorbar": {
             "outlinewidth": 0,
             "ticks": ""
            },
            "type": "contourcarpet"
           }
          ],
          "heatmap": [
           {
            "colorbar": {
             "outlinewidth": 0,
             "ticks": ""
            },
            "colorscale": [
             [
              0,
              "#0d0887"
             ],
             [
              0.1111111111111111,
              "#46039f"
             ],
             [
              0.2222222222222222,
              "#7201a8"
             ],
             [
              0.3333333333333333,
              "#9c179e"
             ],
             [
              0.4444444444444444,
              "#bd3786"
             ],
             [
              0.5555555555555556,
              "#d8576b"
             ],
             [
              0.6666666666666666,
              "#ed7953"
             ],
             [
              0.7777777777777778,
              "#fb9f3a"
             ],
             [
              0.8888888888888888,
              "#fdca26"
             ],
             [
              1,
              "#f0f921"
             ]
            ],
            "type": "heatmap"
           }
          ],
          "histogram": [
           {
            "marker": {
             "pattern": {
              "fillmode": "overlay",
              "size": 10,
              "solidity": 0.2
             }
            },
            "type": "histogram"
           }
          ],
          "histogram2d": [
           {
            "colorbar": {
             "outlinewidth": 0,
             "ticks": ""
            },
            "colorscale": [
             [
              0,
              "#0d0887"
             ],
             [
              0.1111111111111111,
              "#46039f"
             ],
             [
              0.2222222222222222,
              "#7201a8"
             ],
             [
              0.3333333333333333,
              "#9c179e"
             ],
             [
              0.4444444444444444,
              "#bd3786"
             ],
             [
              0.5555555555555556,
              "#d8576b"
             ],
             [
              0.6666666666666666,
              "#ed7953"
             ],
             [
              0.7777777777777778,
              "#fb9f3a"
             ],
             [
              0.8888888888888888,
              "#fdca26"
             ],
             [
              1,
              "#f0f921"
             ]
            ],
            "type": "histogram2d"
           }
          ],
          "histogram2dcontour": [
           {
            "colorbar": {
             "outlinewidth": 0,
             "ticks": ""
            },
            "colorscale": [
             [
              0,
              "#0d0887"
             ],
             [
              0.1111111111111111,
              "#46039f"
             ],
             [
              0.2222222222222222,
              "#7201a8"
             ],
             [
              0.3333333333333333,
              "#9c179e"
             ],
             [
              0.4444444444444444,
              "#bd3786"
             ],
             [
              0.5555555555555556,
              "#d8576b"
             ],
             [
              0.6666666666666666,
              "#ed7953"
             ],
             [
              0.7777777777777778,
              "#fb9f3a"
             ],
             [
              0.8888888888888888,
              "#fdca26"
             ],
             [
              1,
              "#f0f921"
             ]
            ],
            "type": "histogram2dcontour"
           }
          ],
          "mesh3d": [
           {
            "colorbar": {
             "outlinewidth": 0,
             "ticks": ""
            },
            "type": "mesh3d"
           }
          ],
          "parcoords": [
           {
            "line": {
             "colorbar": {
              "outlinewidth": 0,
              "ticks": ""
             }
            },
            "type": "parcoords"
           }
          ],
          "pie": [
           {
            "automargin": true,
            "type": "pie"
           }
          ],
          "scatter": [
           {
            "fillpattern": {
             "fillmode": "overlay",
             "size": 10,
             "solidity": 0.2
            },
            "type": "scatter"
           }
          ],
          "scatter3d": [
           {
            "line": {
             "colorbar": {
              "outlinewidth": 0,
              "ticks": ""
             }
            },
            "marker": {
             "colorbar": {
              "outlinewidth": 0,
              "ticks": ""
             }
            },
            "type": "scatter3d"
           }
          ],
          "scattercarpet": [
           {
            "marker": {
             "colorbar": {
              "outlinewidth": 0,
              "ticks": ""
             }
            },
            "type": "scattercarpet"
           }
          ],
          "scattergeo": [
           {
            "marker": {
             "colorbar": {
              "outlinewidth": 0,
              "ticks": ""
             }
            },
            "type": "scattergeo"
           }
          ],
          "scattergl": [
           {
            "marker": {
             "colorbar": {
              "outlinewidth": 0,
              "ticks": ""
             }
            },
            "type": "scattergl"
           }
          ],
          "scattermap": [
           {
            "marker": {
             "colorbar": {
              "outlinewidth": 0,
              "ticks": ""
             }
            },
            "type": "scattermap"
           }
          ],
          "scattermapbox": [
           {
            "marker": {
             "colorbar": {
              "outlinewidth": 0,
              "ticks": ""
             }
            },
            "type": "scattermapbox"
           }
          ],
          "scatterpolar": [
           {
            "marker": {
             "colorbar": {
              "outlinewidth": 0,
              "ticks": ""
             }
            },
            "type": "scatterpolar"
           }
          ],
          "scatterpolargl": [
           {
            "marker": {
             "colorbar": {
              "outlinewidth": 0,
              "ticks": ""
             }
            },
            "type": "scatterpolargl"
           }
          ],
          "scatterternary": [
           {
            "marker": {
             "colorbar": {
              "outlinewidth": 0,
              "ticks": ""
             }
            },
            "type": "scatterternary"
           }
          ],
          "surface": [
           {
            "colorbar": {
             "outlinewidth": 0,
             "ticks": ""
            },
            "colorscale": [
             [
              0,
              "#0d0887"
             ],
             [
              0.1111111111111111,
              "#46039f"
             ],
             [
              0.2222222222222222,
              "#7201a8"
             ],
             [
              0.3333333333333333,
              "#9c179e"
             ],
             [
              0.4444444444444444,
              "#bd3786"
             ],
             [
              0.5555555555555556,
              "#d8576b"
             ],
             [
              0.6666666666666666,
              "#ed7953"
             ],
             [
              0.7777777777777778,
              "#fb9f3a"
             ],
             [
              0.8888888888888888,
              "#fdca26"
             ],
             [
              1,
              "#f0f921"
             ]
            ],
            "type": "surface"
           }
          ],
          "table": [
           {
            "cells": {
             "fill": {
              "color": "#EBF0F8"
             },
             "line": {
              "color": "white"
             }
            },
            "header": {
             "fill": {
              "color": "#C8D4E3"
             },
             "line": {
              "color": "white"
             }
            },
            "type": "table"
           }
          ]
         },
         "layout": {
          "annotationdefaults": {
           "arrowcolor": "#2a3f5f",
           "arrowhead": 0,
           "arrowwidth": 1
          },
          "autotypenumbers": "strict",
          "coloraxis": {
           "colorbar": {
            "outlinewidth": 0,
            "ticks": ""
           }
          },
          "colorscale": {
           "diverging": [
            [
             0,
             "#8e0152"
            ],
            [
             0.1,
             "#c51b7d"
            ],
            [
             0.2,
             "#de77ae"
            ],
            [
             0.3,
             "#f1b6da"
            ],
            [
             0.4,
             "#fde0ef"
            ],
            [
             0.5,
             "#f7f7f7"
            ],
            [
             0.6,
             "#e6f5d0"
            ],
            [
             0.7,
             "#b8e186"
            ],
            [
             0.8,
             "#7fbc41"
            ],
            [
             0.9,
             "#4d9221"
            ],
            [
             1,
             "#276419"
            ]
           ],
           "sequential": [
            [
             0,
             "#0d0887"
            ],
            [
             0.1111111111111111,
             "#46039f"
            ],
            [
             0.2222222222222222,
             "#7201a8"
            ],
            [
             0.3333333333333333,
             "#9c179e"
            ],
            [
             0.4444444444444444,
             "#bd3786"
            ],
            [
             0.5555555555555556,
             "#d8576b"
            ],
            [
             0.6666666666666666,
             "#ed7953"
            ],
            [
             0.7777777777777778,
             "#fb9f3a"
            ],
            [
             0.8888888888888888,
             "#fdca26"
            ],
            [
             1,
             "#f0f921"
            ]
           ],
           "sequentialminus": [
            [
             0,
             "#0d0887"
            ],
            [
             0.1111111111111111,
             "#46039f"
            ],
            [
             0.2222222222222222,
             "#7201a8"
            ],
            [
             0.3333333333333333,
             "#9c179e"
            ],
            [
             0.4444444444444444,
             "#bd3786"
            ],
            [
             0.5555555555555556,
             "#d8576b"
            ],
            [
             0.6666666666666666,
             "#ed7953"
            ],
            [
             0.7777777777777778,
             "#fb9f3a"
            ],
            [
             0.8888888888888888,
             "#fdca26"
            ],
            [
             1,
             "#f0f921"
            ]
           ]
          },
          "colorway": [
           "#636efa",
           "#EF553B",
           "#00cc96",
           "#ab63fa",
           "#FFA15A",
           "#19d3f3",
           "#FF6692",
           "#B6E880",
           "#FF97FF",
           "#FECB52"
          ],
          "font": {
           "color": "#2a3f5f"
          },
          "geo": {
           "bgcolor": "white",
           "lakecolor": "white",
           "landcolor": "#E5ECF6",
           "showlakes": true,
           "showland": true,
           "subunitcolor": "white"
          },
          "hoverlabel": {
           "align": "left"
          },
          "hovermode": "closest",
          "mapbox": {
           "style": "light"
          },
          "paper_bgcolor": "white",
          "plot_bgcolor": "#E5ECF6",
          "polar": {
           "angularaxis": {
            "gridcolor": "white",
            "linecolor": "white",
            "ticks": ""
           },
           "bgcolor": "#E5ECF6",
           "radialaxis": {
            "gridcolor": "white",
            "linecolor": "white",
            "ticks": ""
           }
          },
          "scene": {
           "xaxis": {
            "backgroundcolor": "#E5ECF6",
            "gridcolor": "white",
            "gridwidth": 2,
            "linecolor": "white",
            "showbackground": true,
            "ticks": "",
            "zerolinecolor": "white"
           },
           "yaxis": {
            "backgroundcolor": "#E5ECF6",
            "gridcolor": "white",
            "gridwidth": 2,
            "linecolor": "white",
            "showbackground": true,
            "ticks": "",
            "zerolinecolor": "white"
           },
           "zaxis": {
            "backgroundcolor": "#E5ECF6",
            "gridcolor": "white",
            "gridwidth": 2,
            "linecolor": "white",
            "showbackground": true,
            "ticks": "",
            "zerolinecolor": "white"
           }
          },
          "shapedefaults": {
           "line": {
            "color": "#2a3f5f"
           }
          },
          "ternary": {
           "aaxis": {
            "gridcolor": "white",
            "linecolor": "white",
            "ticks": ""
           },
           "baxis": {
            "gridcolor": "white",
            "linecolor": "white",
            "ticks": ""
           },
           "bgcolor": "#E5ECF6",
           "caxis": {
            "gridcolor": "white",
            "linecolor": "white",
            "ticks": ""
           }
          },
          "title": {
           "x": 0.05
          },
          "xaxis": {
           "automargin": true,
           "gridcolor": "white",
           "linecolor": "white",
           "ticks": "",
           "title": {
            "standoff": 15
           },
           "zerolinecolor": "white",
           "zerolinewidth": 2
          },
          "yaxis": {
           "automargin": true,
           "gridcolor": "white",
           "linecolor": "white",
           "ticks": "",
           "title": {
            "standoff": 15
           },
           "zerolinecolor": "white",
           "zerolinewidth": 2
          }
         }
        },
        "title": {
         "text": "Espectro político"
        },
        "xaxis": {
         "anchor": "y",
         "domain": [
          0,
          1
         ],
         "title": {
          "text": "espectro_politico"
         }
        },
        "yaxis": {
         "anchor": "x",
         "domain": [
          0,
          1
         ],
         "title": {
          "text": "count"
         }
        }
       }
      }
     },
     "metadata": {},
     "output_type": "display_data"
    }
   ],
   "source": [
    "fig = px.bar(espectro_politico, y='count', x='espectro_politico',  text_auto='.2s', title='Espectro político')\n",
    "fig.show()"
   ]
  },
  {
   "cell_type": "markdown",
   "id": "d84c3a31",
   "metadata": {},
   "source": [
    "# Avaliando Gastos"
   ]
  },
  {
   "cell_type": "code",
   "execution_count": 37,
   "id": "cf30a0e8",
   "metadata": {},
   "outputs": [
    {
     "name": "stdout",
     "output_type": "stream",
     "text": [
      "<class 'pandas.core.frame.DataFrame'>\n",
      "RangeIndex: 7650 entries, 0 to 7649\n",
      "Data columns (total 33 columns):\n",
      " #   Column               Non-Null Count  Dtype  \n",
      "---  ------               --------------  -----  \n",
      " 0   id                   7650 non-null   int64  \n",
      " 1   nome                 7650 non-null   object \n",
      " 2   siglaPartido         7650 non-null   object \n",
      " 3   siglaUf              7650 non-null   object \n",
      " 4   idLegislatura        7650 non-null   int64  \n",
      " 5   urlFoto              7650 non-null   object \n",
      " 6   email                7650 non-null   object \n",
      " 7   nomeCivil            7650 non-null   object \n",
      " 8   cpf                  7650 non-null   int64  \n",
      " 9   sexo                 7650 non-null   object \n",
      " 10  dataNascimento       7650 non-null   object \n",
      " 11  ufNascimento         7650 non-null   object \n",
      " 12  municipioNascimento  7650 non-null   object \n",
      " 13  escolaridade         7500 non-null   object \n",
      " 14  ano                  7650 non-null   int64  \n",
      " 15  mes                  7650 non-null   int64  \n",
      " 16  tipoDespesa          7650 non-null   object \n",
      " 17  codDocumento         7650 non-null   int64  \n",
      " 18  tipoDocumento        7650 non-null   object \n",
      " 19  codTipoDocumento     7650 non-null   int64  \n",
      " 20  dataDocumento        7650 non-null   object \n",
      " 21  numDocumento         7650 non-null   object \n",
      " 22  valorDocumento       7650 non-null   float64\n",
      " 23  urlDocumento         6427 non-null   object \n",
      " 24  nomeFornecedor       7650 non-null   object \n",
      " 25  cnpjCpfFornecedor    6628 non-null   float64\n",
      " 26  valorLiquido         7650 non-null   float64\n",
      " 27  valorGlosa           7650 non-null   float64\n",
      " 28  numRessarcimento     1032 non-null   float64\n",
      " 29  codLote              7650 non-null   int64  \n",
      " 30  parcela              7650 non-null   int64  \n",
      " 31  mes_nome             7650 non-null   object \n",
      " 32  espectro_politico    7650 non-null   object \n",
      "dtypes: float64(5), int64(9), object(19)\n",
      "memory usage: 1.9+ MB\n"
     ]
    }
   ],
   "source": [
    "df.info()"
   ]
  },
  {
   "cell_type": "code",
   "execution_count": null,
   "id": "39ae6486",
   "metadata": {},
   "outputs": [],
   "source": []
  },
  {
   "cell_type": "code",
   "execution_count": 38,
   "id": "83eb38ce",
   "metadata": {},
   "outputs": [
    {
     "data": {
      "text/html": [
       "<div>\n",
       "<style scoped>\n",
       "    .dataframe tbody tr th:only-of-type {\n",
       "        vertical-align: middle;\n",
       "    }\n",
       "\n",
       "    .dataframe tbody tr th {\n",
       "        vertical-align: top;\n",
       "    }\n",
       "\n",
       "    .dataframe thead th {\n",
       "        text-align: right;\n",
       "    }\n",
       "</style>\n",
       "<table border=\"1\" class=\"dataframe\">\n",
       "  <thead>\n",
       "    <tr style=\"text-align: right;\">\n",
       "      <th></th>\n",
       "      <th>tipoDespesa</th>\n",
       "      <th>valorLiquido</th>\n",
       "      <th>numero_despesas</th>\n",
       "    </tr>\n",
       "  </thead>\n",
       "  <tbody>\n",
       "    <tr>\n",
       "      <th>0</th>\n",
       "      <td>DIVULGAÇÃO DA ATIVIDADE PARLAMENTAR.</td>\n",
       "      <td>12039269.82</td>\n",
       "      <td>925</td>\n",
       "    </tr>\n",
       "    <tr>\n",
       "      <th>1</th>\n",
       "      <td>MANUTENÇÃO DE ESCRITÓRIO DE APOIO À ATIVIDADE ...</td>\n",
       "      <td>3607184.08</td>\n",
       "      <td>1882</td>\n",
       "    </tr>\n",
       "    <tr>\n",
       "      <th>2</th>\n",
       "      <td>LOCAÇÃO OU FRETAMENTO DE VEÍCULOS AUTOMOTORES</td>\n",
       "      <td>1584521.05</td>\n",
       "      <td>253</td>\n",
       "    </tr>\n",
       "    <tr>\n",
       "      <th>3</th>\n",
       "      <td>COMBUSTÍVEIS E LUBRIFICANTES.</td>\n",
       "      <td>1311104.55</td>\n",
       "      <td>3091</td>\n",
       "    </tr>\n",
       "    <tr>\n",
       "      <th>4</th>\n",
       "      <td>PASSAGEM AÉREA - SIGEPA</td>\n",
       "      <td>816516.97</td>\n",
       "      <td>1022</td>\n",
       "    </tr>\n",
       "    <tr>\n",
       "      <th>5</th>\n",
       "      <td>LOCAÇÃO OU FRETAMENTO DE AERONAVES</td>\n",
       "      <td>367682.71</td>\n",
       "      <td>11</td>\n",
       "    </tr>\n",
       "    <tr>\n",
       "      <th>6</th>\n",
       "      <td>SERVIÇO DE SEGURANÇA PRESTADO POR EMPRESA ESPE...</td>\n",
       "      <td>115762.74</td>\n",
       "      <td>21</td>\n",
       "    </tr>\n",
       "    <tr>\n",
       "      <th>7</th>\n",
       "      <td>TELEFONIA</td>\n",
       "      <td>68610.80</td>\n",
       "      <td>173</td>\n",
       "    </tr>\n",
       "    <tr>\n",
       "      <th>8</th>\n",
       "      <td>HOSPEDAGEM ,EXCETO DO PARLAMENTAR NO DISTRITO ...</td>\n",
       "      <td>36699.67</td>\n",
       "      <td>52</td>\n",
       "    </tr>\n",
       "    <tr>\n",
       "      <th>9</th>\n",
       "      <td>PASSAGEM AÉREA - REEMBOLSO</td>\n",
       "      <td>29825.53</td>\n",
       "      <td>10</td>\n",
       "    </tr>\n",
       "    <tr>\n",
       "      <th>10</th>\n",
       "      <td>PASSAGEM AÉREA - RPA</td>\n",
       "      <td>18014.25</td>\n",
       "      <td>10</td>\n",
       "    </tr>\n",
       "    <tr>\n",
       "      <th>11</th>\n",
       "      <td>LOCAÇÃO OU FRETAMENTO DE EMBARCAÇÕES</td>\n",
       "      <td>12000.00</td>\n",
       "      <td>2</td>\n",
       "    </tr>\n",
       "    <tr>\n",
       "      <th>12</th>\n",
       "      <td>SERVIÇO DE TÁXI, PEDÁGIO E ESTACIONAMENTO</td>\n",
       "      <td>11167.90</td>\n",
       "      <td>110</td>\n",
       "    </tr>\n",
       "    <tr>\n",
       "      <th>13</th>\n",
       "      <td>FORNECIMENTO DE ALIMENTAÇÃO DO PARLAMENTAR</td>\n",
       "      <td>7149.88</td>\n",
       "      <td>80</td>\n",
       "    </tr>\n",
       "    <tr>\n",
       "      <th>14</th>\n",
       "      <td>ASSINATURA DE PUBLICAÇÕES</td>\n",
       "      <td>705.30</td>\n",
       "      <td>7</td>\n",
       "    </tr>\n",
       "    <tr>\n",
       "      <th>15</th>\n",
       "      <td>PASSAGENS TERRESTRES, MARÍTIMAS OU FLUVIAIS</td>\n",
       "      <td>45.17</td>\n",
       "      <td>1</td>\n",
       "    </tr>\n",
       "  </tbody>\n",
       "</table>\n",
       "</div>"
      ],
      "text/plain": [
       "                                          tipoDespesa  valorLiquido  \\\n",
       "0                DIVULGAÇÃO DA ATIVIDADE PARLAMENTAR.   12039269.82   \n",
       "1   MANUTENÇÃO DE ESCRITÓRIO DE APOIO À ATIVIDADE ...    3607184.08   \n",
       "2       LOCAÇÃO OU FRETAMENTO DE VEÍCULOS AUTOMOTORES    1584521.05   \n",
       "3                       COMBUSTÍVEIS E LUBRIFICANTES.    1311104.55   \n",
       "4                             PASSAGEM AÉREA - SIGEPA     816516.97   \n",
       "5                  LOCAÇÃO OU FRETAMENTO DE AERONAVES     367682.71   \n",
       "6   SERVIÇO DE SEGURANÇA PRESTADO POR EMPRESA ESPE...     115762.74   \n",
       "7                                           TELEFONIA      68610.80   \n",
       "8   HOSPEDAGEM ,EXCETO DO PARLAMENTAR NO DISTRITO ...      36699.67   \n",
       "9                          PASSAGEM AÉREA - REEMBOLSO      29825.53   \n",
       "10                               PASSAGEM AÉREA - RPA      18014.25   \n",
       "11               LOCAÇÃO OU FRETAMENTO DE EMBARCAÇÕES      12000.00   \n",
       "12          SERVIÇO DE TÁXI, PEDÁGIO E ESTACIONAMENTO      11167.90   \n",
       "13         FORNECIMENTO DE ALIMENTAÇÃO DO PARLAMENTAR       7149.88   \n",
       "14                          ASSINATURA DE PUBLICAÇÕES        705.30   \n",
       "15        PASSAGENS TERRESTRES, MARÍTIMAS OU FLUVIAIS         45.17   \n",
       "\n",
       "    numero_despesas  \n",
       "0               925  \n",
       "1              1882  \n",
       "2               253  \n",
       "3              3091  \n",
       "4              1022  \n",
       "5                11  \n",
       "6                21  \n",
       "7               173  \n",
       "8                52  \n",
       "9                10  \n",
       "10               10  \n",
       "11                2  \n",
       "12              110  \n",
       "13               80  \n",
       "14                7  \n",
       "15                1  "
      ]
     },
     "execution_count": 38,
     "metadata": {},
     "output_type": "execute_result"
    }
   ],
   "source": [
    "gastos = df.groupby('tipoDespesa')['valorLiquido'].sum().sort_values(ascending=False)\n",
    "gastos = pd.DataFrame(gastos).reset_index()\n",
    "gastos['numero_despesas'] = gastos['tipoDespesa'].map(df['tipoDespesa'].value_counts())\n",
    "gastos"
   ]
  },
  {
   "cell_type": "code",
   "execution_count": 39,
   "id": "434632d4",
   "metadata": {},
   "outputs": [
    {
     "data": {
      "text/html": [
       "<div>\n",
       "<style scoped>\n",
       "    .dataframe tbody tr th:only-of-type {\n",
       "        vertical-align: middle;\n",
       "    }\n",
       "\n",
       "    .dataframe tbody tr th {\n",
       "        vertical-align: top;\n",
       "    }\n",
       "\n",
       "    .dataframe thead th {\n",
       "        text-align: right;\n",
       "    }\n",
       "</style>\n",
       "<table border=\"1\" class=\"dataframe\">\n",
       "  <thead>\n",
       "    <tr style=\"text-align: right;\">\n",
       "      <th></th>\n",
       "      <th>nomeFornecedor</th>\n",
       "      <th>valorLiquido</th>\n",
       "      <th>numero_despesas</th>\n",
       "      <th>nomeCivil</th>\n",
       "    </tr>\n",
       "  </thead>\n",
       "  <tbody>\n",
       "    <tr>\n",
       "      <th>0</th>\n",
       "      <td>QUALIGRAFF IMPRESSOS E SERVIÇOS GRÁFICOS LTDA</td>\n",
       "      <td>221500.00</td>\n",
       "      <td>6</td>\n",
       "      <td>JOÃO ALBERTO FRAGA SILVA</td>\n",
       "    </tr>\n",
       "    <tr>\n",
       "      <th>1</th>\n",
       "      <td>QUALIGRAFF IMPRESSOS E SERVIÇOS GRÁFICOS LTDA</td>\n",
       "      <td>221500.00</td>\n",
       "      <td>6</td>\n",
       "      <td>JOÃO ALBERTO FRAGA SILVA</td>\n",
       "    </tr>\n",
       "    <tr>\n",
       "      <th>2</th>\n",
       "      <td>QUALIGRAFF IMPRESSOS E SERVIÇOS GRÁFICOS LTDA</td>\n",
       "      <td>221500.00</td>\n",
       "      <td>6</td>\n",
       "      <td>JOÃO ALBERTO FRAGA SILVA</td>\n",
       "    </tr>\n",
       "    <tr>\n",
       "      <th>3</th>\n",
       "      <td>QUALIGRAFF IMPRESSOS E SERVIÇOS GRÁFICOS LTDA</td>\n",
       "      <td>221500.00</td>\n",
       "      <td>6</td>\n",
       "      <td>JOÃO ALBERTO FRAGA SILVA</td>\n",
       "    </tr>\n",
       "    <tr>\n",
       "      <th>4</th>\n",
       "      <td>QUALIGRAFF IMPRESSOS E SERVIÇOS GRÁFICOS LTDA</td>\n",
       "      <td>221500.00</td>\n",
       "      <td>6</td>\n",
       "      <td>JOÃO ALBERTO FRAGA SILVA</td>\n",
       "    </tr>\n",
       "    <tr>\n",
       "      <th>...</th>\n",
       "      <td>...</td>\n",
       "      <td>...</td>\n",
       "      <td>...</td>\n",
       "      <td>...</td>\n",
       "    </tr>\n",
       "    <tr>\n",
       "      <th>920</th>\n",
       "      <td>GIGA DIGITAL TECNOLOGIA E MARKETING LTDA</td>\n",
       "      <td>150.00</td>\n",
       "      <td>1</td>\n",
       "      <td>DORINALDO BARBOSA MALAFAIA</td>\n",
       "    </tr>\n",
       "    <tr>\n",
       "      <th>921</th>\n",
       "      <td>GOLDEN TIGER INTERMEDIACOES DE NEGOCIOS LTDA</td>\n",
       "      <td>111.80</td>\n",
       "      <td>2</td>\n",
       "      <td>FRANCISCO DANIEL CELEGUIM DE MORAIS</td>\n",
       "    </tr>\n",
       "    <tr>\n",
       "      <th>922</th>\n",
       "      <td>GOLDEN TIGER INTERMEDIACOES DE NEGOCIOS LTDA</td>\n",
       "      <td>111.80</td>\n",
       "      <td>2</td>\n",
       "      <td>FRANCISCO DANIEL CELEGUIM DE MORAIS</td>\n",
       "    </tr>\n",
       "    <tr>\n",
       "      <th>923</th>\n",
       "      <td>turbo cloud</td>\n",
       "      <td>64.90</td>\n",
       "      <td>1</td>\n",
       "      <td>LUIZ PHILIPPE DE ORLEANS BRAGANÇA</td>\n",
       "    </tr>\n",
       "    <tr>\n",
       "      <th>924</th>\n",
       "      <td>ASAS ASSESSORIA E CONSULTORIA LTDA</td>\n",
       "      <td>40.68</td>\n",
       "      <td>1</td>\n",
       "      <td>FERNANDO RODOLFO TENORIO DE VASCONCELOS</td>\n",
       "    </tr>\n",
       "  </tbody>\n",
       "</table>\n",
       "<p>925 rows × 4 columns</p>\n",
       "</div>"
      ],
      "text/plain": [
       "                                    nomeFornecedor  valorLiquido  \\\n",
       "0    QUALIGRAFF IMPRESSOS E SERVIÇOS GRÁFICOS LTDA     221500.00   \n",
       "1    QUALIGRAFF IMPRESSOS E SERVIÇOS GRÁFICOS LTDA     221500.00   \n",
       "2    QUALIGRAFF IMPRESSOS E SERVIÇOS GRÁFICOS LTDA     221500.00   \n",
       "3    QUALIGRAFF IMPRESSOS E SERVIÇOS GRÁFICOS LTDA     221500.00   \n",
       "4    QUALIGRAFF IMPRESSOS E SERVIÇOS GRÁFICOS LTDA     221500.00   \n",
       "..                                             ...           ...   \n",
       "920       GIGA DIGITAL TECNOLOGIA E MARKETING LTDA        150.00   \n",
       "921   GOLDEN TIGER INTERMEDIACOES DE NEGOCIOS LTDA        111.80   \n",
       "922   GOLDEN TIGER INTERMEDIACOES DE NEGOCIOS LTDA        111.80   \n",
       "923                                    turbo cloud         64.90   \n",
       "924             ASAS ASSESSORIA E CONSULTORIA LTDA         40.68   \n",
       "\n",
       "     numero_despesas                                nomeCivil  \n",
       "0                  6                 JOÃO ALBERTO FRAGA SILVA  \n",
       "1                  6                 JOÃO ALBERTO FRAGA SILVA  \n",
       "2                  6                 JOÃO ALBERTO FRAGA SILVA  \n",
       "3                  6                 JOÃO ALBERTO FRAGA SILVA  \n",
       "4                  6                 JOÃO ALBERTO FRAGA SILVA  \n",
       "..               ...                                      ...  \n",
       "920                1               DORINALDO BARBOSA MALAFAIA  \n",
       "921                2      FRANCISCO DANIEL CELEGUIM DE MORAIS  \n",
       "922                2      FRANCISCO DANIEL CELEGUIM DE MORAIS  \n",
       "923                1        LUIZ PHILIPPE DE ORLEANS BRAGANÇA  \n",
       "924                1  FERNANDO RODOLFO TENORIO DE VASCONCELOS  \n",
       "\n",
       "[925 rows x 4 columns]"
      ]
     },
     "execution_count": 39,
     "metadata": {},
     "output_type": "execute_result"
    }
   ],
   "source": [
    "df_atividade_parlamentar = df[df['tipoDespesa'] == 'DIVULGAÇÃO DA ATIVIDADE PARLAMENTAR.']\n",
    "gastos_divulgacao = df_atividade_parlamentar.groupby('nomeFornecedor')['valorLiquido'].sum().sort_values(ascending=False)\n",
    "gastos_divulgacao = pd.DataFrame(gastos_divulgacao).reset_index()\n",
    "gastos_divulgacao['numero_despesas'] = gastos_divulgacao['nomeFornecedor'].map(df_atividade_parlamentar['nomeFornecedor'].value_counts())\n",
    "# Adicionando uma nova coluna com o nome do deputado responsável pela despesa\n",
    "gastos_divulgacao = gastos_divulgacao.merge(\n",
    "    df_atividade_parlamentar[['nomeFornecedor', 'nomeCivil']],\n",
    "    on='nomeFornecedor',\n",
    "    how='left'\n",
    ")\n",
    "\n",
    "gastos_divulgacao"
   ]
  },
  {
   "cell_type": "code",
   "execution_count": 40,
   "id": "8e2f0c60",
   "metadata": {},
   "outputs": [
    {
     "data": {
      "text/html": [
       "<div>\n",
       "<style scoped>\n",
       "    .dataframe tbody tr th:only-of-type {\n",
       "        vertical-align: middle;\n",
       "    }\n",
       "\n",
       "    .dataframe tbody tr th {\n",
       "        vertical-align: top;\n",
       "    }\n",
       "\n",
       "    .dataframe thead th {\n",
       "        text-align: right;\n",
       "    }\n",
       "</style>\n",
       "<table border=\"1\" class=\"dataframe\">\n",
       "  <thead>\n",
       "    <tr style=\"text-align: right;\">\n",
       "      <th></th>\n",
       "      <th>id</th>\n",
       "      <th>nome</th>\n",
       "      <th>siglaPartido</th>\n",
       "      <th>siglaUf</th>\n",
       "      <th>idLegislatura</th>\n",
       "      <th>urlFoto</th>\n",
       "      <th>email</th>\n",
       "      <th>nomeCivil</th>\n",
       "      <th>cpf</th>\n",
       "      <th>sexo</th>\n",
       "      <th>dataNascimento</th>\n",
       "      <th>ufNascimento</th>\n",
       "      <th>municipioNascimento</th>\n",
       "      <th>escolaridade</th>\n",
       "      <th>ano</th>\n",
       "      <th>mes</th>\n",
       "      <th>tipoDespesa</th>\n",
       "      <th>codDocumento</th>\n",
       "      <th>tipoDocumento</th>\n",
       "      <th>codTipoDocumento</th>\n",
       "      <th>dataDocumento</th>\n",
       "      <th>numDocumento</th>\n",
       "      <th>valorDocumento</th>\n",
       "      <th>urlDocumento</th>\n",
       "      <th>nomeFornecedor</th>\n",
       "      <th>cnpjCpfFornecedor</th>\n",
       "      <th>valorLiquido</th>\n",
       "      <th>valorGlosa</th>\n",
       "      <th>numRessarcimento</th>\n",
       "      <th>codLote</th>\n",
       "      <th>parcela</th>\n",
       "      <th>mes_nome</th>\n",
       "      <th>espectro_politico</th>\n",
       "    </tr>\n",
       "  </thead>\n",
       "  <tbody>\n",
       "    <tr>\n",
       "      <th>6170</th>\n",
       "      <td>160601</td>\n",
       "      <td>Pr. Marco Feliciano</td>\n",
       "      <td>PL</td>\n",
       "      <td>SP</td>\n",
       "      <td>57</td>\n",
       "      <td>https://www.camara.leg.br/internet/deputado/ba...</td>\n",
       "      <td>dep.pr.marcofeliciano@camara.leg.br</td>\n",
       "      <td>MARCO ANTÔNIO FELICIANO</td>\n",
       "      <td>13117532811</td>\n",
       "      <td>M</td>\n",
       "      <td>1972-10-12</td>\n",
       "      <td>SP</td>\n",
       "      <td>Orlândia</td>\n",
       "      <td>Superior</td>\n",
       "      <td>2024</td>\n",
       "      <td>12</td>\n",
       "      <td>DIVULGAÇÃO DA ATIVIDADE PARLAMENTAR.</td>\n",
       "      <td>7850688</td>\n",
       "      <td>Nota Fiscal</td>\n",
       "      <td>0</td>\n",
       "      <td>2024-12-20T00:00:00</td>\n",
       "      <td>00001778</td>\n",
       "      <td>99870.0</td>\n",
       "      <td>https://www.camara.leg.br/cota-parlamentar/doc...</td>\n",
       "      <td>STUDIO AB - CRIATIVIDADE VISUAL EIRELI - EPP</td>\n",
       "      <td>3.502994e+13</td>\n",
       "      <td>99870.0</td>\n",
       "      <td>0.0</td>\n",
       "      <td>NaN</td>\n",
       "      <td>2099989</td>\n",
       "      <td>0</td>\n",
       "      <td>Dezembro</td>\n",
       "      <td>Centro-direita</td>\n",
       "    </tr>\n",
       "  </tbody>\n",
       "</table>\n",
       "</div>"
      ],
      "text/plain": [
       "          id                 nome siglaPartido siglaUf  idLegislatura  \\\n",
       "6170  160601  Pr. Marco Feliciano           PL      SP             57   \n",
       "\n",
       "                                                urlFoto  \\\n",
       "6170  https://www.camara.leg.br/internet/deputado/ba...   \n",
       "\n",
       "                                    email                nomeCivil  \\\n",
       "6170  dep.pr.marcofeliciano@camara.leg.br  MARCO ANTÔNIO FELICIANO   \n",
       "\n",
       "              cpf sexo dataNascimento ufNascimento municipioNascimento  \\\n",
       "6170  13117532811    M     1972-10-12           SP            Orlândia   \n",
       "\n",
       "     escolaridade   ano  mes                           tipoDespesa  \\\n",
       "6170     Superior  2024   12  DIVULGAÇÃO DA ATIVIDADE PARLAMENTAR.   \n",
       "\n",
       "      codDocumento tipoDocumento  codTipoDocumento        dataDocumento  \\\n",
       "6170       7850688   Nota Fiscal                 0  2024-12-20T00:00:00   \n",
       "\n",
       "     numDocumento  valorDocumento  \\\n",
       "6170     00001778         99870.0   \n",
       "\n",
       "                                           urlDocumento  \\\n",
       "6170  https://www.camara.leg.br/cota-parlamentar/doc...   \n",
       "\n",
       "                                    nomeFornecedor  cnpjCpfFornecedor  \\\n",
       "6170  STUDIO AB - CRIATIVIDADE VISUAL EIRELI - EPP       3.502994e+13   \n",
       "\n",
       "      valorLiquido  valorGlosa  numRessarcimento  codLote  parcela  mes_nome  \\\n",
       "6170       99870.0         0.0               NaN  2099989        0  Dezembro   \n",
       "\n",
       "     espectro_politico  \n",
       "6170    Centro-direita  "
      ]
     },
     "execution_count": 40,
     "metadata": {},
     "output_type": "execute_result"
    }
   ],
   "source": [
    "filtro = df_atividade_parlamentar[df_atividade_parlamentar['nomeFornecedor'] == 'STUDIO AB - CRIATIVIDADE VISUAL EIRELI - EPP']\n",
    "filtro"
   ]
  }
 ],
 "metadata": {
  "kernelspec": {
   "display_name": "dataglowup-43-ZP4UPBpA-py3.12",
   "language": "python",
   "name": "python3"
  },
  "language_info": {
   "codemirror_mode": {
    "name": "ipython",
    "version": 3
   },
   "file_extension": ".py",
   "mimetype": "text/x-python",
   "name": "python",
   "nbconvert_exporter": "python",
   "pygments_lexer": "ipython3",
   "version": "3.12.1"
  }
 },
 "nbformat": 4,
 "nbformat_minor": 5
}
