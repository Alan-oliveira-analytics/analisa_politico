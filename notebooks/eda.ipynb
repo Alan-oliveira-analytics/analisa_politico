{
 "cells": [
  {
   "cell_type": "markdown",
   "id": "0cf00358",
   "metadata": {},
   "source": [
    "Objetivo:\n",
    "- Explorar os dados disponíveis\n",
    "- Ter uma ideia das possibilidades para o Dashboard interativo\n",
    "- Análise gráfica"
   ]
  },
  {
   "cell_type": "markdown",
   "id": "4318bab7",
   "metadata": {},
   "source": [
    "# Importando Bibliotecas"
   ]
  },
  {
   "cell_type": "code",
   "execution_count": 1,
   "id": "3418c829",
   "metadata": {},
   "outputs": [],
   "source": [
    "import pandas as pd\n",
    "import numpy as np\n",
    "\n",
    "import matplotlib.pyplot as plt\n",
    "import plotly.express as px\n",
    "import seaborn as sns\n",
    "import nbformat"
   ]
  },
  {
   "cell_type": "code",
   "execution_count": 2,
   "id": "49029d55",
   "metadata": {},
   "outputs": [],
   "source": [
    "pd.set_option('display.max_columns', None)"
   ]
  },
  {
   "cell_type": "markdown",
   "id": "f786c891",
   "metadata": {},
   "source": [
    "# Lendo Base"
   ]
  },
  {
   "cell_type": "code",
   "execution_count": 3,
   "id": "78319b01",
   "metadata": {},
   "outputs": [],
   "source": [
    "df = pd.read_csv('../data/df_deputados.csv')\n",
    "df.drop(columns=['Unnamed: 0'], inplace=True)"
   ]
  },
  {
   "cell_type": "code",
   "execution_count": 4,
   "id": "48a35da2",
   "metadata": {},
   "outputs": [
    {
     "data": {
      "text/html": [
       "<div>\n",
       "<style scoped>\n",
       "    .dataframe tbody tr th:only-of-type {\n",
       "        vertical-align: middle;\n",
       "    }\n",
       "\n",
       "    .dataframe tbody tr th {\n",
       "        vertical-align: top;\n",
       "    }\n",
       "\n",
       "    .dataframe thead th {\n",
       "        text-align: right;\n",
       "    }\n",
       "</style>\n",
       "<table border=\"1\" class=\"dataframe\">\n",
       "  <thead>\n",
       "    <tr style=\"text-align: right;\">\n",
       "      <th></th>\n",
       "      <th>id</th>\n",
       "      <th>nome</th>\n",
       "      <th>siglaPartido</th>\n",
       "      <th>siglaUf</th>\n",
       "      <th>idLegislatura</th>\n",
       "      <th>urlFoto</th>\n",
       "      <th>email</th>\n",
       "      <th>nomeCivil</th>\n",
       "      <th>cpf</th>\n",
       "      <th>sexo</th>\n",
       "      <th>dataNascimento</th>\n",
       "      <th>ufNascimento</th>\n",
       "      <th>municipioNascimento</th>\n",
       "      <th>escolaridade</th>\n",
       "      <th>ano</th>\n",
       "      <th>mes</th>\n",
       "      <th>tipoDespesa</th>\n",
       "      <th>codDocumento</th>\n",
       "      <th>tipoDocumento</th>\n",
       "      <th>codTipoDocumento</th>\n",
       "      <th>dataDocumento</th>\n",
       "      <th>numDocumento</th>\n",
       "      <th>valorDocumento</th>\n",
       "      <th>urlDocumento</th>\n",
       "      <th>nomeFornecedor</th>\n",
       "      <th>cnpjCpfFornecedor</th>\n",
       "      <th>valorLiquido</th>\n",
       "      <th>valorGlosa</th>\n",
       "      <th>numRessarcimento</th>\n",
       "      <th>codLote</th>\n",
       "      <th>parcela</th>\n",
       "    </tr>\n",
       "  </thead>\n",
       "  <tbody>\n",
       "    <tr>\n",
       "      <th>0</th>\n",
       "      <td>204379</td>\n",
       "      <td>Acácio Favacho</td>\n",
       "      <td>MDB</td>\n",
       "      <td>AP</td>\n",
       "      <td>57</td>\n",
       "      <td>https://www.camara.leg.br/internet/deputado/ba...</td>\n",
       "      <td>dep.acaciofavacho@camara.leg.br</td>\n",
       "      <td>ACÁCIO DA SILVA FAVACHO NETO</td>\n",
       "      <td>74287028287</td>\n",
       "      <td>M</td>\n",
       "      <td>1983-09-28</td>\n",
       "      <td>AP</td>\n",
       "      <td>Macapá</td>\n",
       "      <td>Superior</td>\n",
       "      <td>2024.0</td>\n",
       "      <td>11.0</td>\n",
       "      <td>MANUTENÇÃO DE ESCRITÓRIO DE APOIO À ATIVIDADE ...</td>\n",
       "      <td>7837655.0</td>\n",
       "      <td>Nota Fiscal</td>\n",
       "      <td>0.0</td>\n",
       "      <td>2024-11-06T00:00:00</td>\n",
       "      <td>1735</td>\n",
       "      <td>750.00</td>\n",
       "      <td>https://www.camara.leg.br/cota-parlamentar/doc...</td>\n",
       "      <td>AMORETTO CAFES EXPRESSO LTDA</td>\n",
       "      <td>8.532429e+12</td>\n",
       "      <td>750.00</td>\n",
       "      <td>0.0</td>\n",
       "      <td>NaN</td>\n",
       "      <td>2092841.0</td>\n",
       "      <td>0.0</td>\n",
       "    </tr>\n",
       "    <tr>\n",
       "      <th>1</th>\n",
       "      <td>204379</td>\n",
       "      <td>Acácio Favacho</td>\n",
       "      <td>MDB</td>\n",
       "      <td>AP</td>\n",
       "      <td>57</td>\n",
       "      <td>https://www.camara.leg.br/internet/deputado/ba...</td>\n",
       "      <td>dep.acaciofavacho@camara.leg.br</td>\n",
       "      <td>ACÁCIO DA SILVA FAVACHO NETO</td>\n",
       "      <td>74287028287</td>\n",
       "      <td>M</td>\n",
       "      <td>1983-09-28</td>\n",
       "      <td>AP</td>\n",
       "      <td>Macapá</td>\n",
       "      <td>Superior</td>\n",
       "      <td>2024.0</td>\n",
       "      <td>12.0</td>\n",
       "      <td>MANUTENÇÃO DE ESCRITÓRIO DE APOIO À ATIVIDADE ...</td>\n",
       "      <td>7838902.0</td>\n",
       "      <td>Nota Fiscal</td>\n",
       "      <td>0.0</td>\n",
       "      <td>2024-12-03T00:00:00</td>\n",
       "      <td>1806</td>\n",
       "      <td>750.00</td>\n",
       "      <td>https://www.camara.leg.br/cota-parlamentar/doc...</td>\n",
       "      <td>AMORETTO CAFES EXPRESSO LTDA</td>\n",
       "      <td>8.532429e+12</td>\n",
       "      <td>750.00</td>\n",
       "      <td>0.0</td>\n",
       "      <td>NaN</td>\n",
       "      <td>2093592.0</td>\n",
       "      <td>0.0</td>\n",
       "    </tr>\n",
       "    <tr>\n",
       "      <th>2</th>\n",
       "      <td>204379</td>\n",
       "      <td>Acácio Favacho</td>\n",
       "      <td>MDB</td>\n",
       "      <td>AP</td>\n",
       "      <td>57</td>\n",
       "      <td>https://www.camara.leg.br/internet/deputado/ba...</td>\n",
       "      <td>dep.acaciofavacho@camara.leg.br</td>\n",
       "      <td>ACÁCIO DA SILVA FAVACHO NETO</td>\n",
       "      <td>74287028287</td>\n",
       "      <td>M</td>\n",
       "      <td>1983-09-28</td>\n",
       "      <td>AP</td>\n",
       "      <td>Macapá</td>\n",
       "      <td>Superior</td>\n",
       "      <td>2024.0</td>\n",
       "      <td>11.0</td>\n",
       "      <td>COMBUSTÍVEIS E LUBRIFICANTES.</td>\n",
       "      <td>7833232.0</td>\n",
       "      <td>Nota Fiscal Eletrônica</td>\n",
       "      <td>4.0</td>\n",
       "      <td>2024-11-12T14:48:43</td>\n",
       "      <td>432734</td>\n",
       "      <td>333.12</td>\n",
       "      <td>http://www.camara.leg.br/cota-parlamentar/nota...</td>\n",
       "      <td>031 - 302 NORTE - CASCOL COMBUSTIVEIS PARA VEI...</td>\n",
       "      <td>3.065970e+11</td>\n",
       "      <td>333.12</td>\n",
       "      <td>0.0</td>\n",
       "      <td>NaN</td>\n",
       "      <td>2090590.0</td>\n",
       "      <td>0.0</td>\n",
       "    </tr>\n",
       "    <tr>\n",
       "      <th>3</th>\n",
       "      <td>204379</td>\n",
       "      <td>Acácio Favacho</td>\n",
       "      <td>MDB</td>\n",
       "      <td>AP</td>\n",
       "      <td>57</td>\n",
       "      <td>https://www.camara.leg.br/internet/deputado/ba...</td>\n",
       "      <td>dep.acaciofavacho@camara.leg.br</td>\n",
       "      <td>ACÁCIO DA SILVA FAVACHO NETO</td>\n",
       "      <td>74287028287</td>\n",
       "      <td>M</td>\n",
       "      <td>1983-09-28</td>\n",
       "      <td>AP</td>\n",
       "      <td>Macapá</td>\n",
       "      <td>Superior</td>\n",
       "      <td>2024.0</td>\n",
       "      <td>11.0</td>\n",
       "      <td>COMBUSTÍVEIS E LUBRIFICANTES.</td>\n",
       "      <td>7833238.0</td>\n",
       "      <td>Nota Fiscal Eletrônica</td>\n",
       "      <td>4.0</td>\n",
       "      <td>2024-11-14T17:52:07</td>\n",
       "      <td>433490</td>\n",
       "      <td>300.00</td>\n",
       "      <td>http://www.camara.leg.br/cota-parlamentar/nota...</td>\n",
       "      <td>031 - 302 NORTE - CASCOL COMBUSTIVEIS PARA VEI...</td>\n",
       "      <td>3.065970e+11</td>\n",
       "      <td>300.00</td>\n",
       "      <td>0.0</td>\n",
       "      <td>NaN</td>\n",
       "      <td>2090590.0</td>\n",
       "      <td>0.0</td>\n",
       "    </tr>\n",
       "    <tr>\n",
       "      <th>4</th>\n",
       "      <td>204379</td>\n",
       "      <td>Acácio Favacho</td>\n",
       "      <td>MDB</td>\n",
       "      <td>AP</td>\n",
       "      <td>57</td>\n",
       "      <td>https://www.camara.leg.br/internet/deputado/ba...</td>\n",
       "      <td>dep.acaciofavacho@camara.leg.br</td>\n",
       "      <td>ACÁCIO DA SILVA FAVACHO NETO</td>\n",
       "      <td>74287028287</td>\n",
       "      <td>M</td>\n",
       "      <td>1983-09-28</td>\n",
       "      <td>AP</td>\n",
       "      <td>Macapá</td>\n",
       "      <td>Superior</td>\n",
       "      <td>2024.0</td>\n",
       "      <td>11.0</td>\n",
       "      <td>COMBUSTÍVEIS E LUBRIFICANTES.</td>\n",
       "      <td>7833235.0</td>\n",
       "      <td>Nota Fiscal Eletrônica</td>\n",
       "      <td>4.0</td>\n",
       "      <td>2024-11-19T19:56:23</td>\n",
       "      <td>434554</td>\n",
       "      <td>330.30</td>\n",
       "      <td>http://www.camara.leg.br/cota-parlamentar/nota...</td>\n",
       "      <td>031 - 302 NORTE - CASCOL COMBUSTIVEIS PARA VEI...</td>\n",
       "      <td>3.065970e+11</td>\n",
       "      <td>330.30</td>\n",
       "      <td>0.0</td>\n",
       "      <td>NaN</td>\n",
       "      <td>2090590.0</td>\n",
       "      <td>0.0</td>\n",
       "    </tr>\n",
       "  </tbody>\n",
       "</table>\n",
       "</div>"
      ],
      "text/plain": [
       "       id            nome siglaPartido siglaUf  idLegislatura  \\\n",
       "0  204379  Acácio Favacho          MDB      AP             57   \n",
       "1  204379  Acácio Favacho          MDB      AP             57   \n",
       "2  204379  Acácio Favacho          MDB      AP             57   \n",
       "3  204379  Acácio Favacho          MDB      AP             57   \n",
       "4  204379  Acácio Favacho          MDB      AP             57   \n",
       "\n",
       "                                             urlFoto  \\\n",
       "0  https://www.camara.leg.br/internet/deputado/ba...   \n",
       "1  https://www.camara.leg.br/internet/deputado/ba...   \n",
       "2  https://www.camara.leg.br/internet/deputado/ba...   \n",
       "3  https://www.camara.leg.br/internet/deputado/ba...   \n",
       "4  https://www.camara.leg.br/internet/deputado/ba...   \n",
       "\n",
       "                             email                     nomeCivil          cpf  \\\n",
       "0  dep.acaciofavacho@camara.leg.br  ACÁCIO DA SILVA FAVACHO NETO  74287028287   \n",
       "1  dep.acaciofavacho@camara.leg.br  ACÁCIO DA SILVA FAVACHO NETO  74287028287   \n",
       "2  dep.acaciofavacho@camara.leg.br  ACÁCIO DA SILVA FAVACHO NETO  74287028287   \n",
       "3  dep.acaciofavacho@camara.leg.br  ACÁCIO DA SILVA FAVACHO NETO  74287028287   \n",
       "4  dep.acaciofavacho@camara.leg.br  ACÁCIO DA SILVA FAVACHO NETO  74287028287   \n",
       "\n",
       "  sexo dataNascimento ufNascimento municipioNascimento escolaridade     ano  \\\n",
       "0    M     1983-09-28           AP              Macapá     Superior  2024.0   \n",
       "1    M     1983-09-28           AP              Macapá     Superior  2024.0   \n",
       "2    M     1983-09-28           AP              Macapá     Superior  2024.0   \n",
       "3    M     1983-09-28           AP              Macapá     Superior  2024.0   \n",
       "4    M     1983-09-28           AP              Macapá     Superior  2024.0   \n",
       "\n",
       "    mes                                        tipoDespesa  codDocumento  \\\n",
       "0  11.0  MANUTENÇÃO DE ESCRITÓRIO DE APOIO À ATIVIDADE ...     7837655.0   \n",
       "1  12.0  MANUTENÇÃO DE ESCRITÓRIO DE APOIO À ATIVIDADE ...     7838902.0   \n",
       "2  11.0                      COMBUSTÍVEIS E LUBRIFICANTES.     7833232.0   \n",
       "3  11.0                      COMBUSTÍVEIS E LUBRIFICANTES.     7833238.0   \n",
       "4  11.0                      COMBUSTÍVEIS E LUBRIFICANTES.     7833235.0   \n",
       "\n",
       "            tipoDocumento  codTipoDocumento        dataDocumento numDocumento  \\\n",
       "0             Nota Fiscal               0.0  2024-11-06T00:00:00         1735   \n",
       "1             Nota Fiscal               0.0  2024-12-03T00:00:00         1806   \n",
       "2  Nota Fiscal Eletrônica               4.0  2024-11-12T14:48:43       432734   \n",
       "3  Nota Fiscal Eletrônica               4.0  2024-11-14T17:52:07       433490   \n",
       "4  Nota Fiscal Eletrônica               4.0  2024-11-19T19:56:23       434554   \n",
       "\n",
       "   valorDocumento                                       urlDocumento  \\\n",
       "0          750.00  https://www.camara.leg.br/cota-parlamentar/doc...   \n",
       "1          750.00  https://www.camara.leg.br/cota-parlamentar/doc...   \n",
       "2          333.12  http://www.camara.leg.br/cota-parlamentar/nota...   \n",
       "3          300.00  http://www.camara.leg.br/cota-parlamentar/nota...   \n",
       "4          330.30  http://www.camara.leg.br/cota-parlamentar/nota...   \n",
       "\n",
       "                                      nomeFornecedor  cnpjCpfFornecedor  \\\n",
       "0                       AMORETTO CAFES EXPRESSO LTDA       8.532429e+12   \n",
       "1                       AMORETTO CAFES EXPRESSO LTDA       8.532429e+12   \n",
       "2  031 - 302 NORTE - CASCOL COMBUSTIVEIS PARA VEI...       3.065970e+11   \n",
       "3  031 - 302 NORTE - CASCOL COMBUSTIVEIS PARA VEI...       3.065970e+11   \n",
       "4  031 - 302 NORTE - CASCOL COMBUSTIVEIS PARA VEI...       3.065970e+11   \n",
       "\n",
       "   valorLiquido  valorGlosa  numRessarcimento    codLote  parcela  \n",
       "0        750.00         0.0               NaN  2092841.0      0.0  \n",
       "1        750.00         0.0               NaN  2093592.0      0.0  \n",
       "2        333.12         0.0               NaN  2090590.0      0.0  \n",
       "3        300.00         0.0               NaN  2090590.0      0.0  \n",
       "4        330.30         0.0               NaN  2090590.0      0.0  "
      ]
     },
     "execution_count": 4,
     "metadata": {},
     "output_type": "execute_result"
    }
   ],
   "source": [
    "df.head()"
   ]
  },
  {
   "cell_type": "code",
   "execution_count": 5,
   "id": "8ccbec0d",
   "metadata": {},
   "outputs": [
    {
     "data": {
      "text/plain": [
       "Index(['id', 'nome', 'siglaPartido', 'siglaUf', 'idLegislatura', 'urlFoto',\n",
       "       'email', 'nomeCivil', 'cpf', 'sexo', 'dataNascimento', 'ufNascimento',\n",
       "       'municipioNascimento', 'escolaridade', 'ano', 'mes', 'tipoDespesa',\n",
       "       'codDocumento', 'tipoDocumento', 'codTipoDocumento', 'dataDocumento',\n",
       "       'numDocumento', 'valorDocumento', 'urlDocumento', 'nomeFornecedor',\n",
       "       'cnpjCpfFornecedor', 'valorLiquido', 'valorGlosa', 'numRessarcimento',\n",
       "       'codLote', 'parcela'],\n",
       "      dtype='object')"
      ]
     },
     "execution_count": 5,
     "metadata": {},
     "output_type": "execute_result"
    }
   ],
   "source": [
    "df.columns"
   ]
  },
  {
   "cell_type": "markdown",
   "id": "dbbf0a8c",
   "metadata": {},
   "source": [
    "# Avaliando Partidos Políticos"
   ]
  },
  {
   "cell_type": "code",
   "execution_count": 6,
   "id": "00b7c9ab",
   "metadata": {},
   "outputs": [],
   "source": [
    "df_unique_id = df.sort_values(['id']).drop_duplicates('id', keep='first')"
   ]
  },
  {
   "cell_type": "markdown",
   "id": "b38886b1",
   "metadata": {},
   "source": [
    "## Número de candidatos por Partido"
   ]
  },
  {
   "cell_type": "code",
   "execution_count": 7,
   "id": "e70eb19e",
   "metadata": {},
   "outputs": [
    {
     "data": {
      "text/html": [
       "<div>\n",
       "<style scoped>\n",
       "    .dataframe tbody tr th:only-of-type {\n",
       "        vertical-align: middle;\n",
       "    }\n",
       "\n",
       "    .dataframe tbody tr th {\n",
       "        vertical-align: top;\n",
       "    }\n",
       "\n",
       "    .dataframe thead th {\n",
       "        text-align: right;\n",
       "    }\n",
       "</style>\n",
       "<table border=\"1\" class=\"dataframe\">\n",
       "  <thead>\n",
       "    <tr style=\"text-align: right;\">\n",
       "      <th></th>\n",
       "      <th>siglaPartido</th>\n",
       "      <th>count</th>\n",
       "    </tr>\n",
       "  </thead>\n",
       "  <tbody>\n",
       "    <tr>\n",
       "      <th>0</th>\n",
       "      <td>PL</td>\n",
       "      <td>89</td>\n",
       "    </tr>\n",
       "    <tr>\n",
       "      <th>1</th>\n",
       "      <td>PT</td>\n",
       "      <td>67</td>\n",
       "    </tr>\n",
       "    <tr>\n",
       "      <th>2</th>\n",
       "      <td>UNIÃO</td>\n",
       "      <td>58</td>\n",
       "    </tr>\n",
       "    <tr>\n",
       "      <th>3</th>\n",
       "      <td>PP</td>\n",
       "      <td>49</td>\n",
       "    </tr>\n",
       "    <tr>\n",
       "      <th>4</th>\n",
       "      <td>REPUBLICANOS</td>\n",
       "      <td>45</td>\n",
       "    </tr>\n",
       "    <tr>\n",
       "      <th>5</th>\n",
       "      <td>PSD</td>\n",
       "      <td>44</td>\n",
       "    </tr>\n",
       "    <tr>\n",
       "      <th>6</th>\n",
       "      <td>MDB</td>\n",
       "      <td>44</td>\n",
       "    </tr>\n",
       "    <tr>\n",
       "      <th>7</th>\n",
       "      <td>PDT</td>\n",
       "      <td>17</td>\n",
       "    </tr>\n",
       "    <tr>\n",
       "      <th>8</th>\n",
       "      <td>PODE</td>\n",
       "      <td>15</td>\n",
       "    </tr>\n",
       "    <tr>\n",
       "      <th>9</th>\n",
       "      <td>PSB</td>\n",
       "      <td>15</td>\n",
       "    </tr>\n",
       "    <tr>\n",
       "      <th>10</th>\n",
       "      <td>PSOL</td>\n",
       "      <td>13</td>\n",
       "    </tr>\n",
       "    <tr>\n",
       "      <th>11</th>\n",
       "      <td>PSDB</td>\n",
       "      <td>13</td>\n",
       "    </tr>\n",
       "    <tr>\n",
       "      <th>12</th>\n",
       "      <td>PCdoB</td>\n",
       "      <td>8</td>\n",
       "    </tr>\n",
       "    <tr>\n",
       "      <th>13</th>\n",
       "      <td>AVANTE</td>\n",
       "      <td>8</td>\n",
       "    </tr>\n",
       "    <tr>\n",
       "      <th>14</th>\n",
       "      <td>PV</td>\n",
       "      <td>5</td>\n",
       "    </tr>\n",
       "    <tr>\n",
       "      <th>15</th>\n",
       "      <td>NOVO</td>\n",
       "      <td>5</td>\n",
       "    </tr>\n",
       "    <tr>\n",
       "      <th>16</th>\n",
       "      <td>PRD</td>\n",
       "      <td>5</td>\n",
       "    </tr>\n",
       "    <tr>\n",
       "      <th>17</th>\n",
       "      <td>CIDADANIA</td>\n",
       "      <td>4</td>\n",
       "    </tr>\n",
       "    <tr>\n",
       "      <th>18</th>\n",
       "      <td>SOLIDARIEDADE</td>\n",
       "      <td>4</td>\n",
       "    </tr>\n",
       "    <tr>\n",
       "      <th>19</th>\n",
       "      <td>REDE</td>\n",
       "      <td>1</td>\n",
       "    </tr>\n",
       "  </tbody>\n",
       "</table>\n",
       "</div>"
      ],
      "text/plain": [
       "     siglaPartido  count\n",
       "0              PL     89\n",
       "1              PT     67\n",
       "2           UNIÃO     58\n",
       "3              PP     49\n",
       "4    REPUBLICANOS     45\n",
       "5             PSD     44\n",
       "6             MDB     44\n",
       "7             PDT     17\n",
       "8            PODE     15\n",
       "9             PSB     15\n",
       "10           PSOL     13\n",
       "11           PSDB     13\n",
       "12          PCdoB      8\n",
       "13         AVANTE      8\n",
       "14             PV      5\n",
       "15           NOVO      5\n",
       "16            PRD      5\n",
       "17      CIDADANIA      4\n",
       "18  SOLIDARIEDADE      4\n",
       "19           REDE      1"
      ]
     },
     "execution_count": 7,
     "metadata": {},
     "output_type": "execute_result"
    }
   ],
   "source": [
    "candidatos_por_partido = df_unique_id['siglaPartido'].value_counts()\n",
    "candidatos_por_partido = pd.DataFrame(candidatos_por_partido).reset_index()\n",
    "candidatos_por_partido"
   ]
  },
  {
   "cell_type": "code",
   "execution_count": 8,
   "id": "31aa6ff7",
   "metadata": {},
   "outputs": [
    {
     "data": {
      "application/vnd.plotly.v1+json": {
       "config": {
        "plotlyServerURL": "https://plot.ly"
       },
       "data": [
        {
         "hovertemplate": "siglaPartido=%{x}<br>count=%{y}<extra></extra>",
         "legendgroup": "",
         "marker": {
          "color": "#636efa",
          "pattern": {
           "shape": ""
          }
         },
         "name": "",
         "orientation": "v",
         "showlegend": false,
         "textposition": "auto",
         "texttemplate": "%{y:.2s}",
         "type": "bar",
         "x": [
          "PL",
          "PT",
          "UNIÃO",
          "PP",
          "REPUBLICANOS",
          "PSD",
          "MDB",
          "PDT",
          "PODE",
          "PSB",
          "PSOL",
          "PSDB",
          "PCdoB",
          "AVANTE",
          "PV",
          "NOVO",
          "PRD",
          "CIDADANIA",
          "SOLIDARIEDADE",
          "REDE"
         ],
         "xaxis": "x",
         "y": {
          "bdata": "WUM6MS0sLBEPDw0NCAgFBQUEBAE=",
          "dtype": "i1"
         },
         "yaxis": "y"
        }
       ],
       "layout": {
        "barmode": "relative",
        "legend": {
         "tracegroupgap": 0
        },
        "template": {
         "data": {
          "bar": [
           {
            "error_x": {
             "color": "#2a3f5f"
            },
            "error_y": {
             "color": "#2a3f5f"
            },
            "marker": {
             "line": {
              "color": "#E5ECF6",
              "width": 0.5
             },
             "pattern": {
              "fillmode": "overlay",
              "size": 10,
              "solidity": 0.2
             }
            },
            "type": "bar"
           }
          ],
          "barpolar": [
           {
            "marker": {
             "line": {
              "color": "#E5ECF6",
              "width": 0.5
             },
             "pattern": {
              "fillmode": "overlay",
              "size": 10,
              "solidity": 0.2
             }
            },
            "type": "barpolar"
           }
          ],
          "carpet": [
           {
            "aaxis": {
             "endlinecolor": "#2a3f5f",
             "gridcolor": "white",
             "linecolor": "white",
             "minorgridcolor": "white",
             "startlinecolor": "#2a3f5f"
            },
            "baxis": {
             "endlinecolor": "#2a3f5f",
             "gridcolor": "white",
             "linecolor": "white",
             "minorgridcolor": "white",
             "startlinecolor": "#2a3f5f"
            },
            "type": "carpet"
           }
          ],
          "choropleth": [
           {
            "colorbar": {
             "outlinewidth": 0,
             "ticks": ""
            },
            "type": "choropleth"
           }
          ],
          "contour": [
           {
            "colorbar": {
             "outlinewidth": 0,
             "ticks": ""
            },
            "colorscale": [
             [
              0,
              "#0d0887"
             ],
             [
              0.1111111111111111,
              "#46039f"
             ],
             [
              0.2222222222222222,
              "#7201a8"
             ],
             [
              0.3333333333333333,
              "#9c179e"
             ],
             [
              0.4444444444444444,
              "#bd3786"
             ],
             [
              0.5555555555555556,
              "#d8576b"
             ],
             [
              0.6666666666666666,
              "#ed7953"
             ],
             [
              0.7777777777777778,
              "#fb9f3a"
             ],
             [
              0.8888888888888888,
              "#fdca26"
             ],
             [
              1,
              "#f0f921"
             ]
            ],
            "type": "contour"
           }
          ],
          "contourcarpet": [
           {
            "colorbar": {
             "outlinewidth": 0,
             "ticks": ""
            },
            "type": "contourcarpet"
           }
          ],
          "heatmap": [
           {
            "colorbar": {
             "outlinewidth": 0,
             "ticks": ""
            },
            "colorscale": [
             [
              0,
              "#0d0887"
             ],
             [
              0.1111111111111111,
              "#46039f"
             ],
             [
              0.2222222222222222,
              "#7201a8"
             ],
             [
              0.3333333333333333,
              "#9c179e"
             ],
             [
              0.4444444444444444,
              "#bd3786"
             ],
             [
              0.5555555555555556,
              "#d8576b"
             ],
             [
              0.6666666666666666,
              "#ed7953"
             ],
             [
              0.7777777777777778,
              "#fb9f3a"
             ],
             [
              0.8888888888888888,
              "#fdca26"
             ],
             [
              1,
              "#f0f921"
             ]
            ],
            "type": "heatmap"
           }
          ],
          "histogram": [
           {
            "marker": {
             "pattern": {
              "fillmode": "overlay",
              "size": 10,
              "solidity": 0.2
             }
            },
            "type": "histogram"
           }
          ],
          "histogram2d": [
           {
            "colorbar": {
             "outlinewidth": 0,
             "ticks": ""
            },
            "colorscale": [
             [
              0,
              "#0d0887"
             ],
             [
              0.1111111111111111,
              "#46039f"
             ],
             [
              0.2222222222222222,
              "#7201a8"
             ],
             [
              0.3333333333333333,
              "#9c179e"
             ],
             [
              0.4444444444444444,
              "#bd3786"
             ],
             [
              0.5555555555555556,
              "#d8576b"
             ],
             [
              0.6666666666666666,
              "#ed7953"
             ],
             [
              0.7777777777777778,
              "#fb9f3a"
             ],
             [
              0.8888888888888888,
              "#fdca26"
             ],
             [
              1,
              "#f0f921"
             ]
            ],
            "type": "histogram2d"
           }
          ],
          "histogram2dcontour": [
           {
            "colorbar": {
             "outlinewidth": 0,
             "ticks": ""
            },
            "colorscale": [
             [
              0,
              "#0d0887"
             ],
             [
              0.1111111111111111,
              "#46039f"
             ],
             [
              0.2222222222222222,
              "#7201a8"
             ],
             [
              0.3333333333333333,
              "#9c179e"
             ],
             [
              0.4444444444444444,
              "#bd3786"
             ],
             [
              0.5555555555555556,
              "#d8576b"
             ],
             [
              0.6666666666666666,
              "#ed7953"
             ],
             [
              0.7777777777777778,
              "#fb9f3a"
             ],
             [
              0.8888888888888888,
              "#fdca26"
             ],
             [
              1,
              "#f0f921"
             ]
            ],
            "type": "histogram2dcontour"
           }
          ],
          "mesh3d": [
           {
            "colorbar": {
             "outlinewidth": 0,
             "ticks": ""
            },
            "type": "mesh3d"
           }
          ],
          "parcoords": [
           {
            "line": {
             "colorbar": {
              "outlinewidth": 0,
              "ticks": ""
             }
            },
            "type": "parcoords"
           }
          ],
          "pie": [
           {
            "automargin": true,
            "type": "pie"
           }
          ],
          "scatter": [
           {
            "fillpattern": {
             "fillmode": "overlay",
             "size": 10,
             "solidity": 0.2
            },
            "type": "scatter"
           }
          ],
          "scatter3d": [
           {
            "line": {
             "colorbar": {
              "outlinewidth": 0,
              "ticks": ""
             }
            },
            "marker": {
             "colorbar": {
              "outlinewidth": 0,
              "ticks": ""
             }
            },
            "type": "scatter3d"
           }
          ],
          "scattercarpet": [
           {
            "marker": {
             "colorbar": {
              "outlinewidth": 0,
              "ticks": ""
             }
            },
            "type": "scattercarpet"
           }
          ],
          "scattergeo": [
           {
            "marker": {
             "colorbar": {
              "outlinewidth": 0,
              "ticks": ""
             }
            },
            "type": "scattergeo"
           }
          ],
          "scattergl": [
           {
            "marker": {
             "colorbar": {
              "outlinewidth": 0,
              "ticks": ""
             }
            },
            "type": "scattergl"
           }
          ],
          "scattermap": [
           {
            "marker": {
             "colorbar": {
              "outlinewidth": 0,
              "ticks": ""
             }
            },
            "type": "scattermap"
           }
          ],
          "scattermapbox": [
           {
            "marker": {
             "colorbar": {
              "outlinewidth": 0,
              "ticks": ""
             }
            },
            "type": "scattermapbox"
           }
          ],
          "scatterpolar": [
           {
            "marker": {
             "colorbar": {
              "outlinewidth": 0,
              "ticks": ""
             }
            },
            "type": "scatterpolar"
           }
          ],
          "scatterpolargl": [
           {
            "marker": {
             "colorbar": {
              "outlinewidth": 0,
              "ticks": ""
             }
            },
            "type": "scatterpolargl"
           }
          ],
          "scatterternary": [
           {
            "marker": {
             "colorbar": {
              "outlinewidth": 0,
              "ticks": ""
             }
            },
            "type": "scatterternary"
           }
          ],
          "surface": [
           {
            "colorbar": {
             "outlinewidth": 0,
             "ticks": ""
            },
            "colorscale": [
             [
              0,
              "#0d0887"
             ],
             [
              0.1111111111111111,
              "#46039f"
             ],
             [
              0.2222222222222222,
              "#7201a8"
             ],
             [
              0.3333333333333333,
              "#9c179e"
             ],
             [
              0.4444444444444444,
              "#bd3786"
             ],
             [
              0.5555555555555556,
              "#d8576b"
             ],
             [
              0.6666666666666666,
              "#ed7953"
             ],
             [
              0.7777777777777778,
              "#fb9f3a"
             ],
             [
              0.8888888888888888,
              "#fdca26"
             ],
             [
              1,
              "#f0f921"
             ]
            ],
            "type": "surface"
           }
          ],
          "table": [
           {
            "cells": {
             "fill": {
              "color": "#EBF0F8"
             },
             "line": {
              "color": "white"
             }
            },
            "header": {
             "fill": {
              "color": "#C8D4E3"
             },
             "line": {
              "color": "white"
             }
            },
            "type": "table"
           }
          ]
         },
         "layout": {
          "annotationdefaults": {
           "arrowcolor": "#2a3f5f",
           "arrowhead": 0,
           "arrowwidth": 1
          },
          "autotypenumbers": "strict",
          "coloraxis": {
           "colorbar": {
            "outlinewidth": 0,
            "ticks": ""
           }
          },
          "colorscale": {
           "diverging": [
            [
             0,
             "#8e0152"
            ],
            [
             0.1,
             "#c51b7d"
            ],
            [
             0.2,
             "#de77ae"
            ],
            [
             0.3,
             "#f1b6da"
            ],
            [
             0.4,
             "#fde0ef"
            ],
            [
             0.5,
             "#f7f7f7"
            ],
            [
             0.6,
             "#e6f5d0"
            ],
            [
             0.7,
             "#b8e186"
            ],
            [
             0.8,
             "#7fbc41"
            ],
            [
             0.9,
             "#4d9221"
            ],
            [
             1,
             "#276419"
            ]
           ],
           "sequential": [
            [
             0,
             "#0d0887"
            ],
            [
             0.1111111111111111,
             "#46039f"
            ],
            [
             0.2222222222222222,
             "#7201a8"
            ],
            [
             0.3333333333333333,
             "#9c179e"
            ],
            [
             0.4444444444444444,
             "#bd3786"
            ],
            [
             0.5555555555555556,
             "#d8576b"
            ],
            [
             0.6666666666666666,
             "#ed7953"
            ],
            [
             0.7777777777777778,
             "#fb9f3a"
            ],
            [
             0.8888888888888888,
             "#fdca26"
            ],
            [
             1,
             "#f0f921"
            ]
           ],
           "sequentialminus": [
            [
             0,
             "#0d0887"
            ],
            [
             0.1111111111111111,
             "#46039f"
            ],
            [
             0.2222222222222222,
             "#7201a8"
            ],
            [
             0.3333333333333333,
             "#9c179e"
            ],
            [
             0.4444444444444444,
             "#bd3786"
            ],
            [
             0.5555555555555556,
             "#d8576b"
            ],
            [
             0.6666666666666666,
             "#ed7953"
            ],
            [
             0.7777777777777778,
             "#fb9f3a"
            ],
            [
             0.8888888888888888,
             "#fdca26"
            ],
            [
             1,
             "#f0f921"
            ]
           ]
          },
          "colorway": [
           "#636efa",
           "#EF553B",
           "#00cc96",
           "#ab63fa",
           "#FFA15A",
           "#19d3f3",
           "#FF6692",
           "#B6E880",
           "#FF97FF",
           "#FECB52"
          ],
          "font": {
           "color": "#2a3f5f"
          },
          "geo": {
           "bgcolor": "white",
           "lakecolor": "white",
           "landcolor": "#E5ECF6",
           "showlakes": true,
           "showland": true,
           "subunitcolor": "white"
          },
          "hoverlabel": {
           "align": "left"
          },
          "hovermode": "closest",
          "mapbox": {
           "style": "light"
          },
          "paper_bgcolor": "white",
          "plot_bgcolor": "#E5ECF6",
          "polar": {
           "angularaxis": {
            "gridcolor": "white",
            "linecolor": "white",
            "ticks": ""
           },
           "bgcolor": "#E5ECF6",
           "radialaxis": {
            "gridcolor": "white",
            "linecolor": "white",
            "ticks": ""
           }
          },
          "scene": {
           "xaxis": {
            "backgroundcolor": "#E5ECF6",
            "gridcolor": "white",
            "gridwidth": 2,
            "linecolor": "white",
            "showbackground": true,
            "ticks": "",
            "zerolinecolor": "white"
           },
           "yaxis": {
            "backgroundcolor": "#E5ECF6",
            "gridcolor": "white",
            "gridwidth": 2,
            "linecolor": "white",
            "showbackground": true,
            "ticks": "",
            "zerolinecolor": "white"
           },
           "zaxis": {
            "backgroundcolor": "#E5ECF6",
            "gridcolor": "white",
            "gridwidth": 2,
            "linecolor": "white",
            "showbackground": true,
            "ticks": "",
            "zerolinecolor": "white"
           }
          },
          "shapedefaults": {
           "line": {
            "color": "#2a3f5f"
           }
          },
          "ternary": {
           "aaxis": {
            "gridcolor": "white",
            "linecolor": "white",
            "ticks": ""
           },
           "baxis": {
            "gridcolor": "white",
            "linecolor": "white",
            "ticks": ""
           },
           "bgcolor": "#E5ECF6",
           "caxis": {
            "gridcolor": "white",
            "linecolor": "white",
            "ticks": ""
           }
          },
          "title": {
           "x": 0.05
          },
          "xaxis": {
           "automargin": true,
           "gridcolor": "white",
           "linecolor": "white",
           "ticks": "",
           "title": {
            "standoff": 15
           },
           "zerolinecolor": "white",
           "zerolinewidth": 2
          },
          "yaxis": {
           "automargin": true,
           "gridcolor": "white",
           "linecolor": "white",
           "ticks": "",
           "title": {
            "standoff": 15
           },
           "zerolinecolor": "white",
           "zerolinewidth": 2
          }
         }
        },
        "title": {
         "text": "Candidatos por Partido"
        },
        "xaxis": {
         "anchor": "y",
         "domain": [
          0,
          1
         ],
         "title": {
          "text": "siglaPartido"
         }
        },
        "yaxis": {
         "anchor": "x",
         "domain": [
          0,
          1
         ],
         "title": {
          "text": "count"
         }
        }
       }
      }
     },
     "metadata": {},
     "output_type": "display_data"
    }
   ],
   "source": [
    "fig = px.bar(candidatos_por_partido, y='count', x='siglaPartido',  text_auto='.2s', title='Candidatos por Partido')\n",
    "fig.show()"
   ]
  },
  {
   "cell_type": "markdown",
   "id": "e529fb01",
   "metadata": {},
   "source": [
    "## Classificando partidos"
   ]
  },
  {
   "cell_type": "markdown",
   "id": "71fb26fc",
   "metadata": {},
   "source": [
    "Classificando partidos no espectro ideológico a partir da atuação parlamentar\n",
    "\n",
    "A seguinte classificação foi feita com base no seguinte artigo - https://pt.wikipedia.org/wiki/Posicionamentos_dos_partidos_brasileiros\n",
    "\n",
    "Caso tenha alguma observação que possa contribuir, sinta-se a vontade para dizer :)\n"
   ]
  },
  {
   "cell_type": "code",
   "execution_count": 9,
   "id": "894b8cd1",
   "metadata": {},
   "outputs": [],
   "source": [
    "# novas colunas serão criadas usando _ para a separação - assim saberemos quais foram criadas e quais vieram diretamente da API\n",
    "# Dicionário com o espectro político de cada partido\n",
    "espectro_politico = {\n",
    "    'PL': 'Centro-direita',\n",
    "    'PT': 'Esquerda',\n",
    "    'UNIÃO': 'Centro-direita',\n",
    "    'PP': 'Centro-direita',\n",
    "    'REPUBLICANOS': 'Direita',\n",
    "    'PSD': 'Centro',\n",
    "    'MDB': 'Centro',\n",
    "    'PDT': 'Centro-esquerda',\n",
    "    'PODE': 'Centro-direita',\n",
    "    'PSB': 'Centro-esquerda',\n",
    "    'PSOL': 'Esquerda',\n",
    "    'PSDB': 'Centro',\n",
    "    'PCdoB': 'Esquerda',\n",
    "    'AVANTE': 'Centro',\n",
    "    'PV': 'Centro-esquerda',\n",
    "    'NOVO': 'Direita',\n",
    "    'PRD': 'Direita',\n",
    "    'CIDADANIA': 'Centro-esquerda',\n",
    "    'SOLIDARIEDADE': 'Centro-esquerda',\n",
    "    'REDE': 'Centro-esquerda'\n",
    "}\n",
    "\n",
    "# Adicionando a nova coluna com base no espectro político\n",
    "df['espectro_politico'] = df['siglaPartido'].map(espectro_politico)"
   ]
  },
  {
   "cell_type": "code",
   "execution_count": 10,
   "id": "db54dead",
   "metadata": {},
   "outputs": [
    {
     "data": {
      "text/html": [
       "<div>\n",
       "<style scoped>\n",
       "    .dataframe tbody tr th:only-of-type {\n",
       "        vertical-align: middle;\n",
       "    }\n",
       "\n",
       "    .dataframe tbody tr th {\n",
       "        vertical-align: top;\n",
       "    }\n",
       "\n",
       "    .dataframe thead th {\n",
       "        text-align: right;\n",
       "    }\n",
       "</style>\n",
       "<table border=\"1\" class=\"dataframe\">\n",
       "  <thead>\n",
       "    <tr style=\"text-align: right;\">\n",
       "      <th></th>\n",
       "      <th>id</th>\n",
       "      <th>nome</th>\n",
       "      <th>siglaPartido</th>\n",
       "      <th>siglaUf</th>\n",
       "      <th>idLegislatura</th>\n",
       "      <th>urlFoto</th>\n",
       "      <th>email</th>\n",
       "      <th>nomeCivil</th>\n",
       "      <th>cpf</th>\n",
       "      <th>sexo</th>\n",
       "      <th>dataNascimento</th>\n",
       "      <th>ufNascimento</th>\n",
       "      <th>municipioNascimento</th>\n",
       "      <th>escolaridade</th>\n",
       "      <th>ano</th>\n",
       "      <th>mes</th>\n",
       "      <th>tipoDespesa</th>\n",
       "      <th>codDocumento</th>\n",
       "      <th>tipoDocumento</th>\n",
       "      <th>codTipoDocumento</th>\n",
       "      <th>dataDocumento</th>\n",
       "      <th>numDocumento</th>\n",
       "      <th>valorDocumento</th>\n",
       "      <th>urlDocumento</th>\n",
       "      <th>nomeFornecedor</th>\n",
       "      <th>cnpjCpfFornecedor</th>\n",
       "      <th>valorLiquido</th>\n",
       "      <th>valorGlosa</th>\n",
       "      <th>numRessarcimento</th>\n",
       "      <th>codLote</th>\n",
       "      <th>parcela</th>\n",
       "      <th>espectro_politico</th>\n",
       "    </tr>\n",
       "  </thead>\n",
       "  <tbody>\n",
       "    <tr>\n",
       "      <th>0</th>\n",
       "      <td>204379</td>\n",
       "      <td>Acácio Favacho</td>\n",
       "      <td>MDB</td>\n",
       "      <td>AP</td>\n",
       "      <td>57</td>\n",
       "      <td>https://www.camara.leg.br/internet/deputado/ba...</td>\n",
       "      <td>dep.acaciofavacho@camara.leg.br</td>\n",
       "      <td>ACÁCIO DA SILVA FAVACHO NETO</td>\n",
       "      <td>74287028287</td>\n",
       "      <td>M</td>\n",
       "      <td>1983-09-28</td>\n",
       "      <td>AP</td>\n",
       "      <td>Macapá</td>\n",
       "      <td>Superior</td>\n",
       "      <td>2024.0</td>\n",
       "      <td>11.0</td>\n",
       "      <td>MANUTENÇÃO DE ESCRITÓRIO DE APOIO À ATIVIDADE ...</td>\n",
       "      <td>7837655.0</td>\n",
       "      <td>Nota Fiscal</td>\n",
       "      <td>0.0</td>\n",
       "      <td>2024-11-06T00:00:00</td>\n",
       "      <td>1735</td>\n",
       "      <td>750.00</td>\n",
       "      <td>https://www.camara.leg.br/cota-parlamentar/doc...</td>\n",
       "      <td>AMORETTO CAFES EXPRESSO LTDA</td>\n",
       "      <td>8.532429e+12</td>\n",
       "      <td>750.00</td>\n",
       "      <td>0.0</td>\n",
       "      <td>NaN</td>\n",
       "      <td>2092841.0</td>\n",
       "      <td>0.0</td>\n",
       "      <td>Centro</td>\n",
       "    </tr>\n",
       "    <tr>\n",
       "      <th>1</th>\n",
       "      <td>204379</td>\n",
       "      <td>Acácio Favacho</td>\n",
       "      <td>MDB</td>\n",
       "      <td>AP</td>\n",
       "      <td>57</td>\n",
       "      <td>https://www.camara.leg.br/internet/deputado/ba...</td>\n",
       "      <td>dep.acaciofavacho@camara.leg.br</td>\n",
       "      <td>ACÁCIO DA SILVA FAVACHO NETO</td>\n",
       "      <td>74287028287</td>\n",
       "      <td>M</td>\n",
       "      <td>1983-09-28</td>\n",
       "      <td>AP</td>\n",
       "      <td>Macapá</td>\n",
       "      <td>Superior</td>\n",
       "      <td>2024.0</td>\n",
       "      <td>12.0</td>\n",
       "      <td>MANUTENÇÃO DE ESCRITÓRIO DE APOIO À ATIVIDADE ...</td>\n",
       "      <td>7838902.0</td>\n",
       "      <td>Nota Fiscal</td>\n",
       "      <td>0.0</td>\n",
       "      <td>2024-12-03T00:00:00</td>\n",
       "      <td>1806</td>\n",
       "      <td>750.00</td>\n",
       "      <td>https://www.camara.leg.br/cota-parlamentar/doc...</td>\n",
       "      <td>AMORETTO CAFES EXPRESSO LTDA</td>\n",
       "      <td>8.532429e+12</td>\n",
       "      <td>750.00</td>\n",
       "      <td>0.0</td>\n",
       "      <td>NaN</td>\n",
       "      <td>2093592.0</td>\n",
       "      <td>0.0</td>\n",
       "      <td>Centro</td>\n",
       "    </tr>\n",
       "    <tr>\n",
       "      <th>2</th>\n",
       "      <td>204379</td>\n",
       "      <td>Acácio Favacho</td>\n",
       "      <td>MDB</td>\n",
       "      <td>AP</td>\n",
       "      <td>57</td>\n",
       "      <td>https://www.camara.leg.br/internet/deputado/ba...</td>\n",
       "      <td>dep.acaciofavacho@camara.leg.br</td>\n",
       "      <td>ACÁCIO DA SILVA FAVACHO NETO</td>\n",
       "      <td>74287028287</td>\n",
       "      <td>M</td>\n",
       "      <td>1983-09-28</td>\n",
       "      <td>AP</td>\n",
       "      <td>Macapá</td>\n",
       "      <td>Superior</td>\n",
       "      <td>2024.0</td>\n",
       "      <td>11.0</td>\n",
       "      <td>COMBUSTÍVEIS E LUBRIFICANTES.</td>\n",
       "      <td>7833232.0</td>\n",
       "      <td>Nota Fiscal Eletrônica</td>\n",
       "      <td>4.0</td>\n",
       "      <td>2024-11-12T14:48:43</td>\n",
       "      <td>432734</td>\n",
       "      <td>333.12</td>\n",
       "      <td>http://www.camara.leg.br/cota-parlamentar/nota...</td>\n",
       "      <td>031 - 302 NORTE - CASCOL COMBUSTIVEIS PARA VEI...</td>\n",
       "      <td>3.065970e+11</td>\n",
       "      <td>333.12</td>\n",
       "      <td>0.0</td>\n",
       "      <td>NaN</td>\n",
       "      <td>2090590.0</td>\n",
       "      <td>0.0</td>\n",
       "      <td>Centro</td>\n",
       "    </tr>\n",
       "    <tr>\n",
       "      <th>3</th>\n",
       "      <td>204379</td>\n",
       "      <td>Acácio Favacho</td>\n",
       "      <td>MDB</td>\n",
       "      <td>AP</td>\n",
       "      <td>57</td>\n",
       "      <td>https://www.camara.leg.br/internet/deputado/ba...</td>\n",
       "      <td>dep.acaciofavacho@camara.leg.br</td>\n",
       "      <td>ACÁCIO DA SILVA FAVACHO NETO</td>\n",
       "      <td>74287028287</td>\n",
       "      <td>M</td>\n",
       "      <td>1983-09-28</td>\n",
       "      <td>AP</td>\n",
       "      <td>Macapá</td>\n",
       "      <td>Superior</td>\n",
       "      <td>2024.0</td>\n",
       "      <td>11.0</td>\n",
       "      <td>COMBUSTÍVEIS E LUBRIFICANTES.</td>\n",
       "      <td>7833238.0</td>\n",
       "      <td>Nota Fiscal Eletrônica</td>\n",
       "      <td>4.0</td>\n",
       "      <td>2024-11-14T17:52:07</td>\n",
       "      <td>433490</td>\n",
       "      <td>300.00</td>\n",
       "      <td>http://www.camara.leg.br/cota-parlamentar/nota...</td>\n",
       "      <td>031 - 302 NORTE - CASCOL COMBUSTIVEIS PARA VEI...</td>\n",
       "      <td>3.065970e+11</td>\n",
       "      <td>300.00</td>\n",
       "      <td>0.0</td>\n",
       "      <td>NaN</td>\n",
       "      <td>2090590.0</td>\n",
       "      <td>0.0</td>\n",
       "      <td>Centro</td>\n",
       "    </tr>\n",
       "    <tr>\n",
       "      <th>4</th>\n",
       "      <td>204379</td>\n",
       "      <td>Acácio Favacho</td>\n",
       "      <td>MDB</td>\n",
       "      <td>AP</td>\n",
       "      <td>57</td>\n",
       "      <td>https://www.camara.leg.br/internet/deputado/ba...</td>\n",
       "      <td>dep.acaciofavacho@camara.leg.br</td>\n",
       "      <td>ACÁCIO DA SILVA FAVACHO NETO</td>\n",
       "      <td>74287028287</td>\n",
       "      <td>M</td>\n",
       "      <td>1983-09-28</td>\n",
       "      <td>AP</td>\n",
       "      <td>Macapá</td>\n",
       "      <td>Superior</td>\n",
       "      <td>2024.0</td>\n",
       "      <td>11.0</td>\n",
       "      <td>COMBUSTÍVEIS E LUBRIFICANTES.</td>\n",
       "      <td>7833235.0</td>\n",
       "      <td>Nota Fiscal Eletrônica</td>\n",
       "      <td>4.0</td>\n",
       "      <td>2024-11-19T19:56:23</td>\n",
       "      <td>434554</td>\n",
       "      <td>330.30</td>\n",
       "      <td>http://www.camara.leg.br/cota-parlamentar/nota...</td>\n",
       "      <td>031 - 302 NORTE - CASCOL COMBUSTIVEIS PARA VEI...</td>\n",
       "      <td>3.065970e+11</td>\n",
       "      <td>330.30</td>\n",
       "      <td>0.0</td>\n",
       "      <td>NaN</td>\n",
       "      <td>2090590.0</td>\n",
       "      <td>0.0</td>\n",
       "      <td>Centro</td>\n",
       "    </tr>\n",
       "  </tbody>\n",
       "</table>\n",
       "</div>"
      ],
      "text/plain": [
       "       id            nome siglaPartido siglaUf  idLegislatura  \\\n",
       "0  204379  Acácio Favacho          MDB      AP             57   \n",
       "1  204379  Acácio Favacho          MDB      AP             57   \n",
       "2  204379  Acácio Favacho          MDB      AP             57   \n",
       "3  204379  Acácio Favacho          MDB      AP             57   \n",
       "4  204379  Acácio Favacho          MDB      AP             57   \n",
       "\n",
       "                                             urlFoto  \\\n",
       "0  https://www.camara.leg.br/internet/deputado/ba...   \n",
       "1  https://www.camara.leg.br/internet/deputado/ba...   \n",
       "2  https://www.camara.leg.br/internet/deputado/ba...   \n",
       "3  https://www.camara.leg.br/internet/deputado/ba...   \n",
       "4  https://www.camara.leg.br/internet/deputado/ba...   \n",
       "\n",
       "                             email                     nomeCivil          cpf  \\\n",
       "0  dep.acaciofavacho@camara.leg.br  ACÁCIO DA SILVA FAVACHO NETO  74287028287   \n",
       "1  dep.acaciofavacho@camara.leg.br  ACÁCIO DA SILVA FAVACHO NETO  74287028287   \n",
       "2  dep.acaciofavacho@camara.leg.br  ACÁCIO DA SILVA FAVACHO NETO  74287028287   \n",
       "3  dep.acaciofavacho@camara.leg.br  ACÁCIO DA SILVA FAVACHO NETO  74287028287   \n",
       "4  dep.acaciofavacho@camara.leg.br  ACÁCIO DA SILVA FAVACHO NETO  74287028287   \n",
       "\n",
       "  sexo dataNascimento ufNascimento municipioNascimento escolaridade     ano  \\\n",
       "0    M     1983-09-28           AP              Macapá     Superior  2024.0   \n",
       "1    M     1983-09-28           AP              Macapá     Superior  2024.0   \n",
       "2    M     1983-09-28           AP              Macapá     Superior  2024.0   \n",
       "3    M     1983-09-28           AP              Macapá     Superior  2024.0   \n",
       "4    M     1983-09-28           AP              Macapá     Superior  2024.0   \n",
       "\n",
       "    mes                                        tipoDespesa  codDocumento  \\\n",
       "0  11.0  MANUTENÇÃO DE ESCRITÓRIO DE APOIO À ATIVIDADE ...     7837655.0   \n",
       "1  12.0  MANUTENÇÃO DE ESCRITÓRIO DE APOIO À ATIVIDADE ...     7838902.0   \n",
       "2  11.0                      COMBUSTÍVEIS E LUBRIFICANTES.     7833232.0   \n",
       "3  11.0                      COMBUSTÍVEIS E LUBRIFICANTES.     7833238.0   \n",
       "4  11.0                      COMBUSTÍVEIS E LUBRIFICANTES.     7833235.0   \n",
       "\n",
       "            tipoDocumento  codTipoDocumento        dataDocumento numDocumento  \\\n",
       "0             Nota Fiscal               0.0  2024-11-06T00:00:00         1735   \n",
       "1             Nota Fiscal               0.0  2024-12-03T00:00:00         1806   \n",
       "2  Nota Fiscal Eletrônica               4.0  2024-11-12T14:48:43       432734   \n",
       "3  Nota Fiscal Eletrônica               4.0  2024-11-14T17:52:07       433490   \n",
       "4  Nota Fiscal Eletrônica               4.0  2024-11-19T19:56:23       434554   \n",
       "\n",
       "   valorDocumento                                       urlDocumento  \\\n",
       "0          750.00  https://www.camara.leg.br/cota-parlamentar/doc...   \n",
       "1          750.00  https://www.camara.leg.br/cota-parlamentar/doc...   \n",
       "2          333.12  http://www.camara.leg.br/cota-parlamentar/nota...   \n",
       "3          300.00  http://www.camara.leg.br/cota-parlamentar/nota...   \n",
       "4          330.30  http://www.camara.leg.br/cota-parlamentar/nota...   \n",
       "\n",
       "                                      nomeFornecedor  cnpjCpfFornecedor  \\\n",
       "0                       AMORETTO CAFES EXPRESSO LTDA       8.532429e+12   \n",
       "1                       AMORETTO CAFES EXPRESSO LTDA       8.532429e+12   \n",
       "2  031 - 302 NORTE - CASCOL COMBUSTIVEIS PARA VEI...       3.065970e+11   \n",
       "3  031 - 302 NORTE - CASCOL COMBUSTIVEIS PARA VEI...       3.065970e+11   \n",
       "4  031 - 302 NORTE - CASCOL COMBUSTIVEIS PARA VEI...       3.065970e+11   \n",
       "\n",
       "   valorLiquido  valorGlosa  numRessarcimento    codLote  parcela  \\\n",
       "0        750.00         0.0               NaN  2092841.0      0.0   \n",
       "1        750.00         0.0               NaN  2093592.0      0.0   \n",
       "2        333.12         0.0               NaN  2090590.0      0.0   \n",
       "3        300.00         0.0               NaN  2090590.0      0.0   \n",
       "4        330.30         0.0               NaN  2090590.0      0.0   \n",
       "\n",
       "  espectro_politico  \n",
       "0            Centro  \n",
       "1            Centro  \n",
       "2            Centro  \n",
       "3            Centro  \n",
       "4            Centro  "
      ]
     },
     "execution_count": 10,
     "metadata": {},
     "output_type": "execute_result"
    }
   ],
   "source": [
    "df.head()"
   ]
  },
  {
   "cell_type": "code",
   "execution_count": 11,
   "id": "c794a8f8",
   "metadata": {},
   "outputs": [
    {
     "data": {
      "text/plain": [
       "espectro_politico\n",
       "Centro-direita     6786709.35\n",
       "Centro             3710641.56\n",
       "Esquerda           2429761.54\n",
       "Direita            1940812.11\n",
       "Centro-esquerda    1158041.40\n",
       "Name: valorLiquido, dtype: float64"
      ]
     },
     "execution_count": 11,
     "metadata": {},
     "output_type": "execute_result"
    }
   ],
   "source": [
    "df.groupby(['espectro_politico'])['valorLiquido'].sum().sort_values(ascending=False)"
   ]
  },
  {
   "cell_type": "code",
   "execution_count": 12,
   "id": "58cc9baa",
   "metadata": {},
   "outputs": [
    {
     "data": {
      "text/plain": [
       "nomeCivil\n",
       "MARCO ANTÔNIO FELICIANO                282208.37\n",
       "ALCIDES RIBEIRO FILHO                  273304.67\n",
       "GLAUSKSTON BATISTA RIOS                260066.80\n",
       "GABRIEL MOTA E SILVA                   232991.56\n",
       "LUIZ AUGUSTO CARVALHO RIBEIRO FILHO    229433.34\n",
       "                                         ...    \n",
       "ERIKA SANTOS SILVA                       2428.87\n",
       "DANIEL BARBOSA DE ALMEIDA SILVA          2124.10\n",
       "MARCOS ROBERIO RIBEIRO MONTEIRO          1883.00\n",
       "GILVAN AGUIAR COSTA                      1803.77\n",
       "JOSÉ OLIMPIO SILVEIRA MORAES             1206.11\n",
       "Name: valorLiquido, Length: 509, dtype: float64"
      ]
     },
     "execution_count": 12,
     "metadata": {},
     "output_type": "execute_result"
    }
   ],
   "source": [
    "df.groupby(['nomeCivil'])['valorLiquido'].sum().sort_values(ascending=False)"
   ]
  },
  {
   "cell_type": "code",
   "execution_count": 13,
   "id": "caf1c4f8",
   "metadata": {},
   "outputs": [],
   "source": [
    "df_unique_id['espectro_politico'] = df_unique_id['siglaPartido'].map(espectro_politico)"
   ]
  },
  {
   "cell_type": "code",
   "execution_count": 14,
   "id": "85c4d29f",
   "metadata": {},
   "outputs": [
    {
     "data": {
      "text/html": [
       "<div>\n",
       "<style scoped>\n",
       "    .dataframe tbody tr th:only-of-type {\n",
       "        vertical-align: middle;\n",
       "    }\n",
       "\n",
       "    .dataframe tbody tr th {\n",
       "        vertical-align: top;\n",
       "    }\n",
       "\n",
       "    .dataframe thead th {\n",
       "        text-align: right;\n",
       "    }\n",
       "</style>\n",
       "<table border=\"1\" class=\"dataframe\">\n",
       "  <thead>\n",
       "    <tr style=\"text-align: right;\">\n",
       "      <th></th>\n",
       "      <th>espectro_politico</th>\n",
       "      <th>count</th>\n",
       "    </tr>\n",
       "  </thead>\n",
       "  <tbody>\n",
       "    <tr>\n",
       "      <th>0</th>\n",
       "      <td>Centro-direita</td>\n",
       "      <td>211</td>\n",
       "    </tr>\n",
       "    <tr>\n",
       "      <th>1</th>\n",
       "      <td>Centro</td>\n",
       "      <td>109</td>\n",
       "    </tr>\n",
       "    <tr>\n",
       "      <th>2</th>\n",
       "      <td>Esquerda</td>\n",
       "      <td>88</td>\n",
       "    </tr>\n",
       "    <tr>\n",
       "      <th>3</th>\n",
       "      <td>Direita</td>\n",
       "      <td>55</td>\n",
       "    </tr>\n",
       "    <tr>\n",
       "      <th>4</th>\n",
       "      <td>Centro-esquerda</td>\n",
       "      <td>46</td>\n",
       "    </tr>\n",
       "  </tbody>\n",
       "</table>\n",
       "</div>"
      ],
      "text/plain": [
       "  espectro_politico  count\n",
       "0    Centro-direita    211\n",
       "1            Centro    109\n",
       "2          Esquerda     88\n",
       "3           Direita     55\n",
       "4   Centro-esquerda     46"
      ]
     },
     "execution_count": 14,
     "metadata": {},
     "output_type": "execute_result"
    }
   ],
   "source": [
    "espectro_politico = df_unique_id['espectro_politico'].value_counts()\n",
    "espectro_politico = pd.DataFrame(espectro_politico).reset_index()\n",
    "espectro_politico"
   ]
  },
  {
   "cell_type": "code",
   "execution_count": 15,
   "id": "5e22ffda",
   "metadata": {},
   "outputs": [
    {
     "data": {
      "application/vnd.plotly.v1+json": {
       "config": {
        "plotlyServerURL": "https://plot.ly"
       },
       "data": [
        {
         "hovertemplate": "espectro_politico=%{x}<br>count=%{y}<extra></extra>",
         "legendgroup": "",
         "marker": {
          "color": "#636efa",
          "pattern": {
           "shape": ""
          }
         },
         "name": "",
         "orientation": "v",
         "showlegend": false,
         "textposition": "auto",
         "texttemplate": "%{y:.2s}",
         "type": "bar",
         "x": [
          "Centro-direita",
          "Centro",
          "Esquerda",
          "Direita",
          "Centro-esquerda"
         ],
         "xaxis": "x",
         "y": {
          "bdata": "0wBtAFgANwAuAA==",
          "dtype": "i2"
         },
         "yaxis": "y"
        }
       ],
       "layout": {
        "barmode": "relative",
        "legend": {
         "tracegroupgap": 0
        },
        "template": {
         "data": {
          "bar": [
           {
            "error_x": {
             "color": "#2a3f5f"
            },
            "error_y": {
             "color": "#2a3f5f"
            },
            "marker": {
             "line": {
              "color": "#E5ECF6",
              "width": 0.5
             },
             "pattern": {
              "fillmode": "overlay",
              "size": 10,
              "solidity": 0.2
             }
            },
            "type": "bar"
           }
          ],
          "barpolar": [
           {
            "marker": {
             "line": {
              "color": "#E5ECF6",
              "width": 0.5
             },
             "pattern": {
              "fillmode": "overlay",
              "size": 10,
              "solidity": 0.2
             }
            },
            "type": "barpolar"
           }
          ],
          "carpet": [
           {
            "aaxis": {
             "endlinecolor": "#2a3f5f",
             "gridcolor": "white",
             "linecolor": "white",
             "minorgridcolor": "white",
             "startlinecolor": "#2a3f5f"
            },
            "baxis": {
             "endlinecolor": "#2a3f5f",
             "gridcolor": "white",
             "linecolor": "white",
             "minorgridcolor": "white",
             "startlinecolor": "#2a3f5f"
            },
            "type": "carpet"
           }
          ],
          "choropleth": [
           {
            "colorbar": {
             "outlinewidth": 0,
             "ticks": ""
            },
            "type": "choropleth"
           }
          ],
          "contour": [
           {
            "colorbar": {
             "outlinewidth": 0,
             "ticks": ""
            },
            "colorscale": [
             [
              0,
              "#0d0887"
             ],
             [
              0.1111111111111111,
              "#46039f"
             ],
             [
              0.2222222222222222,
              "#7201a8"
             ],
             [
              0.3333333333333333,
              "#9c179e"
             ],
             [
              0.4444444444444444,
              "#bd3786"
             ],
             [
              0.5555555555555556,
              "#d8576b"
             ],
             [
              0.6666666666666666,
              "#ed7953"
             ],
             [
              0.7777777777777778,
              "#fb9f3a"
             ],
             [
              0.8888888888888888,
              "#fdca26"
             ],
             [
              1,
              "#f0f921"
             ]
            ],
            "type": "contour"
           }
          ],
          "contourcarpet": [
           {
            "colorbar": {
             "outlinewidth": 0,
             "ticks": ""
            },
            "type": "contourcarpet"
           }
          ],
          "heatmap": [
           {
            "colorbar": {
             "outlinewidth": 0,
             "ticks": ""
            },
            "colorscale": [
             [
              0,
              "#0d0887"
             ],
             [
              0.1111111111111111,
              "#46039f"
             ],
             [
              0.2222222222222222,
              "#7201a8"
             ],
             [
              0.3333333333333333,
              "#9c179e"
             ],
             [
              0.4444444444444444,
              "#bd3786"
             ],
             [
              0.5555555555555556,
              "#d8576b"
             ],
             [
              0.6666666666666666,
              "#ed7953"
             ],
             [
              0.7777777777777778,
              "#fb9f3a"
             ],
             [
              0.8888888888888888,
              "#fdca26"
             ],
             [
              1,
              "#f0f921"
             ]
            ],
            "type": "heatmap"
           }
          ],
          "histogram": [
           {
            "marker": {
             "pattern": {
              "fillmode": "overlay",
              "size": 10,
              "solidity": 0.2
             }
            },
            "type": "histogram"
           }
          ],
          "histogram2d": [
           {
            "colorbar": {
             "outlinewidth": 0,
             "ticks": ""
            },
            "colorscale": [
             [
              0,
              "#0d0887"
             ],
             [
              0.1111111111111111,
              "#46039f"
             ],
             [
              0.2222222222222222,
              "#7201a8"
             ],
             [
              0.3333333333333333,
              "#9c179e"
             ],
             [
              0.4444444444444444,
              "#bd3786"
             ],
             [
              0.5555555555555556,
              "#d8576b"
             ],
             [
              0.6666666666666666,
              "#ed7953"
             ],
             [
              0.7777777777777778,
              "#fb9f3a"
             ],
             [
              0.8888888888888888,
              "#fdca26"
             ],
             [
              1,
              "#f0f921"
             ]
            ],
            "type": "histogram2d"
           }
          ],
          "histogram2dcontour": [
           {
            "colorbar": {
             "outlinewidth": 0,
             "ticks": ""
            },
            "colorscale": [
             [
              0,
              "#0d0887"
             ],
             [
              0.1111111111111111,
              "#46039f"
             ],
             [
              0.2222222222222222,
              "#7201a8"
             ],
             [
              0.3333333333333333,
              "#9c179e"
             ],
             [
              0.4444444444444444,
              "#bd3786"
             ],
             [
              0.5555555555555556,
              "#d8576b"
             ],
             [
              0.6666666666666666,
              "#ed7953"
             ],
             [
              0.7777777777777778,
              "#fb9f3a"
             ],
             [
              0.8888888888888888,
              "#fdca26"
             ],
             [
              1,
              "#f0f921"
             ]
            ],
            "type": "histogram2dcontour"
           }
          ],
          "mesh3d": [
           {
            "colorbar": {
             "outlinewidth": 0,
             "ticks": ""
            },
            "type": "mesh3d"
           }
          ],
          "parcoords": [
           {
            "line": {
             "colorbar": {
              "outlinewidth": 0,
              "ticks": ""
             }
            },
            "type": "parcoords"
           }
          ],
          "pie": [
           {
            "automargin": true,
            "type": "pie"
           }
          ],
          "scatter": [
           {
            "fillpattern": {
             "fillmode": "overlay",
             "size": 10,
             "solidity": 0.2
            },
            "type": "scatter"
           }
          ],
          "scatter3d": [
           {
            "line": {
             "colorbar": {
              "outlinewidth": 0,
              "ticks": ""
             }
            },
            "marker": {
             "colorbar": {
              "outlinewidth": 0,
              "ticks": ""
             }
            },
            "type": "scatter3d"
           }
          ],
          "scattercarpet": [
           {
            "marker": {
             "colorbar": {
              "outlinewidth": 0,
              "ticks": ""
             }
            },
            "type": "scattercarpet"
           }
          ],
          "scattergeo": [
           {
            "marker": {
             "colorbar": {
              "outlinewidth": 0,
              "ticks": ""
             }
            },
            "type": "scattergeo"
           }
          ],
          "scattergl": [
           {
            "marker": {
             "colorbar": {
              "outlinewidth": 0,
              "ticks": ""
             }
            },
            "type": "scattergl"
           }
          ],
          "scattermap": [
           {
            "marker": {
             "colorbar": {
              "outlinewidth": 0,
              "ticks": ""
             }
            },
            "type": "scattermap"
           }
          ],
          "scattermapbox": [
           {
            "marker": {
             "colorbar": {
              "outlinewidth": 0,
              "ticks": ""
             }
            },
            "type": "scattermapbox"
           }
          ],
          "scatterpolar": [
           {
            "marker": {
             "colorbar": {
              "outlinewidth": 0,
              "ticks": ""
             }
            },
            "type": "scatterpolar"
           }
          ],
          "scatterpolargl": [
           {
            "marker": {
             "colorbar": {
              "outlinewidth": 0,
              "ticks": ""
             }
            },
            "type": "scatterpolargl"
           }
          ],
          "scatterternary": [
           {
            "marker": {
             "colorbar": {
              "outlinewidth": 0,
              "ticks": ""
             }
            },
            "type": "scatterternary"
           }
          ],
          "surface": [
           {
            "colorbar": {
             "outlinewidth": 0,
             "ticks": ""
            },
            "colorscale": [
             [
              0,
              "#0d0887"
             ],
             [
              0.1111111111111111,
              "#46039f"
             ],
             [
              0.2222222222222222,
              "#7201a8"
             ],
             [
              0.3333333333333333,
              "#9c179e"
             ],
             [
              0.4444444444444444,
              "#bd3786"
             ],
             [
              0.5555555555555556,
              "#d8576b"
             ],
             [
              0.6666666666666666,
              "#ed7953"
             ],
             [
              0.7777777777777778,
              "#fb9f3a"
             ],
             [
              0.8888888888888888,
              "#fdca26"
             ],
             [
              1,
              "#f0f921"
             ]
            ],
            "type": "surface"
           }
          ],
          "table": [
           {
            "cells": {
             "fill": {
              "color": "#EBF0F8"
             },
             "line": {
              "color": "white"
             }
            },
            "header": {
             "fill": {
              "color": "#C8D4E3"
             },
             "line": {
              "color": "white"
             }
            },
            "type": "table"
           }
          ]
         },
         "layout": {
          "annotationdefaults": {
           "arrowcolor": "#2a3f5f",
           "arrowhead": 0,
           "arrowwidth": 1
          },
          "autotypenumbers": "strict",
          "coloraxis": {
           "colorbar": {
            "outlinewidth": 0,
            "ticks": ""
           }
          },
          "colorscale": {
           "diverging": [
            [
             0,
             "#8e0152"
            ],
            [
             0.1,
             "#c51b7d"
            ],
            [
             0.2,
             "#de77ae"
            ],
            [
             0.3,
             "#f1b6da"
            ],
            [
             0.4,
             "#fde0ef"
            ],
            [
             0.5,
             "#f7f7f7"
            ],
            [
             0.6,
             "#e6f5d0"
            ],
            [
             0.7,
             "#b8e186"
            ],
            [
             0.8,
             "#7fbc41"
            ],
            [
             0.9,
             "#4d9221"
            ],
            [
             1,
             "#276419"
            ]
           ],
           "sequential": [
            [
             0,
             "#0d0887"
            ],
            [
             0.1111111111111111,
             "#46039f"
            ],
            [
             0.2222222222222222,
             "#7201a8"
            ],
            [
             0.3333333333333333,
             "#9c179e"
            ],
            [
             0.4444444444444444,
             "#bd3786"
            ],
            [
             0.5555555555555556,
             "#d8576b"
            ],
            [
             0.6666666666666666,
             "#ed7953"
            ],
            [
             0.7777777777777778,
             "#fb9f3a"
            ],
            [
             0.8888888888888888,
             "#fdca26"
            ],
            [
             1,
             "#f0f921"
            ]
           ],
           "sequentialminus": [
            [
             0,
             "#0d0887"
            ],
            [
             0.1111111111111111,
             "#46039f"
            ],
            [
             0.2222222222222222,
             "#7201a8"
            ],
            [
             0.3333333333333333,
             "#9c179e"
            ],
            [
             0.4444444444444444,
             "#bd3786"
            ],
            [
             0.5555555555555556,
             "#d8576b"
            ],
            [
             0.6666666666666666,
             "#ed7953"
            ],
            [
             0.7777777777777778,
             "#fb9f3a"
            ],
            [
             0.8888888888888888,
             "#fdca26"
            ],
            [
             1,
             "#f0f921"
            ]
           ]
          },
          "colorway": [
           "#636efa",
           "#EF553B",
           "#00cc96",
           "#ab63fa",
           "#FFA15A",
           "#19d3f3",
           "#FF6692",
           "#B6E880",
           "#FF97FF",
           "#FECB52"
          ],
          "font": {
           "color": "#2a3f5f"
          },
          "geo": {
           "bgcolor": "white",
           "lakecolor": "white",
           "landcolor": "#E5ECF6",
           "showlakes": true,
           "showland": true,
           "subunitcolor": "white"
          },
          "hoverlabel": {
           "align": "left"
          },
          "hovermode": "closest",
          "mapbox": {
           "style": "light"
          },
          "paper_bgcolor": "white",
          "plot_bgcolor": "#E5ECF6",
          "polar": {
           "angularaxis": {
            "gridcolor": "white",
            "linecolor": "white",
            "ticks": ""
           },
           "bgcolor": "#E5ECF6",
           "radialaxis": {
            "gridcolor": "white",
            "linecolor": "white",
            "ticks": ""
           }
          },
          "scene": {
           "xaxis": {
            "backgroundcolor": "#E5ECF6",
            "gridcolor": "white",
            "gridwidth": 2,
            "linecolor": "white",
            "showbackground": true,
            "ticks": "",
            "zerolinecolor": "white"
           },
           "yaxis": {
            "backgroundcolor": "#E5ECF6",
            "gridcolor": "white",
            "gridwidth": 2,
            "linecolor": "white",
            "showbackground": true,
            "ticks": "",
            "zerolinecolor": "white"
           },
           "zaxis": {
            "backgroundcolor": "#E5ECF6",
            "gridcolor": "white",
            "gridwidth": 2,
            "linecolor": "white",
            "showbackground": true,
            "ticks": "",
            "zerolinecolor": "white"
           }
          },
          "shapedefaults": {
           "line": {
            "color": "#2a3f5f"
           }
          },
          "ternary": {
           "aaxis": {
            "gridcolor": "white",
            "linecolor": "white",
            "ticks": ""
           },
           "baxis": {
            "gridcolor": "white",
            "linecolor": "white",
            "ticks": ""
           },
           "bgcolor": "#E5ECF6",
           "caxis": {
            "gridcolor": "white",
            "linecolor": "white",
            "ticks": ""
           }
          },
          "title": {
           "x": 0.05
          },
          "xaxis": {
           "automargin": true,
           "gridcolor": "white",
           "linecolor": "white",
           "ticks": "",
           "title": {
            "standoff": 15
           },
           "zerolinecolor": "white",
           "zerolinewidth": 2
          },
          "yaxis": {
           "automargin": true,
           "gridcolor": "white",
           "linecolor": "white",
           "ticks": "",
           "title": {
            "standoff": 15
           },
           "zerolinecolor": "white",
           "zerolinewidth": 2
          }
         }
        },
        "title": {
         "text": "Espectro político"
        },
        "xaxis": {
         "anchor": "y",
         "domain": [
          0,
          1
         ],
         "title": {
          "text": "espectro_politico"
         }
        },
        "yaxis": {
         "anchor": "x",
         "domain": [
          0,
          1
         ],
         "title": {
          "text": "count"
         }
        }
       }
      }
     },
     "metadata": {},
     "output_type": "display_data"
    }
   ],
   "source": [
    "fig = px.bar(espectro_politico, y='count', x='espectro_politico',  text_auto='.2s', title='Espectro político')\n",
    "fig.show()"
   ]
  },
  {
   "cell_type": "markdown",
   "id": "d84c3a31",
   "metadata": {},
   "source": [
    "# Avaliando Gastos"
   ]
  },
  {
   "cell_type": "code",
   "execution_count": 16,
   "id": "cf30a0e8",
   "metadata": {},
   "outputs": [
    {
     "name": "stdout",
     "output_type": "stream",
     "text": [
      "<class 'pandas.core.frame.DataFrame'>\n",
      "RangeIndex: 7597 entries, 0 to 7596\n",
      "Data columns (total 32 columns):\n",
      " #   Column               Non-Null Count  Dtype  \n",
      "---  ------               --------------  -----  \n",
      " 0   id                   7597 non-null   int64  \n",
      " 1   nome                 7597 non-null   object \n",
      " 2   siglaPartido         7597 non-null   object \n",
      " 3   siglaUf              7597 non-null   object \n",
      " 4   idLegislatura        7597 non-null   int64  \n",
      " 5   urlFoto              7597 non-null   object \n",
      " 6   email                7597 non-null   object \n",
      " 7   nomeCivil            7597 non-null   object \n",
      " 8   cpf                  7597 non-null   int64  \n",
      " 9   sexo                 7597 non-null   object \n",
      " 10  dataNascimento       7597 non-null   object \n",
      " 11  ufNascimento         7597 non-null   object \n",
      " 12  municipioNascimento  7597 non-null   object \n",
      " 13  escolaridade         7452 non-null   object \n",
      " 14  ano                  7597 non-null   float64\n",
      " 15  mes                  7597 non-null   float64\n",
      " 16  tipoDespesa          7597 non-null   object \n",
      " 17  codDocumento         7597 non-null   float64\n",
      " 18  tipoDocumento        7597 non-null   object \n",
      " 19  codTipoDocumento     7597 non-null   float64\n",
      " 20  dataDocumento        7597 non-null   object \n",
      " 21  numDocumento         7597 non-null   object \n",
      " 22  valorDocumento       7597 non-null   float64\n",
      " 23  urlDocumento         7316 non-null   object \n",
      " 24  nomeFornecedor       7597 non-null   object \n",
      " 25  cnpjCpfFornecedor    7365 non-null   float64\n",
      " 26  valorLiquido         7597 non-null   float64\n",
      " 27  valorGlosa           7597 non-null   float64\n",
      " 28  numRessarcimento     238 non-null    float64\n",
      " 29  codLote              7597 non-null   float64\n",
      " 30  parcela              7597 non-null   float64\n",
      " 31  espectro_politico    7597 non-null   object \n",
      "dtypes: float64(11), int64(3), object(18)\n",
      "memory usage: 1.9+ MB\n"
     ]
    }
   ],
   "source": [
    "df.info()"
   ]
  },
  {
   "cell_type": "code",
   "execution_count": null,
   "id": "39ae6486",
   "metadata": {},
   "outputs": [],
   "source": []
  },
  {
   "cell_type": "code",
   "execution_count": 17,
   "id": "83eb38ce",
   "metadata": {},
   "outputs": [
    {
     "data": {
      "text/html": [
       "<div>\n",
       "<style scoped>\n",
       "    .dataframe tbody tr th:only-of-type {\n",
       "        vertical-align: middle;\n",
       "    }\n",
       "\n",
       "    .dataframe tbody tr th {\n",
       "        vertical-align: top;\n",
       "    }\n",
       "\n",
       "    .dataframe thead th {\n",
       "        text-align: right;\n",
       "    }\n",
       "</style>\n",
       "<table border=\"1\" class=\"dataframe\">\n",
       "  <thead>\n",
       "    <tr style=\"text-align: right;\">\n",
       "      <th></th>\n",
       "      <th>tipoDespesa</th>\n",
       "      <th>valorLiquido</th>\n",
       "      <th>numero_despesas</th>\n",
       "    </tr>\n",
       "  </thead>\n",
       "  <tbody>\n",
       "    <tr>\n",
       "      <th>0</th>\n",
       "      <td>DIVULGAÇÃO DA ATIVIDADE PARLAMENTAR.</td>\n",
       "      <td>7300411.30</td>\n",
       "      <td>588</td>\n",
       "    </tr>\n",
       "    <tr>\n",
       "      <th>1</th>\n",
       "      <td>MANUTENÇÃO DE ESCRITÓRIO DE APOIO À ATIVIDADE ...</td>\n",
       "      <td>5818586.74</td>\n",
       "      <td>3214</td>\n",
       "    </tr>\n",
       "    <tr>\n",
       "      <th>2</th>\n",
       "      <td>COMBUSTÍVEIS E LUBRIFICANTES.</td>\n",
       "      <td>1522687.16</td>\n",
       "      <td>3322</td>\n",
       "    </tr>\n",
       "    <tr>\n",
       "      <th>3</th>\n",
       "      <td>LOCAÇÃO OU FRETAMENTO DE VEÍCULOS AUTOMOTORES</td>\n",
       "      <td>725317.86</td>\n",
       "      <td>96</td>\n",
       "    </tr>\n",
       "    <tr>\n",
       "      <th>4</th>\n",
       "      <td>PASSAGEM AÉREA - SIGEPA</td>\n",
       "      <td>262376.42</td>\n",
       "      <td>232</td>\n",
       "    </tr>\n",
       "    <tr>\n",
       "      <th>5</th>\n",
       "      <td>LOCAÇÃO OU FRETAMENTO DE AERONAVES</td>\n",
       "      <td>216182.71</td>\n",
       "      <td>9</td>\n",
       "    </tr>\n",
       "    <tr>\n",
       "      <th>6</th>\n",
       "      <td>SERVIÇO DE SEGURANÇA PRESTADO POR EMPRESA ESPE...</td>\n",
       "      <td>64694.48</td>\n",
       "      <td>10</td>\n",
       "    </tr>\n",
       "    <tr>\n",
       "      <th>7</th>\n",
       "      <td>LOCAÇÃO OU FRETAMENTO DE EMBARCAÇÕES</td>\n",
       "      <td>37800.00</td>\n",
       "      <td>7</td>\n",
       "    </tr>\n",
       "    <tr>\n",
       "      <th>8</th>\n",
       "      <td>HOSPEDAGEM ,EXCETO DO PARLAMENTAR NO DISTRITO ...</td>\n",
       "      <td>23551.23</td>\n",
       "      <td>18</td>\n",
       "    </tr>\n",
       "    <tr>\n",
       "      <th>9</th>\n",
       "      <td>PASSAGEM AÉREA - REEMBOLSO</td>\n",
       "      <td>20921.54</td>\n",
       "      <td>7</td>\n",
       "    </tr>\n",
       "    <tr>\n",
       "      <th>10</th>\n",
       "      <td>TELEFONIA</td>\n",
       "      <td>20609.69</td>\n",
       "      <td>54</td>\n",
       "    </tr>\n",
       "    <tr>\n",
       "      <th>11</th>\n",
       "      <td>PASSAGEM AÉREA - RPA</td>\n",
       "      <td>10615.90</td>\n",
       "      <td>6</td>\n",
       "    </tr>\n",
       "    <tr>\n",
       "      <th>12</th>\n",
       "      <td>FORNECIMENTO DE ALIMENTAÇÃO DO PARLAMENTAR</td>\n",
       "      <td>1416.20</td>\n",
       "      <td>18</td>\n",
       "    </tr>\n",
       "    <tr>\n",
       "      <th>13</th>\n",
       "      <td>SERVIÇO DE TÁXI, PEDÁGIO E ESTACIONAMENTO</td>\n",
       "      <td>616.73</td>\n",
       "      <td>15</td>\n",
       "    </tr>\n",
       "    <tr>\n",
       "      <th>14</th>\n",
       "      <td>ASSINATURA DE PUBLICAÇÕES</td>\n",
       "      <td>178.00</td>\n",
       "      <td>1</td>\n",
       "    </tr>\n",
       "  </tbody>\n",
       "</table>\n",
       "</div>"
      ],
      "text/plain": [
       "                                          tipoDespesa  valorLiquido  \\\n",
       "0                DIVULGAÇÃO DA ATIVIDADE PARLAMENTAR.    7300411.30   \n",
       "1   MANUTENÇÃO DE ESCRITÓRIO DE APOIO À ATIVIDADE ...    5818586.74   \n",
       "2                       COMBUSTÍVEIS E LUBRIFICANTES.    1522687.16   \n",
       "3       LOCAÇÃO OU FRETAMENTO DE VEÍCULOS AUTOMOTORES     725317.86   \n",
       "4                             PASSAGEM AÉREA - SIGEPA     262376.42   \n",
       "5                  LOCAÇÃO OU FRETAMENTO DE AERONAVES     216182.71   \n",
       "6   SERVIÇO DE SEGURANÇA PRESTADO POR EMPRESA ESPE...      64694.48   \n",
       "7                LOCAÇÃO OU FRETAMENTO DE EMBARCAÇÕES      37800.00   \n",
       "8   HOSPEDAGEM ,EXCETO DO PARLAMENTAR NO DISTRITO ...      23551.23   \n",
       "9                          PASSAGEM AÉREA - REEMBOLSO      20921.54   \n",
       "10                                          TELEFONIA      20609.69   \n",
       "11                               PASSAGEM AÉREA - RPA      10615.90   \n",
       "12         FORNECIMENTO DE ALIMENTAÇÃO DO PARLAMENTAR       1416.20   \n",
       "13          SERVIÇO DE TÁXI, PEDÁGIO E ESTACIONAMENTO        616.73   \n",
       "14                          ASSINATURA DE PUBLICAÇÕES        178.00   \n",
       "\n",
       "    numero_despesas  \n",
       "0               588  \n",
       "1              3214  \n",
       "2              3322  \n",
       "3                96  \n",
       "4               232  \n",
       "5                 9  \n",
       "6                10  \n",
       "7                 7  \n",
       "8                18  \n",
       "9                 7  \n",
       "10               54  \n",
       "11                6  \n",
       "12               18  \n",
       "13               15  \n",
       "14                1  "
      ]
     },
     "execution_count": 17,
     "metadata": {},
     "output_type": "execute_result"
    }
   ],
   "source": [
    "gastos = df.groupby('tipoDespesa')['valorLiquido'].sum().sort_values(ascending=False)\n",
    "gastos = pd.DataFrame(gastos).reset_index()\n",
    "gastos['numero_despesas'] = gastos['tipoDespesa'].map(df['tipoDespesa'].value_counts())\n",
    "gastos"
   ]
  },
  {
   "cell_type": "code",
   "execution_count": 18,
   "id": "434632d4",
   "metadata": {},
   "outputs": [
    {
     "data": {
      "text/html": [
       "<div>\n",
       "<style scoped>\n",
       "    .dataframe tbody tr th:only-of-type {\n",
       "        vertical-align: middle;\n",
       "    }\n",
       "\n",
       "    .dataframe tbody tr th {\n",
       "        vertical-align: top;\n",
       "    }\n",
       "\n",
       "    .dataframe thead th {\n",
       "        text-align: right;\n",
       "    }\n",
       "</style>\n",
       "<table border=\"1\" class=\"dataframe\">\n",
       "  <thead>\n",
       "    <tr style=\"text-align: right;\">\n",
       "      <th></th>\n",
       "      <th>nomeFornecedor</th>\n",
       "      <th>valorLiquido</th>\n",
       "      <th>numero_despesas</th>\n",
       "      <th>nomeCivil</th>\n",
       "    </tr>\n",
       "  </thead>\n",
       "  <tbody>\n",
       "    <tr>\n",
       "      <th>0</th>\n",
       "      <td>STUDIO AB - CRIATIVIDADE VISUAL EIRELI - EPP</td>\n",
       "      <td>234870.0</td>\n",
       "      <td>3</td>\n",
       "      <td>MARCO ANTÔNIO FELICIANO</td>\n",
       "    </tr>\n",
       "    <tr>\n",
       "      <th>1</th>\n",
       "      <td>STUDIO AB - CRIATIVIDADE VISUAL EIRELI - EPP</td>\n",
       "      <td>234870.0</td>\n",
       "      <td>3</td>\n",
       "      <td>MARCO ANTÔNIO FELICIANO</td>\n",
       "    </tr>\n",
       "    <tr>\n",
       "      <th>2</th>\n",
       "      <td>STUDIO AB - CRIATIVIDADE VISUAL EIRELI - EPP</td>\n",
       "      <td>234870.0</td>\n",
       "      <td>3</td>\n",
       "      <td>MARCO ANTÔNIO FELICIANO</td>\n",
       "    </tr>\n",
       "    <tr>\n",
       "      <th>3</th>\n",
       "      <td>FLEX PRINT GRAFICA EIRELI</td>\n",
       "      <td>197854.0</td>\n",
       "      <td>6</td>\n",
       "      <td>GLAUSKSTON BATISTA RIOS</td>\n",
       "    </tr>\n",
       "    <tr>\n",
       "      <th>4</th>\n",
       "      <td>FLEX PRINT GRAFICA EIRELI</td>\n",
       "      <td>197854.0</td>\n",
       "      <td>6</td>\n",
       "      <td>GLAUSKSTON BATISTA RIOS</td>\n",
       "    </tr>\n",
       "    <tr>\n",
       "      <th>...</th>\n",
       "      <td>...</td>\n",
       "      <td>...</td>\n",
       "      <td>...</td>\n",
       "      <td>...</td>\n",
       "    </tr>\n",
       "    <tr>\n",
       "      <th>583</th>\n",
       "      <td>Elison da Conceicao Antunes Menezes 0011274514...</td>\n",
       "      <td>300.0</td>\n",
       "      <td>1</td>\n",
       "      <td>LUCIENE CAVALCANTE DA SILVA</td>\n",
       "    </tr>\n",
       "    <tr>\n",
       "      <th>584</th>\n",
       "      <td>AVA COMUNICACAO</td>\n",
       "      <td>240.0</td>\n",
       "      <td>2</td>\n",
       "      <td>DAGOBERTO NOGUEIRA FILHO</td>\n",
       "    </tr>\n",
       "    <tr>\n",
       "      <th>585</th>\n",
       "      <td>AVA COMUNICACAO</td>\n",
       "      <td>240.0</td>\n",
       "      <td>2</td>\n",
       "      <td>DAGOBERTO NOGUEIRA FILHO</td>\n",
       "    </tr>\n",
       "    <tr>\n",
       "      <th>586</th>\n",
       "      <td>Bureau de Tecnologia LTDA</td>\n",
       "      <td>130.0</td>\n",
       "      <td>2</td>\n",
       "      <td>LUIZ PHILIPPE DE ORLEANS BRAGANÇA</td>\n",
       "    </tr>\n",
       "    <tr>\n",
       "      <th>587</th>\n",
       "      <td>Bureau de Tecnologia LTDA</td>\n",
       "      <td>130.0</td>\n",
       "      <td>2</td>\n",
       "      <td>LUIZ PHILIPPE DE ORLEANS BRAGANÇA</td>\n",
       "    </tr>\n",
       "  </tbody>\n",
       "</table>\n",
       "<p>588 rows × 4 columns</p>\n",
       "</div>"
      ],
      "text/plain": [
       "                                        nomeFornecedor  valorLiquido  \\\n",
       "0         STUDIO AB - CRIATIVIDADE VISUAL EIRELI - EPP      234870.0   \n",
       "1         STUDIO AB - CRIATIVIDADE VISUAL EIRELI - EPP      234870.0   \n",
       "2         STUDIO AB - CRIATIVIDADE VISUAL EIRELI - EPP      234870.0   \n",
       "3                            FLEX PRINT GRAFICA EIRELI      197854.0   \n",
       "4                            FLEX PRINT GRAFICA EIRELI      197854.0   \n",
       "..                                                 ...           ...   \n",
       "583  Elison da Conceicao Antunes Menezes 0011274514...         300.0   \n",
       "584                                    AVA COMUNICACAO         240.0   \n",
       "585                                    AVA COMUNICACAO         240.0   \n",
       "586                          Bureau de Tecnologia LTDA         130.0   \n",
       "587                          Bureau de Tecnologia LTDA         130.0   \n",
       "\n",
       "     numero_despesas                          nomeCivil  \n",
       "0                  3            MARCO ANTÔNIO FELICIANO  \n",
       "1                  3            MARCO ANTÔNIO FELICIANO  \n",
       "2                  3            MARCO ANTÔNIO FELICIANO  \n",
       "3                  6            GLAUSKSTON BATISTA RIOS  \n",
       "4                  6            GLAUSKSTON BATISTA RIOS  \n",
       "..               ...                                ...  \n",
       "583                1        LUCIENE CAVALCANTE DA SILVA  \n",
       "584                2           DAGOBERTO NOGUEIRA FILHO  \n",
       "585                2           DAGOBERTO NOGUEIRA FILHO  \n",
       "586                2  LUIZ PHILIPPE DE ORLEANS BRAGANÇA  \n",
       "587                2  LUIZ PHILIPPE DE ORLEANS BRAGANÇA  \n",
       "\n",
       "[588 rows x 4 columns]"
      ]
     },
     "execution_count": 18,
     "metadata": {},
     "output_type": "execute_result"
    }
   ],
   "source": [
    "df_atividade_parlamentar = df[df['tipoDespesa'] == 'DIVULGAÇÃO DA ATIVIDADE PARLAMENTAR.']\n",
    "gastos_divulgacao = df_atividade_parlamentar.groupby('nomeFornecedor')['valorLiquido'].sum().sort_values(ascending=False)\n",
    "gastos_divulgacao = pd.DataFrame(gastos_divulgacao).reset_index()\n",
    "gastos_divulgacao['numero_despesas'] = gastos_divulgacao['nomeFornecedor'].map(df_atividade_parlamentar['nomeFornecedor'].value_counts())\n",
    "# Adicionando uma nova coluna com o nome do deputado responsável pela despesa\n",
    "gastos_divulgacao = gastos_divulgacao.merge(\n",
    "    df_atividade_parlamentar[['nomeFornecedor', 'nomeCivil']],\n",
    "    on='nomeFornecedor',\n",
    "    how='left'\n",
    ")\n",
    "\n",
    "gastos_divulgacao"
   ]
  },
  {
   "cell_type": "code",
   "execution_count": 19,
   "id": "8e2f0c60",
   "metadata": {},
   "outputs": [
    {
     "data": {
      "text/html": [
       "<div>\n",
       "<style scoped>\n",
       "    .dataframe tbody tr th:only-of-type {\n",
       "        vertical-align: middle;\n",
       "    }\n",
       "\n",
       "    .dataframe tbody tr th {\n",
       "        vertical-align: top;\n",
       "    }\n",
       "\n",
       "    .dataframe thead th {\n",
       "        text-align: right;\n",
       "    }\n",
       "</style>\n",
       "<table border=\"1\" class=\"dataframe\">\n",
       "  <thead>\n",
       "    <tr style=\"text-align: right;\">\n",
       "      <th></th>\n",
       "      <th>id</th>\n",
       "      <th>nome</th>\n",
       "      <th>siglaPartido</th>\n",
       "      <th>siglaUf</th>\n",
       "      <th>idLegislatura</th>\n",
       "      <th>urlFoto</th>\n",
       "      <th>email</th>\n",
       "      <th>nomeCivil</th>\n",
       "      <th>cpf</th>\n",
       "      <th>sexo</th>\n",
       "      <th>dataNascimento</th>\n",
       "      <th>ufNascimento</th>\n",
       "      <th>municipioNascimento</th>\n",
       "      <th>escolaridade</th>\n",
       "      <th>ano</th>\n",
       "      <th>mes</th>\n",
       "      <th>tipoDespesa</th>\n",
       "      <th>codDocumento</th>\n",
       "      <th>tipoDocumento</th>\n",
       "      <th>codTipoDocumento</th>\n",
       "      <th>dataDocumento</th>\n",
       "      <th>numDocumento</th>\n",
       "      <th>valorDocumento</th>\n",
       "      <th>urlDocumento</th>\n",
       "      <th>nomeFornecedor</th>\n",
       "      <th>cnpjCpfFornecedor</th>\n",
       "      <th>valorLiquido</th>\n",
       "      <th>valorGlosa</th>\n",
       "      <th>numRessarcimento</th>\n",
       "      <th>codLote</th>\n",
       "      <th>parcela</th>\n",
       "      <th>espectro_politico</th>\n",
       "    </tr>\n",
       "  </thead>\n",
       "  <tbody>\n",
       "    <tr>\n",
       "      <th>6160</th>\n",
       "      <td>160601</td>\n",
       "      <td>Pr. Marco Feliciano</td>\n",
       "      <td>PL</td>\n",
       "      <td>SP</td>\n",
       "      <td>57</td>\n",
       "      <td>https://www.camara.leg.br/internet/deputado/ba...</td>\n",
       "      <td>dep.pr.marcofeliciano@camara.leg.br</td>\n",
       "      <td>MARCO ANTÔNIO FELICIANO</td>\n",
       "      <td>13117532811</td>\n",
       "      <td>M</td>\n",
       "      <td>1972-10-12</td>\n",
       "      <td>SP</td>\n",
       "      <td>Orlândia</td>\n",
       "      <td>Superior</td>\n",
       "      <td>2024.0</td>\n",
       "      <td>11.0</td>\n",
       "      <td>DIVULGAÇÃO DA ATIVIDADE PARLAMENTAR.</td>\n",
       "      <td>7835839.0</td>\n",
       "      <td>Nota Fiscal</td>\n",
       "      <td>0.0</td>\n",
       "      <td>2024-11-26T00:00:00</td>\n",
       "      <td>000001771</td>\n",
       "      <td>65000.0</td>\n",
       "      <td>https://www.camara.leg.br/cota-parlamentar/doc...</td>\n",
       "      <td>STUDIO AB - CRIATIVIDADE VISUAL EIRELI - EPP</td>\n",
       "      <td>3.502994e+13</td>\n",
       "      <td>65000.0</td>\n",
       "      <td>0.0</td>\n",
       "      <td>NaN</td>\n",
       "      <td>2091912.0</td>\n",
       "      <td>0.0</td>\n",
       "      <td>Centro-direita</td>\n",
       "    </tr>\n",
       "    <tr>\n",
       "      <th>6161</th>\n",
       "      <td>160601</td>\n",
       "      <td>Pr. Marco Feliciano</td>\n",
       "      <td>PL</td>\n",
       "      <td>SP</td>\n",
       "      <td>57</td>\n",
       "      <td>https://www.camara.leg.br/internet/deputado/ba...</td>\n",
       "      <td>dep.pr.marcofeliciano@camara.leg.br</td>\n",
       "      <td>MARCO ANTÔNIO FELICIANO</td>\n",
       "      <td>13117532811</td>\n",
       "      <td>M</td>\n",
       "      <td>1972-10-12</td>\n",
       "      <td>SP</td>\n",
       "      <td>Orlândia</td>\n",
       "      <td>Superior</td>\n",
       "      <td>2024.0</td>\n",
       "      <td>10.0</td>\n",
       "      <td>DIVULGAÇÃO DA ATIVIDADE PARLAMENTAR.</td>\n",
       "      <td>7835829.0</td>\n",
       "      <td>Nota Fiscal</td>\n",
       "      <td>0.0</td>\n",
       "      <td>2024-11-26T00:00:00</td>\n",
       "      <td>00001770</td>\n",
       "      <td>70000.0</td>\n",
       "      <td>https://www.camara.leg.br/cota-parlamentar/doc...</td>\n",
       "      <td>STUDIO AB - CRIATIVIDADE VISUAL EIRELI - EPP</td>\n",
       "      <td>3.502994e+13</td>\n",
       "      <td>70000.0</td>\n",
       "      <td>0.0</td>\n",
       "      <td>NaN</td>\n",
       "      <td>2091910.0</td>\n",
       "      <td>0.0</td>\n",
       "      <td>Centro-direita</td>\n",
       "    </tr>\n",
       "    <tr>\n",
       "      <th>6162</th>\n",
       "      <td>160601</td>\n",
       "      <td>Pr. Marco Feliciano</td>\n",
       "      <td>PL</td>\n",
       "      <td>SP</td>\n",
       "      <td>57</td>\n",
       "      <td>https://www.camara.leg.br/internet/deputado/ba...</td>\n",
       "      <td>dep.pr.marcofeliciano@camara.leg.br</td>\n",
       "      <td>MARCO ANTÔNIO FELICIANO</td>\n",
       "      <td>13117532811</td>\n",
       "      <td>M</td>\n",
       "      <td>1972-10-12</td>\n",
       "      <td>SP</td>\n",
       "      <td>Orlândia</td>\n",
       "      <td>Superior</td>\n",
       "      <td>2024.0</td>\n",
       "      <td>12.0</td>\n",
       "      <td>DIVULGAÇÃO DA ATIVIDADE PARLAMENTAR.</td>\n",
       "      <td>7850688.0</td>\n",
       "      <td>Nota Fiscal</td>\n",
       "      <td>0.0</td>\n",
       "      <td>2024-12-20T00:00:00</td>\n",
       "      <td>00001778</td>\n",
       "      <td>99870.0</td>\n",
       "      <td>https://www.camara.leg.br/cota-parlamentar/doc...</td>\n",
       "      <td>STUDIO AB - CRIATIVIDADE VISUAL EIRELI - EPP</td>\n",
       "      <td>3.502994e+13</td>\n",
       "      <td>99870.0</td>\n",
       "      <td>0.0</td>\n",
       "      <td>NaN</td>\n",
       "      <td>2099989.0</td>\n",
       "      <td>0.0</td>\n",
       "      <td>Centro-direita</td>\n",
       "    </tr>\n",
       "  </tbody>\n",
       "</table>\n",
       "</div>"
      ],
      "text/plain": [
       "          id                 nome siglaPartido siglaUf  idLegislatura  \\\n",
       "6160  160601  Pr. Marco Feliciano           PL      SP             57   \n",
       "6161  160601  Pr. Marco Feliciano           PL      SP             57   \n",
       "6162  160601  Pr. Marco Feliciano           PL      SP             57   \n",
       "\n",
       "                                                urlFoto  \\\n",
       "6160  https://www.camara.leg.br/internet/deputado/ba...   \n",
       "6161  https://www.camara.leg.br/internet/deputado/ba...   \n",
       "6162  https://www.camara.leg.br/internet/deputado/ba...   \n",
       "\n",
       "                                    email                nomeCivil  \\\n",
       "6160  dep.pr.marcofeliciano@camara.leg.br  MARCO ANTÔNIO FELICIANO   \n",
       "6161  dep.pr.marcofeliciano@camara.leg.br  MARCO ANTÔNIO FELICIANO   \n",
       "6162  dep.pr.marcofeliciano@camara.leg.br  MARCO ANTÔNIO FELICIANO   \n",
       "\n",
       "              cpf sexo dataNascimento ufNascimento municipioNascimento  \\\n",
       "6160  13117532811    M     1972-10-12           SP            Orlândia   \n",
       "6161  13117532811    M     1972-10-12           SP            Orlândia   \n",
       "6162  13117532811    M     1972-10-12           SP            Orlândia   \n",
       "\n",
       "     escolaridade     ano   mes                           tipoDespesa  \\\n",
       "6160     Superior  2024.0  11.0  DIVULGAÇÃO DA ATIVIDADE PARLAMENTAR.   \n",
       "6161     Superior  2024.0  10.0  DIVULGAÇÃO DA ATIVIDADE PARLAMENTAR.   \n",
       "6162     Superior  2024.0  12.0  DIVULGAÇÃO DA ATIVIDADE PARLAMENTAR.   \n",
       "\n",
       "      codDocumento tipoDocumento  codTipoDocumento        dataDocumento  \\\n",
       "6160     7835839.0   Nota Fiscal               0.0  2024-11-26T00:00:00   \n",
       "6161     7835829.0   Nota Fiscal               0.0  2024-11-26T00:00:00   \n",
       "6162     7850688.0   Nota Fiscal               0.0  2024-12-20T00:00:00   \n",
       "\n",
       "     numDocumento  valorDocumento  \\\n",
       "6160    000001771         65000.0   \n",
       "6161     00001770         70000.0   \n",
       "6162     00001778         99870.0   \n",
       "\n",
       "                                           urlDocumento  \\\n",
       "6160  https://www.camara.leg.br/cota-parlamentar/doc...   \n",
       "6161  https://www.camara.leg.br/cota-parlamentar/doc...   \n",
       "6162  https://www.camara.leg.br/cota-parlamentar/doc...   \n",
       "\n",
       "                                    nomeFornecedor  cnpjCpfFornecedor  \\\n",
       "6160  STUDIO AB - CRIATIVIDADE VISUAL EIRELI - EPP       3.502994e+13   \n",
       "6161  STUDIO AB - CRIATIVIDADE VISUAL EIRELI - EPP       3.502994e+13   \n",
       "6162  STUDIO AB - CRIATIVIDADE VISUAL EIRELI - EPP       3.502994e+13   \n",
       "\n",
       "      valorLiquido  valorGlosa  numRessarcimento    codLote  parcela  \\\n",
       "6160       65000.0         0.0               NaN  2091912.0      0.0   \n",
       "6161       70000.0         0.0               NaN  2091910.0      0.0   \n",
       "6162       99870.0         0.0               NaN  2099989.0      0.0   \n",
       "\n",
       "     espectro_politico  \n",
       "6160    Centro-direita  \n",
       "6161    Centro-direita  \n",
       "6162    Centro-direita  "
      ]
     },
     "execution_count": 19,
     "metadata": {},
     "output_type": "execute_result"
    }
   ],
   "source": [
    "filtro = df_atividade_parlamentar[df_atividade_parlamentar['nomeFornecedor'] == 'STUDIO AB - CRIATIVIDADE VISUAL EIRELI - EPP']\n",
    "filtro"
   ]
  }
 ],
 "metadata": {
  "kernelspec": {
   "display_name": "dataglowup-43-ZP4UPBpA-py3.12",
   "language": "python",
   "name": "python3"
  },
  "language_info": {
   "codemirror_mode": {
    "name": "ipython",
    "version": 3
   },
   "file_extension": ".py",
   "mimetype": "text/x-python",
   "name": "python",
   "nbconvert_exporter": "python",
   "pygments_lexer": "ipython3",
   "version": "3.12.1"
  }
 },
 "nbformat": 4,
 "nbformat_minor": 5
}
